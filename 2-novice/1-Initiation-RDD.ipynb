{
 "cells": [
  {
   "cell_type": "markdown",
   "metadata": {},
   "source": [
    "Before you turn this problem in, make sure everything runs as expected. First, **restart the kernel** (in the menubar, select Kernel$\\rightarrow$Restart) and then **run all cells** (in the menubar, select Cell$\\rightarrow$Run All).\n",
    "\n",
    "Make sure you fill in any place that says `YOUR CODE HERE` or \"YOUR ANSWER HERE\", as well as your name and collaborators below:"
   ]
  },
  {
   "cell_type": "code",
   "execution_count": 1,
   "metadata": {},
   "outputs": [],
   "source": [
    "NAME = \"Vlad Maksyk\"\n",
    "COLLABORATORS = \"None\""
   ]
  },
  {
   "cell_type": "markdown",
   "metadata": {},
   "source": [
    "---"
   ]
  },
  {
   "cell_type": "markdown",
   "metadata": {
    "deletable": false,
    "editable": false,
    "nbgrader": {
     "cell_type": "markdown",
     "checksum": "da2a8aca98449262e2378ed329769175",
     "grade": false,
     "grade_id": "cell-789d302adeedd3cf",
     "locked": true,
     "schema_version": 3,
     "solution": false
    }
   },
   "source": [
    "---\n",
    "# First steps into Spark\n",
    "\n",
    "In this notebook, we will launch our very first Spark code.\n",
    "\n",
    "![Spark logo](http://spark.apache.org/images/spark-logo-trademark.png)\n",
    "\n",
    "[Apache Spark](http://spark.apache.org/) is a cluster computing engine designed to be __fast__ and __general-purpose__, making it the ideal choice for processing of large datasets. It answers those two points with __efficient data sharing__ accross computations.\n",
    "<hr/>\n",
    "The past years have seen a major changes in computing systems, as growing data volumes required more and more applications to scale out to large clusters. To solve this problem, a wide range of new programming models have been designed to manage multiple types of computations in a distributed fashion, without having people learn too much about distributed systems. Those programming models would need to deal with _parallelism, fault-tolerance and resource sharing_ for us.\n",
    "\n",
    "[Google's MapReduce](https://en.wikipedia.org/wiki/MapReduce) presented a simple and general model for batch processing, which handles faults and parallelism easily. Unfortunately the programming model is not adapted for other types of workloads, and multiple specialized systems were born to answer a specific need in a distributed way. \n",
    "* Iterative : Giraph\n",
    "* Interactive : Impala, Piccolo, Greenplum\n",
    "* Streaming : Storm, Millwheel\n",
    "\n",
    "The initial goal of Apache Spark is to try and unify all of the workloads for generality purposes. [Matei Zaharia](https://cs.stanford.edu/~matei/) in his [PhD dissertation](https://www2.eecs.berkeley.edu/Pubs/TechRpts/2014/EECS-2014-12.pdf) suggests that most of the data flow models that required a specialized system needed _efficient data sharing_ accross computations:\n",
    "* Iterative algorithms like PageRank or K-Means need to make multiple passes over the same dataset\n",
    "* Interactive data mining often requires running multiple ad-hoc queries on the same subset of data\n",
    "* Streaming applications need to maintain and share state over time.\n",
    "\n",
    "He then proposes to create a new abstraction that gives its users direct control over data sharing, something that other specialized systems would have built-in for their specific needs. The abstraction is implemented inside a new engine that is today called Apache Spark. The engine makes it possible to support more types of computations than with the original MapReduce in a more efficient way, including interactive queries and stream processing. "
   ]
  },
  {
   "cell_type": "markdown",
   "metadata": {
    "deletable": false,
    "editable": false,
    "nbgrader": {
     "cell_type": "markdown",
     "checksum": "100bb44d69143162bd57423e88a63765",
     "grade": false,
     "grade_id": "cell-f13874c60f276475",
     "locked": true,
     "schema_version": 3,
     "solution": false
    }
   },
   "source": [
    "---\n",
    "## Prerequisites\n",
    "\n",
    "Before running Spark code, we need to start a SparkContext instance. The following block will be common to every notebook so you can run your code.\n",
    "\n",
    "While your SparkContext is running, you can hit `http://localhost:4040` to get an overview of your Spark local cluster and all operations ongoing."
   ]
  },
  {
   "cell_type": "code",
   "execution_count": 2,
   "metadata": {
    "deletable": false,
    "editable": false,
    "nbgrader": {
     "cell_type": "code",
     "checksum": "881c773abc4f0645a9261088dbc97f74",
     "grade": false,
     "grade_id": "initialize-sc",
     "locked": true,
     "schema_version": 3,
     "solution": false
    }
   },
   "outputs": [
    {
     "data": {
      "text/html": [
       "\n",
       "        <div>\n",
       "            <p><b>SparkContext</b></p>\n",
       "\n",
       "            <p><a href=\"http://DESKTOP-0A1DC1R:4041\">Spark UI</a></p>\n",
       "\n",
       "            <dl>\n",
       "              <dt>Version</dt>\n",
       "                <dd><code>v3.0.1</code></dd>\n",
       "              <dt>Master</dt>\n",
       "                <dd><code>local</code></dd>\n",
       "              <dt>AppName</dt>\n",
       "                <dd><code>lecture-lyon2</code></dd>\n",
       "            </dl>\n",
       "        </div>\n",
       "        "
      ],
      "text/plain": [
       "<SparkContext master=local appName=lecture-lyon2>"
      ]
     },
     "execution_count": 2,
     "metadata": {},
     "output_type": "execute_result"
    }
   ],
   "source": [
    "from pyspark import SparkContext, SparkConf\n",
    "\n",
    "conf = SparkConf().setAppName('lecture-lyon2').setMaster('local')\n",
    "sc = SparkContext.getOrCreate(conf=conf)\n",
    "sc"
   ]
  },
  {
   "cell_type": "code",
   "execution_count": 3,
   "metadata": {
    "deletable": false,
    "editable": false,
    "nbgrader": {
     "cell_type": "code",
     "checksum": "0ca9491827264a694b914f20812198bb",
     "grade": false,
     "grade_id": "cell-697fccdd14c7eba3",
     "locked": true,
     "schema_version": 3,
     "solution": false
    }
   },
   "outputs": [],
   "source": [
    "# Import other important libraries\n",
    "\n",
    "from pyspark.rdd import RDD"
   ]
  },
  {
   "cell_type": "code",
   "execution_count": 4,
   "metadata": {},
   "outputs": [],
   "source": [
    "filePath = 'FL_insurance_sample.csv'"
   ]
  },
  {
   "cell_type": "markdown",
   "metadata": {
    "deletable": false,
    "editable": false,
    "nbgrader": {
     "cell_type": "markdown",
     "checksum": "5f6a11d7cbd69eb0dad39b165e1bdfa8",
     "grade": false,
     "grade_id": "cell-a60d771258278db0",
     "locked": true,
     "schema_version": 3,
     "solution": false
    }
   },
   "source": [
    "---\n",
    "## Part A - Your first RDDs\n",
    "\n",
    "In this chapter, we are going to introduce Spark's core abstraction for working with data in a distributed and resilient way : the <text style=\"color:red;\">resilient distributed dataset</text>, or <text style=\"color:red;\">RDD</text>. Under the hood, Spark automatically performs the distribution of RDDs and its processing around the cluster, so we can focus on our code and not on distributed processing problems, such as the handling of data locality or resiliency in case of node failure.\n",
    "\n",
    "A RDD consists of a collection of elements partitioned accross the nodes of a cluster of machines that can be operated on in parallel. In Spark, work is expressed by the creation and transformation of RDDs using Spark operators.\n",
    "\n",
    "<text style=\"color:red;\">Note</text> : RDD is the core data structure to Spark, but the style of programming we are studying in this lesson is considered the _lowest-level API_ for Spark. The Spark community is pushing the use of Structured programming with Dataframes/Datasets instead, an optimized interface for working with structured and semi-structured data, which we will learn later. Understanding RDDs is still important because it teaches you how Spark works under the hood and will serve you to understand and optimize your application when deployed into production.\n",
    "\n",
    "There are two ways to create RDDs: parallelizing an existing collection in your driver program, or referencing a dataset in an external storage system, such as a shared filesystem, HDFS, HBase, or any data source offering a Hadoop InputFormat."
   ]
  },
  {
   "cell_type": "markdown",
   "metadata": {
    "deletable": false,
    "editable": false,
    "nbgrader": {
     "cell_type": "markdown",
     "checksum": "340125ef17236477990abd41627b94d4",
     "grade": false,
     "grade_id": "cell-21aba7e92534130a",
     "locked": true,
     "schema_version": 3,
     "solution": false
    }
   },
   "source": [
    "## Question\n",
    "\n",
    "Generate a RDD from a Python array with the `parallelize` method."
   ]
  },
  {
   "cell_type": "code",
   "execution_count": 5,
   "metadata": {},
   "outputs": [
    {
     "data": {
      "text/plain": [
       "[1, 2, 3]"
      ]
     },
     "execution_count": 5,
     "metadata": {},
     "output_type": "execute_result"
    }
   ],
   "source": [
    "sc.parallelize([1, 2, 3]).collect()"
   ]
  },
  {
   "cell_type": "code",
   "execution_count": 6,
   "metadata": {
    "deletable": false,
    "nbgrader": {
     "cell_type": "code",
     "checksum": "9f57422f9d38892d06a6f59b803a3a61",
     "grade": false,
     "grade_id": "cell-f93a6aa80b6e1473",
     "locked": false,
     "schema_version": 3,
     "solution": true
    }
   },
   "outputs": [],
   "source": [
    "def rdd_from_list(sc, n):\n",
    "    \"\"\"\n",
    "    Return a RDD consisting of elements from 1 to n. \n",
    "    For now we assume we will always get n > 1, no need to test for the exception nor raise an Exception.\n",
    "    \"\"\"\n",
    "    # YOUR CODE HERE\n",
    "    array = range(1,n+1)\n",
    "    rdd = sc.parallelize(array)\n",
    "    return rdd"
   ]
  },
  {
   "cell_type": "code",
   "execution_count": 7,
   "metadata": {
    "deletable": false,
    "editable": false,
    "nbgrader": {
     "cell_type": "code",
     "checksum": "815eb3db4a8d51d7cdc10cdd0d302302",
     "grade": true,
     "grade_id": "cell-2d7aaf01d097ce7d",
     "locked": true,
     "points": 1,
     "schema_version": 3,
     "solution": false
    }
   },
   "outputs": [
    {
     "name": "stdout",
     "output_type": "stream",
     "text": [
      "[1, 2, 3, 4, 5, 6, 7, 8, 9, 10]\n"
     ]
    }
   ],
   "source": [
    "\"\"\"\n",
    "Graded cell\n",
    "\n",
    "1 point\n",
    "\"\"\"\n",
    "# collect() method returns all elements in a RDD to the driver as a local list\n",
    "print(rdd_from_list(sc, 10).collect())\n",
    "\n",
    "result_rdd = rdd_from_list(sc, 3)\n",
    "\n",
    "assert isinstance(result_rdd, RDD)\n",
    "assert result_rdd.collect() == [1, 2, 3]"
   ]
  },
  {
   "cell_type": "markdown",
   "metadata": {
    "deletable": false,
    "editable": false,
    "nbgrader": {
     "cell_type": "markdown",
     "checksum": "eb399aea31e20fd467e31e89a8b19260",
     "grade": false,
     "grade_id": "cell-48b9991b1369dcef",
     "locked": true,
     "schema_version": 3,
     "solution": false
    }
   },
   "source": [
    "## Question\n",
    "\n",
    "Generate a RDD from a file with the `textFile()` method."
   ]
  },
  {
   "cell_type": "code",
   "execution_count": 8,
   "metadata": {},
   "outputs": [],
   "source": [
    "filePath = 'FL_insurance_sample.csv'"
   ]
  },
  {
   "cell_type": "code",
   "execution_count": 9,
   "metadata": {
    "deletable": false,
    "nbgrader": {
     "cell_type": "code",
     "checksum": "b5e8364128582bb09ea510e286a53277",
     "grade": false,
     "grade_id": "squares",
     "locked": false,
     "schema_version": 3,
     "solution": true
    }
   },
   "outputs": [],
   "source": [
    "def load_file_to_rdd(sc, path):\n",
    "    \"\"\"\n",
    "    Create a RDD by loading an external file. We don't expect any formatting nor processing here.\n",
    "    You don't need to raise an exception if the file does not exist.\n",
    "    \n",
    "    1 point\n",
    "    \"\"\"\n",
    "    # YOUR CODE HERE\n",
    "    titanic = sc.textFile(path)\n",
    "    return titanic"
   ]
  },
  {
   "cell_type": "code",
   "execution_count": 10,
   "metadata": {
    "deletable": false,
    "editable": false,
    "nbgrader": {
     "cell_type": "code",
     "checksum": "92d37d038773207e18ec53282a9f59a1",
     "grade": true,
     "grade_id": "cell-d3561f54014b6bb5",
     "locked": true,
     "points": 1,
     "schema_version": 3,
     "solution": false
    }
   },
   "outputs": [],
   "source": [
    "\"\"\"\n",
    "Graded cell\n",
    "\n",
    "1 point\n",
    "\"\"\"\n",
    "result_rdd = load_file_to_rdd(sc, filePath)\n",
    "\n",
    "assert isinstance(result_rdd, RDD)\n",
    "assert result_rdd.take(1)[0] == 'policyID,statecode,county,eq_site_limit,hu_site_limit,fl_site_limit,fr_site_limit,tiv_2011,tiv_2012,eq_site_deductible,hu_site_deductible,fl_site_deductible,fr_site_deductible,point_latitude,point_longitude,line,construction,point_granularity'"
   ]
  },
  {
   "cell_type": "markdown",
   "metadata": {
    "deletable": false,
    "editable": false,
    "nbgrader": {
     "cell_type": "markdown",
     "checksum": "b52be6d9dabe594e1f043681ae0d9ddb",
     "grade": false,
     "grade_id": "cell-f84584504c3c8bff",
     "locked": true,
     "schema_version": 3,
     "solution": false
    }
   },
   "source": [
    "---\n",
    "## Part B - Classic Spark operations\n",
    "\n",
    "### Operations\n",
    "\n",
    "RDDs have two sets of parallel operations:\n",
    "\n",
    "* transformations : which return pointers to new RDDs without computing them, it rather waits for an action to compute itself.\n",
    "* actions : which return values to the driver after running the computation. The `collect()` funcion is an operation which retrieves all elements of the distributed RDD to the driver.\n",
    "\n",
    "RDD transformations are _lazy_ in a sense they do not compute their results immediately.\n",
    "\n",
    "The following exercises study the usage of the most common Spark RDD operations."
   ]
  },
  {
   "cell_type": "markdown",
   "metadata": {
    "deletable": false,
    "editable": false,
    "nbgrader": {
     "cell_type": "markdown",
     "checksum": "0e2a22926ebfefc7c0eecac97ff33eff",
     "grade": false,
     "grade_id": "cell-7f116071ceb1c875",
     "locked": true,
     "schema_version": 3,
     "solution": false
    }
   },
   "source": [
    "### .map() and flatMap() transformation\n",
    "\n",
    "The `.map(function)` applies the function given in argument to each of the elements inside the RDD. \n",
    "\n",
    "The `.flatMap(function)` applies the function given in argument to each of the elements inside the RDD, then flattens the list so that there are no more nested elements inside it. "
   ]
  },
  {
   "cell_type": "markdown",
   "metadata": {
    "deletable": false,
    "editable": false,
    "nbgrader": {
     "cell_type": "markdown",
     "checksum": "b41ea877ed4c34ad77a6a3156ff957cc",
     "grade": false,
     "grade_id": "cell-342eb65e15ee383e",
     "locked": true,
     "schema_version": 3,
     "solution": false
    }
   },
   "source": [
    "# Question 1\n",
    "\n",
    "Suppose we have a RDD containing only lists of 2 elements :\n",
    "\n",
    "```\n",
    "matrix = [[1,3], [2,5], [8,9]]\n",
    "matrix_rdd = sc.parallelize(matrix)\n",
    "```\n",
    "\n",
    "This data structure is reminiscent of a matrix.\n",
    "\n",
    "Create an operation `.op1()` which multiplies the first column (or first coordinate of each element) of the matrix by 2, and removes 3 to the second column (second coordinate)."
   ]
  },
  {
   "cell_type": "code",
   "execution_count": 11,
   "metadata": {},
   "outputs": [
    {
     "data": {
      "text/plain": [
       "[1, 2]"
      ]
     },
     "execution_count": 11,
     "metadata": {},
     "output_type": "execute_result"
    }
   ],
   "source": [
    "sc.parallelize([[1,3], [2,9]]).map(lambda row: row[0]).collect()"
   ]
  },
  {
   "cell_type": "code",
   "execution_count": 12,
   "metadata": {
    "deletable": false,
    "nbgrader": {
     "cell_type": "code",
     "checksum": "1550ccb22d81b2142d4e85792a5cb77e",
     "grade": false,
     "grade_id": "cell-d1778b1b90db2aeb",
     "locked": false,
     "schema_version": 3,
     "solution": true
    }
   },
   "outputs": [],
   "source": [
    "def op1(sc, mat):\n",
    "    \"\"\"\n",
    "    Multiply the first coordinate by 2, substract three from the second\n",
    "    \"\"\"\n",
    "    rdd1 = mat.map(lambda row: [row[0]*2, row[1]-3])\n",
    "    return rdd1"
   ]
  },
  {
   "cell_type": "code",
   "execution_count": 13,
   "metadata": {},
   "outputs": [],
   "source": [
    "\"\"\"\n",
    "Graded cell\n",
    "\n",
    "1 point\n",
    "\"\"\"\n",
    "matrix = [[1,3], [2,5], [8,9]]\n",
    "matrix_rdd = sc.parallelize(matrix)\n",
    "result_rdd = op1(sc, matrix_rdd)\n",
    "\n",
    "assert isinstance(result_rdd, RDD)\n",
    "assert result_rdd.collect() == [[2, 0], [4, 2], [16, 6]]"
   ]
  },
  {
   "cell_type": "code",
   "execution_count": 14,
   "metadata": {
    "deletable": false,
    "editable": false,
    "nbgrader": {
     "cell_type": "code",
     "checksum": "f620f4a443bd47cb23536a64dbfe7d74",
     "grade": true,
     "grade_id": "cell-913b6c4734be52ae",
     "locked": true,
     "points": 1,
     "schema_version": 3,
     "solution": false
    }
   },
   "outputs": [],
   "source": [
    "\"\"\"\n",
    "Graded cell\n",
    "\n",
    "1 point\n",
    "\"\"\"\n",
    "matrix = [[1,3], [2,5], [8,9]]\n",
    "matrix_rdd = sc.parallelize(matrix)\n",
    "result_rdd = op1(sc, matrix_rdd)\n",
    "\n",
    "assert isinstance(result_rdd, RDD)\n",
    "assert result_rdd.collect() == [[2, 0], [4, 2], [16, 6]]"
   ]
  },
  {
   "cell_type": "markdown",
   "metadata": {
    "deletable": false,
    "editable": false,
    "nbgrader": {
     "cell_type": "markdown",
     "checksum": "0e8e9388a991c4953fd9bc0f0f4692c3",
     "grade": false,
     "grade_id": "cell-ced2f194638cfde2",
     "locked": true,
     "schema_version": 3,
     "solution": false
    }
   },
   "source": [
    "# Question 2\n",
    "\n",
    "Suppose we have a RDD containing sentences :\n",
    "\n",
    "```\n",
    "sentences_rdd = sc.parallelize(['Hi everybody', 'My name is Fanilo', 'and your name is Antoine everybody'])\n",
    "```\n",
    "\n",
    "Create an operation `.op2()` which returns all the words in the rdd, after splitting each sentence by the whitespace character."
   ]
  },
  {
   "cell_type": "code",
   "execution_count": null,
   "metadata": {},
   "outputs": [],
   "source": []
  },
  {
   "cell_type": "code",
   "execution_count": 15,
   "metadata": {
    "deletable": false,
    "nbgrader": {
     "cell_type": "code",
     "checksum": "6de176074414140f241f900336e371bc",
     "grade": false,
     "grade_id": "cell-bbcf429e5c91a361",
     "locked": false,
     "schema_version": 3,
     "solution": true
    }
   },
   "outputs": [],
   "source": [
    "def op2(sc, sentences):\n",
    "    \"\"\"\n",
    "    Return all words contained in the sentences.    \n",
    "    \"\"\"\n",
    "    # YOUR CODE HERE\n",
    "    result = sentences.flatMap(lambda sentence: sentence.split(\" \"))\n",
    "    return result"
   ]
  },
  {
   "cell_type": "code",
   "execution_count": 16,
   "metadata": {},
   "outputs": [
    {
     "name": "stdout",
     "output_type": "stream",
     "text": [
      "['Hi', 'everybody', 'My', 'name', 'is', 'Fanilo', 'and', 'your', 'name', 'is', 'Antoine', 'everybody']\n"
     ]
    }
   ],
   "source": [
    "\"\"\"\n",
    "Graded cell\n",
    "\n",
    "1 point\n",
    "\"\"\"\n",
    "sentences_rdd = sc.parallelize(['Hi everybody', 'My name is Fanilo', 'and your name is Antoine everybody'])\n",
    "result_rdd = op2(sc, sentences_rdd)\n",
    "print(result_rdd.collect())\n",
    "\n",
    "assert isinstance(result_rdd, RDD)\n",
    "assert result_rdd.collect() == ['Hi', 'everybody', 'My', 'name', 'is', 'Fanilo', 'and', 'your', 'name', 'is', 'Antoine', 'everybody']"
   ]
  },
  {
   "cell_type": "code",
   "execution_count": 17,
   "metadata": {
    "deletable": false,
    "editable": false,
    "nbgrader": {
     "cell_type": "code",
     "checksum": "c826aa7f030eb1e35acd1a9999d71fdf",
     "grade": true,
     "grade_id": "cell-36ff5247a47b2779",
     "locked": true,
     "points": 1,
     "schema_version": 3,
     "solution": false
    }
   },
   "outputs": [],
   "source": [
    "\"\"\"\n",
    "Graded cell\n",
    "\n",
    "1 point\n",
    "\"\"\"\n",
    "sentences_rdd = sc.parallelize(['Hi everybody', 'My name is Fanilo', 'and your name is Antoine everybody'])\n",
    "result_rdd = op2(sc, sentences_rdd)\n",
    "\n",
    "assert isinstance(result_rdd, RDD)\n",
    "assert result_rdd.collect() == ['Hi', 'everybody', 'My', 'name', 'is', 'Fanilo', 'and', 'your', 'name', 'is', 'Antoine', 'everybody']"
   ]
  },
  {
   "cell_type": "markdown",
   "metadata": {
    "deletable": false,
    "editable": false,
    "nbgrader": {
     "cell_type": "markdown",
     "checksum": "984c73ce9d6d566f9b34a6eeb48bcc80",
     "grade": false,
     "grade_id": "cell-62e03db165712bfc",
     "locked": true,
     "schema_version": 3,
     "solution": false
    }
   },
   "source": [
    "### .filter() transformation\n",
    "\n",
    "The `.filter(function)` transformation let's us filter elements verify a certain function.\n",
    "\n",
    "# Question 3\n",
    "\n",
    "Suppose we have a RDD containing numbers.\n",
    "\n",
    "Create an operation `.op3()` which returns all the odd numbers."
   ]
  },
  {
   "cell_type": "code",
   "execution_count": 18,
   "metadata": {},
   "outputs": [
    {
     "data": {
      "text/plain": [
       "[6, 7, 8, 9, 10, 11, 12, 13, 14, 15, 16, 17, 18, 19]"
      ]
     },
     "execution_count": 18,
     "metadata": {},
     "output_type": "execute_result"
    }
   ],
   "source": [
    "sc.parallelize(range(20)).filter(lambda num: num > 5).collect()"
   ]
  },
  {
   "cell_type": "code",
   "execution_count": 19,
   "metadata": {
    "deletable": false,
    "nbgrader": {
     "cell_type": "code",
     "checksum": "3344e8ad1de141e0a016d56e1161a4ed",
     "grade": false,
     "grade_id": "cell-efb95c583daf308b",
     "locked": false,
     "schema_version": 3,
     "solution": true
    }
   },
   "outputs": [],
   "source": [
    "def op3(sc, numbers):\n",
    "    \"\"\"\n",
    "    Return all numbers contained in the RDD that are odd.    \n",
    "    \"\"\"\n",
    "    # YOUR CODE HERE\n",
    "    result = numbers.filter(lambda number: number%2!=0)\n",
    "    return result"
   ]
  },
  {
   "cell_type": "code",
   "execution_count": 20,
   "metadata": {},
   "outputs": [
    {
     "name": "stdout",
     "output_type": "stream",
     "text": [
      "[1, 3, 5, 7, 9]\n"
     ]
    }
   ],
   "source": [
    "\"\"\"\n",
    "Graded cell\n",
    "\n",
    "1 point\n",
    "\"\"\"\n",
    "numbers = [1,2,3,4,5,6,7,8,9]\n",
    "numbers_rdd = sc.parallelize(numbers)\n",
    "result_rdd = op3(sc, numbers_rdd)\n",
    "print(result_rdd.collect())\n",
    "\n",
    "assert isinstance(result_rdd, RDD)\n",
    "assert result_rdd.collect() == [1,3,5,7,9]"
   ]
  },
  {
   "cell_type": "code",
   "execution_count": 21,
   "metadata": {
    "deletable": false,
    "editable": false,
    "nbgrader": {
     "cell_type": "code",
     "checksum": "c2cc36fb07e69c3babfe1c3f272c0d33",
     "grade": true,
     "grade_id": "cell-5662776e1f2e53ca",
     "locked": true,
     "points": 1,
     "schema_version": 3,
     "solution": false
    }
   },
   "outputs": [],
   "source": [
    "\"\"\"\n",
    "Graded cell\n",
    "\n",
    "1 point\n",
    "\"\"\"\n",
    "numbers = [1,2,3,4,5,6,7,8,9]\n",
    "numbers_rdd = sc.parallelize(numbers)\n",
    "result_rdd = op3(sc, numbers_rdd)\n",
    "\n",
    "assert isinstance(result_rdd, RDD)\n",
    "assert result_rdd.collect() == [1,3,5,7,9]"
   ]
  },
  {
   "cell_type": "markdown",
   "metadata": {
    "deletable": false,
    "editable": false,
    "nbgrader": {
     "cell_type": "markdown",
     "checksum": "9ff0a09a883dfff4ad08126197511364",
     "grade": false,
     "grade_id": "cell-caeb332999c988ea",
     "locked": true,
     "schema_version": 3,
     "solution": false
    }
   },
   "source": [
    "### .reduce() operation\n",
    "\n",
    "The `.reduce(function)` transformation reduces all elements of the RDD into one using a specific method.\n",
    "\n",
    "Do take note that, as in the Hadoop ecosystem, the function used to reduce the dataset should be associative and commutative.\n",
    "\n",
    "# Question 4\n",
    "\n",
    "Suppose we have a RDD containing numbers.\n",
    "\n",
    "Create an operation `.op4()` which returns the sum of all squared odd numbers in the RDD, using the `.reduce()` operation.\n",
    "\n",
    "_Hint: now's a good time to tell you that chaining transformations is possible..._"
   ]
  },
  {
   "cell_type": "code",
   "execution_count": 22,
   "metadata": {},
   "outputs": [
    {
     "data": {
      "text/plain": [
       "10"
      ]
     },
     "execution_count": 22,
     "metadata": {},
     "output_type": "execute_result"
    }
   ],
   "source": [
    "sc.parallelize(range(5)).reduce(lambda x,y: x+y)"
   ]
  },
  {
   "cell_type": "code",
   "execution_count": 23,
   "metadata": {
    "deletable": false,
    "nbgrader": {
     "cell_type": "code",
     "checksum": "84cd7e61b6cb00ba0c78fc9fb45d0c47",
     "grade": false,
     "grade_id": "cell-d891217753161c52",
     "locked": false,
     "schema_version": 3,
     "solution": true
    }
   },
   "outputs": [],
   "source": [
    "def op4(sc, numbers):\n",
    "    \"\"\"\n",
    "    Return the sum of all squared odd numbers.   \n",
    "    \"\"\"\n",
    "    # YOUR CODE HERE\n",
    "    even_array = numbers.filter(lambda number:number%2!=0).map(lambda number: number**2).reduce(lambda x,y: x+y)\n",
    "\n",
    "    return even_array"
   ]
  },
  {
   "cell_type": "code",
   "execution_count": 24,
   "metadata": {},
   "outputs": [],
   "source": [
    "\"\"\"\n",
    "Graded cell\n",
    "\n",
    "1 point\n",
    "\"\"\"\n",
    "numbers = range(100)\n",
    "numbers_rdd = sc.parallelize(numbers)\n",
    "result = op4(sc, numbers_rdd)\n",
    "\n",
    "\n",
    "assert result == 166650"
   ]
  },
  {
   "cell_type": "code",
   "execution_count": 25,
   "metadata": {
    "deletable": false,
    "editable": false,
    "nbgrader": {
     "cell_type": "code",
     "checksum": "8ce6feff291f7b56b2012c3ce657b046",
     "grade": true,
     "grade_id": "cell-f10cd6cece8dcb17",
     "locked": true,
     "points": 1,
     "schema_version": 3,
     "solution": false
    }
   },
   "outputs": [],
   "source": [
    "\"\"\"\n",
    "Graded cell\n",
    "\n",
    "1 point\n",
    "\"\"\"\n",
    "numbers = range(100)\n",
    "numbers_rdd = sc.parallelize(numbers)\n",
    "result = op4(sc, numbers_rdd)\n",
    "\n",
    "assert result == 166650"
   ]
  },
  {
   "cell_type": "markdown",
   "metadata": {
    "deletable": false,
    "editable": false,
    "nbgrader": {
     "cell_type": "markdown",
     "checksum": "890bf5005f682e2a031a0f1009ad1217",
     "grade": false,
     "grade_id": "cell-391e2e22f0a505b3",
     "locked": true,
     "schema_version": 3,
     "solution": false
    }
   },
   "source": [
    "---\n",
    "## Part C - Paired RDDs\n",
    "\n",
    "If you recall the classic MapReduce paradigm, you were dealing with key/value pairs to reduce your data in a distributed manner. We define a pair as a tuple of two elements, the first element being the key and the second the value.\n",
    "\n",
    "Key/value pairs are good for solving many problems efficiently in a parallel fashion so let us delve into them.\n",
    "\n",
    "```\n",
    "pairs = [('b', 3), ('d', 4), ('a', 6), ('f', 1), ('e', 2)]\n",
    "pairs_rdd = sc.parallelize(pairs)\n",
    "```"
   ]
  },
  {
   "cell_type": "markdown",
   "metadata": {
    "deletable": false,
    "editable": false,
    "nbgrader": {
     "cell_type": "markdown",
     "checksum": "dd0733c13e52e663f31f25f51825b5f7",
     "grade": false,
     "grade_id": "cell-12805969a41d030e",
     "locked": true,
     "schema_version": 3,
     "solution": false
    }
   },
   "source": [
    "### reduceByKey\n",
    "\n",
    "The `.reduceByKey()` method works in a similar way to the `.reduce()`, but it performs a reduction on a key-by-key basis.\n",
    "\n",
    "# Question\n",
    "\n",
    "Time for the classic Hello world question !"
   ]
  },
  {
   "cell_type": "code",
   "execution_count": 26,
   "metadata": {},
   "outputs": [
    {
     "data": {
      "text/plain": [
       "[(0, 20), (1, 25)]"
      ]
     },
     "execution_count": 26,
     "metadata": {},
     "output_type": "execute_result"
    }
   ],
   "source": [
    "sc.parallelize(range(10)).map(lambda num: (num % 2, num)).reduceByKey(lambda x,y: x+y).collect()"
   ]
  },
  {
   "cell_type": "code",
   "execution_count": 27,
   "metadata": {
    "deletable": false,
    "nbgrader": {
     "cell_type": "code",
     "checksum": "986e25b3dd7a166cefa5da214c5413ec",
     "grade": false,
     "grade_id": "cell-ace3daeea89fa242",
     "locked": false,
     "schema_version": 3,
     "solution": true
    }
   },
   "outputs": [],
   "source": [
    "def wordcount(sc, sentences):\n",
    "    \"\"\"\n",
    "    Given a RDD of sentences, return the wordcount, after splitting sentences per whitespace.\n",
    "    \"\"\"\n",
    "    # YOUR CODE HERE\n",
    "    result = sentences.flatMap(lambda sentence: sentence.split(\" \"))\n",
    "    print(result.collect())\n",
    "    res = result.map(lambda word: (word, 1))\n",
    "    print(res.collect())\n",
    "    ans = res.reduceByKey(lambda x,y: x+y)\n",
    "    \n",
    "    #ans = sentences.flatMap(lambda sentence: sentence.split(\" \")).map(lambda word: (word, 1)).reduceByKey(lambda x,y: x+y)\n",
    "    \n",
    "    return ans"
   ]
  },
  {
   "cell_type": "code",
   "execution_count": 28,
   "metadata": {},
   "outputs": [
    {
     "name": "stdout",
     "output_type": "stream",
     "text": [
      "['Hi', 'everybody', 'My', 'name', 'is', 'Fanilo', 'and', 'your', 'name', 'is', 'Antoine', 'everybody']\n",
      "[('Hi', 1), ('everybody', 1), ('My', 1), ('name', 1), ('is', 1), ('Fanilo', 1), ('and', 1), ('your', 1), ('name', 1), ('is', 1), ('Antoine', 1), ('everybody', 1)]\n",
      "[('Hi', 1), ('everybody', 2), ('My', 1), ('name', 2), ('is', 2), ('Fanilo', 1), ('and', 1), ('your', 1), ('Antoine', 1)]\n"
     ]
    }
   ],
   "source": [
    "\"\"\"\n",
    "Graded cell\n",
    "\n",
    "4 points\n",
    "\"\"\"\n",
    "sentences_rdd = sc.parallelize(['Hi everybody', 'My name is Fanilo', 'and your name is Antoine everybody'])\n",
    "result_rdd = wordcount(sc, sentences_rdd)\n",
    "print(result_rdd.collect())\n",
    "\n",
    "assert isinstance(result_rdd, RDD)\n",
    "assert result_rdd.collect() == [\n",
    "    ('Hi', 1),\n",
    "    ('everybody', 2),\n",
    "    ('My', 1),\n",
    "    ('name', 2),\n",
    "    ('is', 2),\n",
    "    ('Fanilo', 1),\n",
    "    ('and', 1),\n",
    "    ('your', 1),\n",
    "    ('Antoine', 1)\n",
    "]"
   ]
  },
  {
   "cell_type": "code",
   "execution_count": 29,
   "metadata": {
    "deletable": false,
    "editable": false,
    "nbgrader": {
     "cell_type": "code",
     "checksum": "0cb845378ba030bfc65490e5f0959b7b",
     "grade": true,
     "grade_id": "cell-e2242b91551eb662",
     "locked": true,
     "points": 4,
     "schema_version": 3,
     "solution": false
    }
   },
   "outputs": [
    {
     "name": "stdout",
     "output_type": "stream",
     "text": [
      "['Hi', 'everybody', 'My', 'name', 'is', 'Fanilo', 'and', 'your', 'name', 'is', 'Antoine', 'everybody']\n",
      "[('Hi', 1), ('everybody', 1), ('My', 1), ('name', 1), ('is', 1), ('Fanilo', 1), ('and', 1), ('your', 1), ('name', 1), ('is', 1), ('Antoine', 1), ('everybody', 1)]\n"
     ]
    }
   ],
   "source": [
    "\"\"\"\n",
    "Graded cell\n",
    "\n",
    "4 points\n",
    "\"\"\"\n",
    "sentences_rdd = sc.parallelize(['Hi everybody', 'My name is Fanilo', 'and your name is Antoine everybody'])\n",
    "result_rdd = wordcount(sc, sentences_rdd)\n",
    "\n",
    "assert isinstance(result_rdd, RDD)\n",
    "assert result_rdd.collect() == [\n",
    "    ('Hi', 1),\n",
    "    ('everybody', 2),\n",
    "    ('My', 1),\n",
    "    ('name', 2),\n",
    "    ('is', 2),\n",
    "    ('Fanilo', 1),\n",
    "    ('and', 1),\n",
    "    ('your', 1),\n",
    "    ('Antoine', 1)\n",
    "]"
   ]
  },
  {
   "cell_type": "markdown",
   "metadata": {
    "deletable": false,
    "editable": false,
    "nbgrader": {
     "cell_type": "markdown",
     "checksum": "ce70a16553accbcccec879264195a6f4",
     "grade": false,
     "grade_id": "cell-5698211381a62fe3",
     "locked": true,
     "schema_version": 3,
     "solution": false
    }
   },
   "source": [
    "### join\n",
    "\n",
    "The `.join()` method joins two RDD of pairs together on their key element.\n",
    "\n",
    "# Question\n",
    "\n",
    "Let's give ourselves a `student-gender` RDD and a `student-grade` RDD. Compute the mean grade for each gender.\n",
    "\n",
    "_Hint: this is a long exercise. Remember that the mean for a gender equals the sum of all grades divided by the count of the number of grades. You already know how to sum by key, and you can use the `countByKey()` function for returning a hashmap of gender to count of grades, then use that hashmap inside a map function to divide. Good luck !_"
   ]
  },
  {
   "cell_type": "code",
   "execution_count": 30,
   "metadata": {},
   "outputs": [
    {
     "data": {
      "text/plain": [
       "defaultdict(int, {'1': 2, '11': 2})"
      ]
     },
     "execution_count": 30,
     "metadata": {},
     "output_type": "execute_result"
    }
   ],
   "source": [
    "rdd = sc.parallelize((('1',11),('1',),('11',),('11',1)))\n",
    "res = rdd.countByKey()\n",
    "res"
   ]
  },
  {
   "cell_type": "code",
   "execution_count": 31,
   "metadata": {},
   "outputs": [
    {
     "data": {
      "text/plain": [
       "[('1', ('M', 5)),\n",
       " ('4', ('F', 18)),\n",
       " ('2', ('M', 12)),\n",
       " ('3', ('F', 7)),\n",
       " ('5', ('F', 9)),\n",
       " ('6', ('M', 5))]"
      ]
     },
     "execution_count": 31,
     "metadata": {},
     "output_type": "execute_result"
    }
   ],
   "source": [
    "genders_rdd = sc.parallelize([('1', 'M'), ('2', 'M'), ('3', 'F'), ('4', 'F'), ('5', 'F'), ('6', 'M')])\n",
    "grades_rdd = sc.parallelize([('1', 5), ('2', 12), ('3', 7), ('4', 18), ('5', 9), ('6', 5)])\n",
    "\n",
    "combined = genders_rdd.join(grades_rdd)\n",
    "combined.collect()"
   ]
  },
  {
   "cell_type": "code",
   "execution_count": 32,
   "metadata": {
    "deletable": false,
    "nbgrader": {
     "cell_type": "code",
     "checksum": "c2b9d2219211a607ec4cff9cac67fac0",
     "grade": false,
     "grade_id": "cell-2d55f7981405f5b5",
     "locked": false,
     "schema_version": 3,
     "solution": true
    }
   },
   "outputs": [],
   "source": [
    "def mean_grade_per_gender(sc, genders, grades):\n",
    "    \"\"\"\n",
    "    Given a RDD of studentID to grades and studentID to gender, compute mean grade for each gender returned as paired RDD.\n",
    "    Assume all studentIDs are present in both RDDs, making inner join possible, no need to check that.\n",
    "    Remember that the mean for a gender equals the sum of all grades divided by the count of the number of grades. \n",
    "    \n",
    "    You already know how to sum by key, and you can use the countByKey() function for returning a hashmap \n",
    "    of gender to count of grades,\n",
    "    \n",
    "    then use that hashmap inside a map function to divide. Good luck !\n",
    "    \"\"\"\n",
    "\n",
    "    # YOUR CODE HERE\n",
    "    combined = genders.join(grades)\n",
    "    print(\"this is combined rdd: \",combined.collect())\n",
    "    \n",
    "    gender_grade = combined.map(lambda x: (x[1][0],x[1][1]))\n",
    "    print(gender_grade.collect())\n",
    "    \n",
    "    counts = gender_grade.countByKey()\n",
    "    print(counts)\n",
    "    \n",
    "    reduced = gender_grade.reduceByKey(lambda x,y: x+y)\n",
    "    print(reduced.collect())\n",
    "    \n",
    "    result = reduced.map(lambda x: (x[0],x[1]/counts[x[0]]))\n",
    "    print(result.collect())\n",
    "\n",
    "    return result"
   ]
  },
  {
   "cell_type": "code",
   "execution_count": 33,
   "metadata": {
    "deletable": false,
    "editable": false,
    "nbgrader": {
     "cell_type": "code",
     "checksum": "14d8e9c4a78a493099f985f2868ae6ed",
     "grade": true,
     "grade_id": "cell-6d80889d087cf7d2",
     "locked": true,
     "points": 4,
     "schema_version": 3,
     "solution": false
    }
   },
   "outputs": [
    {
     "name": "stdout",
     "output_type": "stream",
     "text": [
      "this is combined rdd:  [('1', ('M', 5)), ('4', ('F', 18)), ('2', ('M', 12)), ('3', ('F', 7)), ('5', ('F', 9)), ('6', ('M', 5))]\n",
      "[('M', 5), ('F', 18), ('M', 12), ('F', 7), ('F', 9), ('M', 5)]\n",
      "defaultdict(<class 'int'>, {'M': 3, 'F': 3})\n",
      "[('M', 22), ('F', 34)]\n",
      "[('M', 7.333333333333333), ('F', 11.333333333333334)]\n"
     ]
    }
   ],
   "source": [
    "\"\"\"\n",
    "Graded cell\n",
    "\n",
    "4 points\n",
    "\"\"\"\n",
    "genders_rdd = sc.parallelize([('1', 'M'), ('2', 'M'), ('3', 'F'), ('4', 'F'), ('5', 'F'), ('6', 'M')])\n",
    "grades_rdd = sc.parallelize([('1', 5), ('2', 12), ('3', 7), ('4', 18), ('5', 9), ('6', 5)])\n",
    "\n",
    "result_rdd = mean_grade_per_gender(sc, genders_rdd, grades_rdd)\n",
    "assert isinstance(result_rdd, RDD)\n",
    "assert result_rdd.collect() == [('M', 7.333333333333333), ('F', 11.333333333333334)]"
   ]
  },
  {
   "cell_type": "markdown",
   "metadata": {
    "deletable": false,
    "editable": false,
    "nbgrader": {
     "cell_type": "markdown",
     "checksum": "cbe60c4828389623059105e1133040b9",
     "grade": false,
     "grade_id": "cell-2d278c9e38215b83",
     "locked": true,
     "schema_version": 3,
     "solution": false
    }
   },
   "source": [
    "---\n",
    "## Part D - Operations on a file\n",
    "\n",
    "We provide a `FL_insurance_sample.csv` file inside the `data` folder to use in our computations, it will be loaded through  `load_file_to_rdd()` you have previously implemented."
   ]
  },
  {
   "cell_type": "markdown",
   "metadata": {
    "deletable": false,
    "editable": false,
    "nbgrader": {
     "cell_type": "markdown",
     "checksum": "05b50fe004c803101542e231437be159",
     "grade": false,
     "grade_id": "cell-2192f6b1d0768275",
     "locked": true,
     "schema_version": 3,
     "solution": false
    }
   },
   "source": [
    "## Question\n",
    "\n",
    "The first line of the CSV is the header, and it is annoying to have it mixed with the data. In the lower-level RDD API we need to write code to specifically filter that first line.\n",
    "\n",
    "**Hint** : `rdd.zipwithindex()` is a useful function when you need to filter by position in a file _(though computationally expensive)_."
   ]
  },
  {
   "cell_type": "code",
   "execution_count": 34,
   "metadata": {},
   "outputs": [
    {
     "data": {
      "text/plain": [
       "[('a', 0), ('b', 1), ('c', 2), ('d', 3)]"
      ]
     },
     "execution_count": 34,
     "metadata": {},
     "output_type": "execute_result"
    }
   ],
   "source": [
    "sc.parallelize(['a', 'b', 'c', 'd']).zipWithIndex().collect()"
   ]
  },
  {
   "cell_type": "code",
   "execution_count": 35,
   "metadata": {
    "deletable": false,
    "nbgrader": {
     "cell_type": "code",
     "checksum": "61b1d0276b34eb5997a6318cdc9c7a32",
     "grade": false,
     "grade_id": "cell-d935e16d7d44ad5f",
     "locked": false,
     "schema_version": 3,
     "solution": true
    }
   },
   "outputs": [],
   "source": [
    "def filter_header(sc, rdd):\n",
    "    \"\"\"\n",
    "    From the FL insurance RDD, remove the first line.\n",
    "    \"\"\"\n",
    "    # YOUR CODE HERE\n",
    "    #print(rdd.collect())\n",
    "    \n",
    "    result = rdd.zipWithIndex()\n",
    "    #print(result.collect())\n",
    "    \n",
    "    no_header = result.filter(lambda x: x[1]>0)\n",
    "    #print(filtered.collect()[1])\n",
    "    \n",
    "    result = no_header.map(lambda x: x[0])\n",
    "    #print(filtered2.collect()[1])\n",
    "    \n",
    "    \n",
    "    return result"
   ]
  },
  {
   "cell_type": "code",
   "execution_count": 36,
   "metadata": {
    "deletable": false,
    "editable": false,
    "nbgrader": {
     "cell_type": "code",
     "checksum": "c65293caeac79a96c1a71dfd22bb881f",
     "grade": true,
     "grade_id": "cell-af2d9a5d3c53aa1f",
     "locked": true,
     "points": 2,
     "schema_version": 3,
     "solution": false
    }
   },
   "outputs": [],
   "source": [
    "\"\"\"\n",
    "Graded cell\n",
    "\n",
    "2 points\n",
    "\"\"\"\n",
    "header = 'policyID,statecode,county,eq_site_limit,hu_site_limit,fl_site_limit,fr_site_limit,tiv_2011,tiv_2012,eq_site_deductible,hu_site_deductible,fl_site_deductible,fr_site_deductible,point_latitude,point_longitude,line,construction,point_granularity'\n",
    "file = load_file_to_rdd(sc, filePath)\n",
    "result_rdd = filter_header(sc, file)\n",
    "\n",
    "assert isinstance(result_rdd, RDD)\n",
    "assert file.filter(lambda line: line==header).collect()\n",
    "assert not result_rdd.filter(lambda line: line == header).collect()"
   ]
  },
  {
   "cell_type": "markdown",
   "metadata": {
    "deletable": false,
    "editable": false,
    "nbgrader": {
     "cell_type": "markdown",
     "checksum": "59b05457438c76b04f0ea5c5ac39b7f1",
     "grade": false,
     "grade_id": "cell-0812ba9c37c5b9db",
     "locked": true,
     "schema_version": 3,
     "solution": false
    }
   },
   "source": [
    "In the following questions, we will work on the file without it's header, it will be stored inside the `file_rdd` variable. You can reuse this variable in your tests.\n",
    "\n",
    "## Question\n",
    "\n",
    "Let's try some statistics on the `county` variable, which is the second column of the dataset."
   ]
  },
  {
   "cell_type": "code",
   "execution_count": 37,
   "metadata": {
    "deletable": false,
    "editable": false,
    "nbgrader": {
     "cell_type": "code",
     "checksum": "b18c847b1b91c6831c7364511785028b",
     "grade": false,
     "grade_id": "cell-728c14e2ea230b52",
     "locked": true,
     "schema_version": 3,
     "solution": false
    }
   },
   "outputs": [],
   "source": [
    "file_rdd = filter_header(sc, load_file_to_rdd(sc, filePath))"
   ]
  },
  {
   "cell_type": "code",
   "execution_count": 38,
   "metadata": {},
   "outputs": [
    {
     "data": {
      "text/plain": [
       "['119736,FL,CLAY COUNTY,498960,498960,498960,498960,498960,792148.9,0,9979.2,0,0,30.102261,-81.711777,Residential,Masonry,1',\n",
       " '448094,FL,CLAY COUNTY,1322376.3,1322376.3,1322376.3,1322376.3,1322376.3,1438163.57,0,0,0,0,30.063936,-81.707664,Residential,Masonry,3',\n",
       " '206893,FL,CLAY COUNTY,190724.4,190724.4,190724.4,190724.4,190724.4,192476.78,0,0,0,0,30.089579,-81.700455,Residential,Wood,1',\n",
       " '333743,FL,CLAY COUNTY,0,79520.76,0,0,79520.76,86854.48,0,0,0,0,30.063236,-81.707703,Residential,Wood,3',\n",
       " '172534,FL,CLAY COUNTY,0,254281.5,0,254281.5,254281.5,246144.49,0,0,0,0,30.060614,-81.702675,Residential,Wood,1',\n",
       " '785275,FL,CLAY COUNTY,0,515035.62,0,0,515035.62,884419.17,0,0,0,0,30.063236,-81.707703,Residential,Masonry,3',\n",
       " '995932,FL,CLAY COUNTY,0,19260000,0,0,19260000,20610000,0,0,0,0,30.102226,-81.713882,Commercial,Reinforced Concrete,1',\n",
       " '223488,FL,CLAY COUNTY,328500,328500,328500,328500,328500,348374.25,0,16425,0,0,30.102217,-81.707146,Residential,Wood,1',\n",
       " '433512,FL,CLAY COUNTY,315000,315000,315000,315000,315000,265821.57,0,15750,0,0,30.118774,-81.704613,Residential,Wood,1',\n",
       " '142071,FL,CLAY COUNTY,705600,705600,705600,705600,705600,1010842.56,14112,35280,0,0,30.100628,-81.703751,Residential,Masonry,1',\n",
       " '253816,FL,CLAY COUNTY,831498.3,831498.3,831498.3,831498.3,831498.3,1117791.48,0,0,0,0,30.10216,-81.719444,Residential,Masonry,1',\n",
       " '894922,FL,CLAY COUNTY,0,24059.09,0,0,24059.09,33952.19,0,0,0,0,30.095957,-81.695099,Residential,Wood,1',\n",
       " '422834,FL,CLAY COUNTY,0,48115.94,0,0,48115.94,66755.39,0,0,0,0,30.100073,-81.739822,Residential,Wood,1',\n",
       " '582721,FL,CLAY COUNTY,0,28869.12,0,0,28869.12,42826.99,0,0,0,0,30.09248,-81.725167,Residential,Wood,1',\n",
       " '842700,FL,CLAY COUNTY,0,56135.64,0,0,56135.64,50656.8,0,0,0,0,30.101356,-81.726248,Residential,Wood,1',\n",
       " '874333,FL,CLAY COUNTY,0,48115.94,0,0,48115.94,67905.07,0,0,0,0,30.113743,-81.727463,Residential,Wood,1',\n",
       " '580146,FL,CLAY COUNTY,0,48115.94,0,0,48115.94,66938.9,0,0,0,0,30.121655,-81.732391,Residential,Wood,3',\n",
       " '456149,FL,CLAY COUNTY,0,80192.49,0,0,80192.49,86421.04,0,0,0,0,30.109537,-81.741661,Residential,Wood,1',\n",
       " '767862,FL,CLAY COUNTY,0,48115.94,0,0,48115.94,73798.5,0,0,0,0,30.11824,-81.745335,Residential,Wood,3',\n",
       " '353022,FL,CLAY COUNTY,0,60946.79,0,0,60946.79,62467.29,0,0,0,0,30.065799,-81.717416,Residential,Wood,1',\n",
       " '367814,FL,CLAY COUNTY,0,28869.12,0,0,28869.12,42727.74,0,0,0,0,30.082993,-81.710581,Residential,Wood,1',\n",
       " '671392,FL,CLAY COUNTY,0,13410000,0,0,13410000,11700000,0,0,0,0,30.091921,-81.711929,Commercial,Reinforced Concrete,3',\n",
       " '772887,FL,CLAY COUNTY,0,1669113.93,0,0,1669113.93,2099127.76,0,0,0,0,30.117352,-81.711884,Residential,Masonry,1',\n",
       " '983122,FL,CLAY COUNTY,0,179562.23,0,0,179562.23,211372.57,0,0,0,0,30.095783,-81.713181,Residential,Wood,3',\n",
       " '934215,FL,CLAY COUNTY,0,177744.16,0,0,177744.16,157171.16,0,0,0,0,30.110518,-81.727478,Residential,Wood,1',\n",
       " '385951,FL,CLAY COUNTY,0,17757.58,0,0,17757.58,16948.72,0,0,0,0,30.10288,-81.705719,Residential,Wood,1',\n",
       " '716332,FL,CLAY COUNTY,0,130129.87,0,0,130129.87,101758.43,0,0,0,0,30.068468,-81.71624,Residential,Wood,1',\n",
       " '751262,FL,CLAY COUNTY,0,42854.77,0,0,42854.77,63592.88,0,0,0,0,30.068468,-81.71624,Residential,Wood,1',\n",
       " '633663,FL,CLAY COUNTY,0,785.58,0,0,785.58,662.18,0,0,0,0,30.068468,-81.71624,Residential,Wood,1',\n",
       " '105851,FL,CLAY COUNTY,0,170361.91,0,0,170361.91,177176.38,0,0,0,0,30.068468,-81.71624,Residential,Wood,1',\n",
       " '710400,FL,CLAY COUNTY,0,1430.89,0,0,1430.89,1861.41,0,0,0,0,30.068468,-81.71624,Residential,Wood,1',\n",
       " '703001,FL,CLAY COUNTY,0,129913.27,0,0,129913.27,101692.86,0,0,0,0,30.079785,-81.706865,Residential,Wood,4',\n",
       " '352792,FL,CLAY COUNTY,0,366285.62,0,0,366285.62,507164.19,0,0,0,0,30.08012,-81.718452,Residential,Masonry,1',\n",
       " '717603,FL,CLAY COUNTY,0,22512.61,0,0,22512.61,28637.17,0,0,0,0,30.08012,-81.718452,Residential,Wood,1',\n",
       " '937659,FL,SUWANNEE COUNTY,0,9246.6,0,9246.6,9246.6,10880.22,0,0,0,0,29.959805,-82.926659,Residential,Wood,3',\n",
       " '294022,FL,SUWANNEE COUNTY,0,96164.64,0,0,96164.64,69357.78,0,0,0,0,29.959805,-82.926659,Residential,Wood,3',\n",
       " '410500,FL,SUWANNEE COUNTY,0,11095.92,0,0,11095.92,12737.89,0,0,0,0,29.959805,-82.926659,Residential,Wood,3',\n",
       " '524433,FL,SUWANNEE COUNTY,218475,218475,218475,218475,218475,199030.29,0,4369.5,0,0,29.962601,-82.926155,Residential,Wood,3',\n",
       " '779298,FL,SUWANNEE COUNTY,1400904,1400904,1400904,1400904,1400904,1772984.1,0,0,0,0,29.962601,-82.926155,Residential,Masonry,3',\n",
       " '491831,FL,SUWANNEE COUNTY,4365,4365,4365,4365,4365,4438.05,0,87.3,0,0,29.962601,-82.926155,Residential,Wood,3',\n",
       " '814637,FL,SUWANNEE COUNTY,4365,4365,4365,4365,4365,6095.72,0,87.3,0,0,29.962601,-82.926155,Residential,Wood,3',\n",
       " '737515,FL,SUWANNEE COUNTY,39789,39789,39789,39789,39789,58106.58,0,0,0,0,29.962601,-82.926155,Residential,Wood,3',\n",
       " '222653,FL,SUWANNEE COUNTY,24867,24867,24867,24867,24867,18969.79,0,0,0,0,29.962601,-82.926155,Residential,Wood,3',\n",
       " '788543,FL,SUWANNEE COUNTY,213876,213876,213876,213876,213876,261435.18,0,0,0,0,29.962601,-82.926155,Residential,Wood,3',\n",
       " '691681,FL,SUWANNEE COUNTY,69435,69435,69435,69435,69435,93674.34,0,1388.7,0,0,29.960735,-82.92542,Residential,Wood,3',\n",
       " '368807,FL,SUWANNEE COUNTY,14922,14922,14922,14922,14922,12333.03,0,0,0,0,29.960735,-82.92542,Residential,Wood,3',\n",
       " '174002,FL,SUWANNEE COUNTY,165546,165546,165546,165546,165546,239134.51,0,0,0,0,29.963396,-82.916763,Residential,Wood,1',\n",
       " '198760,FL,SUWANNEE COUNTY,72837,72837,72837,72837,72837,86637.86,0,0,0,0,29.963396,-82.916763,Residential,Wood,1',\n",
       " '831395,FL,SUWANNEE COUNTY,72837,72837,72837,72837,72837,98147.86,0,0,0,0,29.963396,-82.916763,Residential,Wood,1',\n",
       " '305698,FL,SUWANNEE COUNTY,19440,19440,19440,19440,19440,30658.59,0,388.8,0,0,29.963396,-82.916763,Residential,Wood,1',\n",
       " '515722,FL,SUWANNEE COUNTY,9945,9945,9945,9945,9945,11551.12,0,198.9,0,0,29.963396,-82.916763,Residential,Wood,1',\n",
       " '415582,FL,SUWANNEE COUNTY,0,255878.61,0,0,255878.61,345894.66,0,0,0,0,29.958415,-82.92394,Residential,Wood,3',\n",
       " '783533,FL,SUWANNEE COUNTY,0,153527.17,0,0,153527.17,138228.8,0,0,0,0,29.9696,-82.92767,Residential,Wood,4',\n",
       " '640802,FL,SUWANNEE COUNTY,0,255878.61,0,0,255878.61,177339.74,0,0,0,0,29.959404,-82.927582,Residential,Wood,1',\n",
       " '403866,FL,SUWANNEE COUNTY,0,102351.45,0,0,102351.45,95132.8,0,0,0,0,29.958904,-82.922729,Residential,Wood,3',\n",
       " '828788,FL,SUWANNEE COUNTY,0,155489.66,0,0,155489.66,145139.65,0,0,0,0,29.95822,-82.922424,Residential,Wood,1',\n",
       " '751490,FL,SUWANNEE COUNTY,0,137233.8,0,0,137233.8,114919.58,0,0,0,0,29.965832,-82.933777,Residential,Wood,4',\n",
       " '972562,FL,SUWANNEE COUNTY,0,123596.05,0,0,123596.05,183015.09,0,0,0,0,29.965721,-82.933777,Residential,Wood,4',\n",
       " '367541,FL,SUWANNEE COUNTY,0,107111.11,0,0,107111.11,88218.85,0,0,0,0,29.965717,-82.933777,Residential,Wood,4',\n",
       " '481360,FL,SUWANNEE COUNTY,0,96309.32,0,0,96309.32,85911,0,0,0,0,29.95775,-82.923635,Residential,Wood,3',\n",
       " '920232,FL,NASSAU COUNTY,0,104031.7,0,0,104031.7,168443.97,0,0,0,0,30.39431,-81.93397,Residential,Wood,1',\n",
       " '727659,FL,NASSAU COUNTY,338944.5,338944.5,338944.5,338944.5,338944.5,485816.61,0,0,0,0,30.56267,-81.830429,Residential,Wood,1',\n",
       " '471817,FL,NASSAU COUNTY,272349,272349,272349,272349,272349,414565.56,0,0,0,0,30.56267,-81.830429,Residential,Wood,1',\n",
       " '983043,FL,NASSAU COUNTY,129690,129690,129690,129690,129690,129635.53,0,0,0,0,30.561651,-81.830193,Residential,Wood,1',\n",
       " '578286,FL,NASSAU COUNTY,123210,123210,123210,123210,123210,120345.61,0,0,0,0,30.56267,-81.830429,Residential,Wood,1',\n",
       " '347276,FL,NASSAU COUNTY,0,3698.64,0,0,3698.64,3939.13,0,0,0,0,30.56106,-81.82632,Residential,Wood,3',\n",
       " '477786,FL,NASSAU COUNTY,2115760.5,2115760.5,0,0,2115760.5,3057739.39,0,0,0,0,30.5579,-81.8249,Commercial,Reinforced Masonry,4',\n",
       " '265907,FL,NASSAU COUNTY,0,93548.58,0,0,93548.58,118401.07,0,0,0,0,30.56106,-81.82632,Residential,Wood,3',\n",
       " '107560,FL,NASSAU COUNTY,0,1037311.14,0,0,1037311.14,1487255.23,0,0,0,0,30.56106,-81.82632,Residential,Masonry,3',\n",
       " '908183,FL,NASSAU COUNTY,0,15463.3,0,0,15463.3,11825.56,0,0,0,0,30.57185,-81.82383,Residential,Wood,3',\n",
       " '356024,FL,NASSAU COUNTY,0,13893.35,0,0,13893.35,13988.5,0,0,0,0,30.562835,-81.826525,Residential,Wood,3',\n",
       " '575299,FL,NASSAU COUNTY,0,316618.23,0,0,316618.23,230328.99,0,0,0,0,30.567566,-81.826584,Residential,Wood,1',\n",
       " '790478,FL,NASSAU COUNTY,0,54834.66,0,0,54834.66,63053.72,0,0,0,0,30.60895,-81.83645,Residential,Wood,3',\n",
       " '801776,FL,NASSAU COUNTY,0,295269.11,0,0,295269.11,488965.65,0,0,0,0,30.59925,-81.81973,Residential,Wood,1',\n",
       " '291781,FL,NASSAU COUNTY,0,723734.17,0,0,723734.17,955908.09,0,0,0,0,30.53674,-81.77496,Residential,Masonry,3',\n",
       " '537286,FL,NASSAU COUNTY,0,1741572,0,1741572,1741572,1455184.42,0,0,0,0,30.555161,-81.825684,Residential,Masonry,1',\n",
       " '289305,FL,COLUMBIA COUNTY,135450,135450,135450,135450,135450,164978.1,0,0,0,0,30.105968,-82.66227,Residential,Wood,4',\n",
       " '697409,FL,COLUMBIA COUNTY,60300,60300,60300,60300,60300,77678.46,0,0,0,0,30.1018,-82.7094,Residential,Wood,1',\n",
       " '633944,FL,COLUMBIA COUNTY,22500,22500,22500,22500,22500,19501.76,0,0,0,0,30.1018,-82.7094,Residential,Wood,4',\n",
       " '963511,FL,COLUMBIA COUNTY,0,34212.42,0,0,34212.42,33250.37,0,0,0,0,30.1018,-82.7094,Residential,Wood,4',\n",
       " '729649,FL,COLUMBIA COUNTY,0,460128.2,0,0,460128.2,626142.46,0,0,0,0,30.1653,-82.73404,Residential,Masonry,1',\n",
       " '862584,FL,COLUMBIA COUNTY,0,32169.69,0,0,32169.69,37291.11,0,0,0,0,30.1018,-82.7094,Residential,Wood,4',\n",
       " '371891,FL,COLUMBIA COUNTY,0,50550.75,0,0,50550.75,49526.38,0,0,0,0,30.17399,-82.57017,Residential,Wood,4',\n",
       " '785595,FL,COLUMBIA COUNTY,42300,42300,42300,42300,42300,53762.62,0,0,0,0,30.1515,-82.6126,Residential,Wood,3',\n",
       " '567696,FL,COLUMBIA COUNTY,0,10171.26,0,0,10171.26,16798.29,0,0,0,0,30.16269,-82.64,Residential,Wood,4',\n",
       " '219025,FL,COLUMBIA COUNTY,0,155342.88,0,0,155342.88,176189.89,0,0,0,0,30.16269,-82.64,Residential,Wood,4',\n",
       " '447216,FL,COLUMBIA COUNTY,0,3698.64,0,0,3698.64,4424.48,0,0,0,0,30.16269,-82.64,Residential,Wood,4',\n",
       " '305141,FL,COLUMBIA COUNTY,0,4623.3,0,4623.3,4623.3,4525.86,0,0,0,0,30.16269,-82.64,Residential,Wood,4',\n",
       " '625575,FL,COLUMBIA COUNTY,0,33287.76,0,0,33287.76,27375.62,0,0,0,0,30.16269,-82.64,Residential,Wood,4',\n",
       " '262109,FL,COLUMBIA COUNTY,0,21267.18,0,0,21267.18,24840.49,0,0,0,0,30.163641,-82.640976,Residential,Wood,1',\n",
       " '228457,FL,COLUMBIA COUNTY,0,729556.74,0,0,729556.74,889825.76,0,0,0,0,30.163641,-82.640976,Residential,Masonry,1',\n",
       " '622799,FL,COLUMBIA COUNTY,0,350446.14,0,0,350446.14,438049.26,0,0,0,0,30.163641,-82.640976,Residential,Wood,1',\n",
       " '233271,FL,COLUMBIA COUNTY,0,2135964.6,0,2135964.6,2135964.6,1728721.59,0,0,0,0,30.163641,-82.640976,Commercial,Reinforced Masonry,1',\n",
       " '932950,FL,COLUMBIA COUNTY,0,4623.3,0,4623.3,4623.3,4782.1,0,0,0,0,30.163641,-82.640976,Residential,Wood,1',\n",
       " '641952,FL,COLUMBIA COUNTY,0,2469639.6,0,2469639.6,2469639.6,2708463.63,0,0,0,0,30.1515,-82.6126,Commercial,Reinforced Masonry,4',\n",
       " '796260,FL,COLUMBIA COUNTY,0,914073.3,0,914073.3,914073.3,1296439.3,0,0,0,0,30.1515,-82.6126,Residential,Masonry,4',\n",
       " '301822,FL,COLUMBIA COUNTY,0,3042940.5,0,3042940.5,3042940.5,3181868.99,0,0,0,0,30.1515,-82.6126,Commercial,Reinforced Masonry,4',\n",
       " '559927,FL,COLUMBIA COUNTY,0,234997.65,0,0,234997.65,255975.89,0,0,0,0,30.1515,-82.6126,Residential,Wood,4',\n",
       " '224400,FL,COLUMBIA COUNTY,0,912600,0,912600,912600,1147247.71,0,0,0,0,30.1515,-82.6126,Residential,Masonry,4',\n",
       " '123936,FL,COLUMBIA COUNTY,0,1920744.9,0,1920744.9,1920744.9,2837762.3,0,0,0,0,30.1515,-82.6126,Commercial,Reinforced Masonry,4',\n",
       " '333818,FL,COLUMBIA COUNTY,0,455754.6,0,455754.6,455754.6,696809.59,0,0,0,0,30.1515,-82.6126,Residential,Masonry,4',\n",
       " '254323,FL,COLUMBIA COUNTY,0,1552693.95,0,0,1552693.95,1552594.58,0,0,0,0,30.1515,-82.6126,Residential,Masonry,4',\n",
       " '247444,FL,COLUMBIA COUNTY,0,8910,0,8910,8910,13521.83,0,0,0,0,30.1515,-82.6126,Residential,Wood,4',\n",
       " '882598,FL,COLUMBIA COUNTY,0,398968.2,0,398968.2,398968.2,424087.24,0,0,0,0,30.1515,-82.6126,Residential,Masonry,4',\n",
       " '386918,FL,COLUMBIA COUNTY,0,4500,0,4500,4500,4238.41,0,0,0,0,30.1515,-82.6126,Residential,Wood,4',\n",
       " '497337,FL,COLUMBIA COUNTY,0,31071.6,0,31071.6,31071.6,57802.5,0,0,0,0,30.1515,-82.6126,Residential,Wood,4',\n",
       " '526844,FL,COLUMBIA COUNTY,0,4956125.85,0,0,4956125.85,7279557.65,0,0,0,0,30.1515,-82.6126,Commercial,Reinforced Masonry,4',\n",
       " '623400,FL,COLUMBIA COUNTY,0,40500,0,40500,40500,34160.94,0,0,0,0,30.1515,-82.6126,Residential,Wood,4',\n",
       " '826170,FL,COLUMBIA COUNTY,0,135868.99,0,0,135868.99,234280.26,0,0,0,0,30.185885,-82.614795,Residential,Wood,1',\n",
       " '185483,FL,COLUMBIA COUNTY,0,36784.23,0,0,36784.23,58447.64,0,0,0,0,30.185885,-82.614795,Residential,Wood,1',\n",
       " '920003,FL,COLUMBIA COUNTY,0,1086940.9,0,0,1086940.9,1770235.43,0,0,0,0,30.185885,-82.614795,Residential,Masonry,1',\n",
       " '274246,FL,COLUMBIA COUNTY,0,16767.17,0,0,16767.17,17228.6,0,0,0,0,30.16649,-82.63503,Residential,Wood,1',\n",
       " '423636,FL,COLUMBIA COUNTY,0,1404900,0,1404900,1404900,1840643.78,0,42147,0,0,30.176,-82.65581,Residential,Masonry,1',\n",
       " '970906,FL,COLUMBIA COUNTY,0,4696520.5,0,0,4696520.5,6342697.9,0,0,450000,0,30.00777,-82.59694,Commercial,Reinforced Masonry,3',\n",
       " '227898,FL,COLUMBIA COUNTY,0,67892.48,0,0,67892.48,86628.09,0,0,0,0,30.17509,-82.66252,Residential,Wood,1',\n",
       " '525138,FL,COLUMBIA COUNTY,0,86056.32,0,0,86056.32,125938.17,0,0,0,0,30.17501,-82.66205,Residential,Wood,1',\n",
       " '923627,FL,COLUMBIA COUNTY,0,67892.48,0,0,67892.48,64169.8,0,0,0,0,30.174776,-82.662277,Residential,Wood,1',\n",
       " '619743,FL,COLUMBIA COUNTY,0,67892.48,0,0,67892.48,80898.23,0,0,0,0,30.17476,-82.66251,Residential,Wood,1',\n",
       " '910727,FL,COLUMBIA COUNTY,0,86056.32,0,0,86056.32,91244.65,0,0,0,0,30.1745,-82.66205,Residential,Wood,1',\n",
       " '363647,FL,COLUMBIA COUNTY,0,67892.48,0,0,67892.48,92333.77,0,0,0,0,30.17447,-82.66251,Residential,Wood,1',\n",
       " '512519,FL,COLUMBIA COUNTY,0,101009.36,0,0,101009.36,98181.1,0,0,0,0,30.17417,-82.66218,Residential,Wood,1',\n",
       " '904304,FL,COLUMBIA COUNTY,0,67892.48,0,0,67892.48,66272.56,0,0,0,0,30.17451,-82.66351,Residential,Wood,1',\n",
       " '835349,FL,COLUMBIA COUNTY,0,67892.48,0,0,67892.48,99945.87,0,0,0,0,30.17475,-82.66314,Residential,Wood,1',\n",
       " '891725,FL,COLUMBIA COUNTY,0,86056.32,0,0,86056.32,139415.11,0,0,0,0,30.17514,-82.66341,Residential,Wood,1',\n",
       " '923503,FL,COLUMBIA COUNTY,0,86056.32,0,0,86056.32,106664.4,0,0,0,0,30.17474,-82.66348,Residential,Wood,1',\n",
       " '292347,FL,COLUMBIA COUNTY,0,132603.34,0,0,132603.34,115117.07,0,0,0,0,30.17664,-82.66314,Residential,Wood,3',\n",
       " '363828,FL,COLUMBIA COUNTY,0,132603.34,0,0,132603.34,216561.94,0,0,0,0,30.17638,-82.66314,Residential,Wood,3',\n",
       " '110490,FL,COLUMBIA COUNTY,0,91764.15,0,0,91764.15,70364.02,0,0,0,0,30.17623,-82.66406,Residential,Wood,3',\n",
       " '480733,FL,COLUMBIA COUNTY,0,457854.5,0,0,457854.5,345588.57,0,0,0,0,30.17698,-82.67019,Residential,Masonry,4',\n",
       " '993346,FL,COLUMBIA COUNTY,0,385480.82,0,0,385480.82,558330.42,0,0,0,0,30.174486,-82.671326,Residential,Masonry,4',\n",
       " '934992,FL,ST  JOHNS COUNTY,0,213596.46,0,0,213596.46,190329.82,0,0,0,0,29.7917,-81.4271,Residential,Wood,4',\n",
       " '645841,FL,ST  JOHNS COUNTY,0,1051338.42,0,0,1051338.42,1069841.98,0,0,0,0,29.7917,-81.4271,Residential,Masonry,4',\n",
       " '747846,FL,ST  JOHNS COUNTY,0,6472.62,0,0,6472.62,9957.87,0,0,0,0,29.7917,-81.4271,Residential,Wood,4',\n",
       " '482457,FL,ST  JOHNS COUNTY,0,159041.52,0,0,159041.52,249984.64,0,0,0,0,29.776566,-81.47171,Residential,Wood,1',\n",
       " '574787,FL,ST  JOHNS COUNTY,0,12945.24,0,0,12945.24,19024.97,0,0,0,0,29.776566,-81.47171,Residential,Wood,1',\n",
       " '831418,FL,ST  JOHNS COUNTY,0,29589.12,0,0,29589.12,35207.53,0,0,0,0,29.776566,-81.47171,Residential,Wood,1',\n",
       " '968562,FL,ST  JOHNS COUNTY,0,12945.24,0,0,12945.24,16859.05,0,0,0,0,29.776566,-81.47171,Residential,Wood,1',\n",
       " '576324,FL,ST  JOHNS COUNTY,29061,29061,29061,29061,29061,40749.33,0,0,0,0,29.7255,-81.466309,Residential,Wood,1',\n",
       " '290435,FL,ST  JOHNS COUNTY,48087,48087,48087,48087,48087,68008.1,0,0,0,0,29.7255,-81.466309,Residential,Wood,1',\n",
       " '526086,FL,ST  JOHNS COUNTY,128628,128628,128628,128628,128628,133425.18,0,0,0,0,29.7255,-81.466309,Residential,Wood,1',\n",
       " '119823,FL,ST  JOHNS COUNTY,128628,128628,128628,128628,128628,168246.71,0,0,0,0,29.7255,-81.466309,Residential,Wood,1',\n",
       " '497414,FL,ST  JOHNS COUNTY,128628,128628,128628,128628,128628,176279.14,0,0,0,0,29.7255,-81.466309,Residential,Wood,1',\n",
       " '340883,FL,ST  JOHNS COUNTY,4968,4968,4968,4968,4968,5265.92,0,0,0,0,29.7255,-81.466309,Residential,Wood,1',\n",
       " '892551,FL,ST  JOHNS COUNTY,157005,157005,157005,157005,157005,131774.3,0,3140.1,0,0,29.7255,-81.466309,Residential,Wood,1',\n",
       " '670595,FL,ST  JOHNS COUNTY,459,459,459,459,459,847.36,0,0,0,0,29.7255,-81.466309,Residential,Wood,1',\n",
       " '194101,FL,ST  JOHNS COUNTY,459,459,459,459,459,428.69,0,0,0,0,29.7255,-81.466309,Residential,Wood,1',\n",
       " '167200,FL,ST  JOHNS COUNTY,1062,1062,1062,1062,1062,1602.72,0,0,0,0,29.7255,-81.466309,Residential,Wood,1',\n",
       " '139064,FL,ST  JOHNS COUNTY,2304,2304,2304,2304,2304,2474.16,0,0,0,0,29.7255,-81.466309,Residential,Wood,1',\n",
       " '846636,FL,ST  JOHNS COUNTY,1476,1476,1476,1476,1476,1935.04,0,0,0,0,29.7255,-81.466309,Residential,Wood,1',\n",
       " '310177,FL,NASSAU COUNTY,185040,185040,185040,185040,185040,313975.87,0,0,0,0,30.57332,-81.45291,Residential,Wood,1',\n",
       " '865452,FL,NASSAU COUNTY,0,11095.92,0,0,11095.92,11961.62,0,0,0,0,30.67464,-81.46114,Residential,Wood,3',\n",
       " '783429,FL,NASSAU COUNTY,0,8321.94,0,0,8321.94,9646.79,0,0,0,0,30.67464,-81.46114,Residential,Wood,3',\n",
       " '878060,FL,NASSAU COUNTY,0,199726.56,0,0,199726.56,277743.75,0,0,0,0,30.67423,-81.46052,Residential,Wood,1',\n",
       " '935342,FL,NASSAU COUNTY,0,118356.48,0,0,118356.48,182860.76,0,0,0,0,30.67423,-81.46052,Residential,Wood,1',\n",
       " '456376,FL,NASSAU COUNTY,0,17568.54,0,0,17568.54,29936.79,0,0,0,0,30.67423,-81.46052,Residential,Wood,1',\n",
       " '363001,FL,NASSAU COUNTY,0,147945.6,0,147945.6,147945.6,238338.59,0,0,0,0,30.67453,-81.46016,Residential,Wood,1',\n",
       " '478864,FL,NASSAU COUNTY,0,724933.44,0,0,724933.44,767347.85,0,0,0,0,30.67513,-81.44708,Residential,Masonry,1',\n",
       " '600402,FL,NASSAU COUNTY,0,8284485.6,0,0,8284485.6,8073943.68,0,0,0,0,30.64687,-81.45801,Commercial,Reinforced Masonry,1',\n",
       " '483983,FL,NASSAU COUNTY,438498,438498,0,0,438498,636264.11,0,0,0,0,30.650143,-81.454407,Residential,Masonry,1',\n",
       " '991615,FL,NASSAU COUNTY,0,99960.9,0,0,99960.9,88679.21,0,0,0,0,30.6202,-81.4719,Residential,Wood,4',\n",
       " '644573,FL,NASSAU COUNTY,0,669692.78,0,0,669692.78,841130.78,0,0,0,0,30.576765,-81.453979,Residential,Masonry,1',\n",
       " '853278,FL,NASSAU COUNTY,0,240539.39,0,0,240539.39,412765.59,0,0,0,0,30.576765,-81.453979,Residential,Wood,1',\n",
       " '100658,FL,NASSAU COUNTY,0,331518.28,0,0,331518.28,464703.76,0,0,0,0,30.6202,-81.4719,Residential,Wood,4',\n",
       " '433115,FL,NASSAU COUNTY,0,5919.86,0,0,5919.86,9839.94,0,0,0,0,30.576765,-81.453979,Residential,Wood,1',\n",
       " '760337,FL,NASSAU COUNTY,0,77426.73,0,0,77426.73,73196.13,0,0,0,0,30.61988,-81.46815,Residential,Wood,1',\n",
       " '884738,FL,NASSAU COUNTY,0,765763.8,0,0,765763.8,735948.78,0,0,0,0,30.576765,-81.453979,Residential,Masonry,1',\n",
       " '610102,FL,NASSAU COUNTY,0,7532014.45,0,0,7532014.45,10710000,0,0,0,0,30.671095,-81.462097,Commercial,Reinforced Masonry,1',\n",
       " '830823,FL,NASSAU COUNTY,0,963962.79,0,0,963962.79,977226.92,0,0,0,0,30.67,-81.462,Residential,Masonry,3',\n",
       " '618364,FL,NASSAU COUNTY,0,121066.57,0,0,121066.57,115414.7,0,0,0,0,30.596535,-81.546837,Residential,Wood,1',\n",
       " '712563,FL,NASSAU COUNTY,0,70964.84,0,0,70964.84,72362.85,0,0,0,0,30.596535,-81.546837,Residential,Wood,1',\n",
       " '493030,FL,NASSAU COUNTY,0,755749,0,0,755749,658571.77,0,0,0,0,30.57326,-81.45367,Residential,Masonry,1',\n",
       " '188150,FL,NASSAU COUNTY,0,2162232,0,2162232,2162232,2520816.55,0,0,0,0,30.65372,-81.45105,Commercial,Reinforced Masonry,1',\n",
       " '589642,FL,NASSAU COUNTY,0,615141.68,0,0,615141.68,895926.17,0,0,0,0,30.63945,-81.455553,Residential,Masonry,1',\n",
       " '846109,FL,NASSAU COUNTY,0,135000,0,135000,135000,138827.52,0,4050,0,0,30.570326,-81.451576,Residential,Wood,3',\n",
       " '399079,FL,NASSAU COUNTY,0,161748,0,161748,161748,235301.93,0,0,0,0,30.5708,-81.44959,Residential,Wood,1',\n",
       " '680135,FL,NASSAU COUNTY,0,164484,0,164484,164484,194814.85,0,0,0,0,30.5708,-81.44959,Residential,Wood,1',\n",
       " '621379,FL,NASSAU COUNTY,0,170532,0,170532,170532,178465.15,0,0,0,0,30.571087,-81.448578,Residential,Wood,1',\n",
       " '606710,FL,NASSAU COUNTY,0,181980,0,181980,181980,181216.05,0,5459.4,0,0,30.570854,-81.448212,Residential,Wood,1',\n",
       " '443319,FL,NASSAU COUNTY,0,181980,0,181980,181980,151151.13,0,5459.4,0,0,30.571154,-81.448433,Residential,Wood,1',\n",
       " '228591,FL,NASSAU COUNTY,0,186012,0,186012,186012,176389.97,0,0,0,0,30.5708,-81.44959,Residential,Wood,1',\n",
       " '721610,FL,NASSAU COUNTY,0,192348,0,192348,192348,210005.55,0,0,0,0,30.571323,-81.450188,Residential,Wood,1',\n",
       " '507395,FL,NASSAU COUNTY,0,197604,0,197604,197604,203450.71,0,0,0,0,30.570711,-81.448067,Residential,Wood,1',\n",
       " '213399,FL,NASSAU COUNTY,0,198468,0,198468,198468,202538.58,0,0,0,0,30.571777,-81.449326,Residential,Wood,1',\n",
       " '579400,FL,NASSAU COUNTY,0,198612,0,198612,198612,226675.88,0,0,0,0,30.5716,-81.45134,Residential,Wood,1',\n",
       " '509951,FL,NASSAU COUNTY,0,200052,0,200052,200052,335395.98,0,0,0,0,30.57098,-81.44838,Residential,Wood,1',\n",
       " '930798,FL,NASSAU COUNTY,0,201276,0,201276,201276,216909.11,0,0,0,0,30.571613,-81.450577,Residential,Wood,1',\n",
       " '729247,FL,NASSAU COUNTY,0,207324,0,207324,207324,252344.61,0,0,0,0,30.5708,-81.44959,Residential,Wood,1',\n",
       " '288344,FL,NASSAU COUNTY,0,208836,0,208836,208836,310058.81,0,0,0,0,30.5708,-81.44959,Residential,Wood,1',\n",
       " '275351,FL,NASSAU COUNTY,0,212436,0,212436,212436,225030.91,0,0,0,0,30.57164,-81.450279,Residential,Wood,1',\n",
       " '976690,FL,NASSAU COUNTY,0,218052,0,218052,218052,332681.94,0,0,0,0,30.571306,-81.45015,Residential,Wood,1',\n",
       " '507111,FL,NASSAU COUNTY,0,218412,0,218412,218412,222125,0,0,0,0,30.571608,-81.450661,Residential,Wood,1',\n",
       " '547458,FL,NASSAU COUNTY,0,221076,0,221076,221076,277280.37,0,0,0,0,30.571609,-81.450615,Residential,Wood,1',\n",
       " '827732,FL,NASSAU COUNTY,0,226764,0,226764,226764,303833.37,0,0,0,0,30.571665,-81.450089,Residential,Wood,1',\n",
       " '229489,FL,NASSAU COUNTY,0,237132,0,237132,237132,282225.02,0,0,0,0,30.571615,-81.450531,Residential,Wood,1',\n",
       " '175251,FL,NASSAU COUNTY,0,239652,0,239652,239652,178583.88,0,0,0,0,30.571812,-81.448822,Residential,Wood,1',\n",
       " '590043,FL,NASSAU COUNTY,0,245052,0,245052,245052,241166.46,0,0,0,0,30.571596,-81.450874,Residential,Wood,1',\n",
       " '476037,FL,NASSAU COUNTY,0,245052,0,245052,245052,306551.23,0,0,0,0,30.5708,-81.44959,Residential,Wood,1',\n",
       " '674960,FL,NASSAU COUNTY,0,257868,0,257868,257868,338372.33,0,0,0,0,30.57086,-81.448174,Residential,Wood,1',\n",
       " '743790,FL,NASSAU COUNTY,0,6381518.4,0,6381518.4,6381518.4,8757880.98,0,0,0,0,30.570326,-81.451576,Commercial,Reinforced Masonry,3',\n",
       " '817283,FL,NASSAU COUNTY,0,15390000,0,15390000,15390000,11790000,0,461349,0,0,30.570221,-81.451309,Commercial,Reinforced Concrete,1',\n",
       " '201980,FL,NASSAU COUNTY,235696.5,235696.5,235696.5,235696.5,235696.5,353171.41,0,0,0,0,30.64448,-81.45489,Residential,Wood,1',\n",
       " '351505,FL,NASSAU COUNTY,18000,18000,18000,18000,18000,16830,0,540,0,0,30.653568,-81.449318,Residential,Wood,1',\n",
       " '798806,FL,NASSAU COUNTY,1772074.8,1772074.8,1772074.8,1772074.8,1772074.8,1768133.71,0,0,0,0,30.65118,-81.44969,Residential,Masonry,1',\n",
       " '153643,FL,NASSAU COUNTY,95922,95922,95922,95922,95922,150073.42,0,0,0,0,30.65118,-81.44969,Residential,Wood,1',\n",
       " '683653,FL,NASSAU COUNTY,20763,20763,20763,20763,20763,20966.31,0,0,0,0,30.65118,-81.44969,Residential,Wood,1',\n",
       " '475264,FL,NASSAU COUNTY,0,16560000,0,0,16560000,20610000,0,497691,0,0,30.639568,-81.442482,Commercial,Reinforced Concrete,1',\n",
       " '912944,FL,NASSAU COUNTY,0,582759.1,0,0,582759.1,1020490.44,0,0,0,0,30.59491,-81.539909,Residential,Masonry,4',\n",
       " '945134,FL,NASSAU COUNTY,0,2244.53,0,0,2244.53,2937.46,0,0,0,0,30.59491,-81.539909,Residential,Wood,4',\n",
       " '219959,FL,NASSAU COUNTY,0,196396.18,0,0,196396.18,190425.74,0,0,0,0,30.59491,-81.539909,Residential,Wood,4',\n",
       " '793504,FL,NASSAU COUNTY,0,21500.33,0,0,21500.33,19687.96,0,0,0,0,30.6119,-81.455986,Residential,Wood,3',\n",
       " '450423,FL,NASSAU COUNTY,0,74091.86,0,0,74091.86,110035.31,0,0,0,0,30.596535,-81.546837,Residential,Wood,1',\n",
       " '505178,FL,NASSAU COUNTY,0,86863.23,0,0,86863.23,123807.2,0,0,0,0,30.596535,-81.546837,Residential,Wood,1',\n",
       " '408688,FL,NASSAU COUNTY,0,796134.02,0,0,796134.02,838972.4,0,0,0,0,30.66665,-81.45235,Residential,Masonry,1',\n",
       " '477759,FL,NASSAU COUNTY,0,298522.2,0,0,298522.2,227585.86,0,0,0,0,30.657654,-81.463341,Residential,Wood,1',\n",
       " '882441,FL,NASSAU COUNTY,0,23118.64,0,0,23118.64,23505.92,0,0,0,0,30.65838,-81.46358,Residential,Wood,1',\n",
       " '727602,FL,NASSAU COUNTY,0,63407.91,0,0,63407.91,78862,0,0,0,0,30.617165,-81.461609,Residential,Wood,1',\n",
       " '313226,FL,NASSAU COUNTY,0,285728.39,0,0,285728.39,288837.12,0,0,0,0,30.617874,-81.457794,Residential,Wood,1',\n",
       " '337027,FL,NASSAU COUNTY,0,9016.27,0,0,9016.27,9045.12,0,0,0,0,30.663744,-81.453941,Residential,Wood,4',\n",
       " '649251,FL,NASSAU COUNTY,0,80915.23,0,0,80915.23,98214.9,0,0,0,0,30.67024,-81.454628,Residential,Wood,3',\n",
       " '142564,FL,NASSAU COUNTY,0,28898.3,0,0,28898.3,36004.04,0,0,0,0,30.61945,-81.465965,Residential,Wood,1',\n",
       " '197782,FL,NASSAU COUNTY,0,1505741.49,0,0,1505741.49,2197471.6,0,0,0,0,30.610081,-81.446259,Residential,Masonry,1',\n",
       " '709787,FL,NASSAU COUNTY,0,53078.59,0,0,53078.59,62305.99,0,0,0,0,30.610081,-81.446259,Residential,Wood,1',\n",
       " '655065,FL,NASSAU COUNTY,0,162952.72,0,0,162952.72,185883.43,0,0,0,0,30.67044,-81.46572,Residential,Wood,3',\n",
       " '176778,FL,NASSAU COUNTY,0,2261249.55,0,0,2261249.55,1825782.64,0,0,0,0,30.671413,-81.464905,Commercial,Reinforced Masonry,1',\n",
       " '559179,FL,NASSAU COUNTY,0,1363101.75,0,0,1363101.75,1619364.87,0,0,0,0,30.65501,-81.45117,Residential,Masonry,1',\n",
       " '698071,FL,NASSAU COUNTY,0,295716.54,0,0,295716.54,247758.41,0,0,0,0,30.665545,-81.43205,Residential,Wood,3',\n",
       " '642950,FL,NASSAU COUNTY,0,392231.24,0,0,392231.24,344336.66,0,0,0,0,30.63862,-81.43702,Residential,Masonry,4',\n",
       " '477240,FL,NASSAU COUNTY,0,192917.17,0,0,192917.17,238214.12,0,0,0,0,30.66665,-81.45235,Residential,Wood,1',\n",
       " '672348,FL,NASSAU COUNTY,0,168339.59,0,0,168339.59,269983.03,0,0,0,0,30.63833,-81.44564,Residential,Wood,1',\n",
       " '922844,FL,NASSAU COUNTY,0,316029.52,0,0,316029.52,337216.14,0,0,0,0,30.617874,-81.457794,Residential,Wood,1',\n",
       " '948580,FL,NASSAU COUNTY,0,151505.63,0,0,151505.63,185310.32,0,0,0,0,30.67069,-81.458395,Residential,Wood,3',\n",
       " '364552,FL,NASSAU COUNTY,0,280565.98,0,0,280565.98,329505.66,0,0,0,0,30.65838,-81.46358,Residential,Wood,1',\n",
       " '561601,FL,NASSAU COUNTY,0,460128.2,0,0,460128.2,792672.06,0,0,0,0,30.671312,-81.46492,Residential,Masonry,1',\n",
       " '584749,FL,NASSAU COUNTY,0,324000,0,324000,324000,506745.07,0,9720,0,0,30.626793,-81.485847,Residential,Wood,1',\n",
       " '601327,FL,COLUMBIA COUNTY,212850,212850,212850,212850,212850,340143.88,0,0,0,0,29.925,-82.7109,Residential,Wood,1',\n",
       " '302578,FL,COLUMBIA COUNTY,135000,135000,135000,135000,135000,150719.13,0,0,0,0,29.9248,-82.71114,Residential,Wood,1',\n",
       " '756585,FL,COLUMBIA COUNTY,94284,94284,94284,94284,94284,100714.17,0,0,0,0,29.90334,-82.63364,Residential,Wood,1',\n",
       " '627591,FL,COLUMBIA COUNTY,6300,6300,6300,6300,6300,9566.42,0,0,0,0,29.919149,-82.639236,Residential,Wood,1',\n",
       " '663563,FL,COLUMBIA COUNTY,1248407.1,1248407.1,0,0,1248407.1,1417531.31,0,0,0,0,29.9301,-82.7088,Residential,Masonry,3',\n",
       " '108959,FL,COLUMBIA COUNTY,0,114170.34,0,0,114170.34,136068.22,0,0,0,0,30.041415,-82.70641,Residential,Wood,3',\n",
       " '951069,FL,COLUMBIA COUNTY,0,498344.66,0,0,498344.66,434656.21,0,0,0,0,29.92143,-82.71411,Residential,Masonry,1',\n",
       " '490641,FL,BAKER COUNTY,0,910.22,0,0,910.22,1346.55,0,0,0,0,30.265605,-82.16215,Residential,Wood,3',\n",
       " '443968,FL,BAKER COUNTY,0,3195.34,0,0,3195.34,4551.39,0,0,0,0,30.27125,-82.160875,Residential,Wood,3',\n",
       " '433688,FL,CLAY COUNTY,0,172157.99,0,0,172157.99,171582.99,0,0,0,0,29.980408,-81.658165,Residential,Wood,1',\n",
       " '168578,FL,CLAY COUNTY,945000,945000,945000,945000,945000,750524.67,0,0,0,0,30.0517,-81.82975,Residential,Masonry,1',\n",
       " '294375,FL,CLAY COUNTY,76500,76500,76500,76500,76500,121368.78,0,0,0,0,30.0517,-81.82975,Residential,Wood,1',\n",
       " '902110,FL,CLAY COUNTY,76500,76500,76500,76500,76500,94517.28,0,0,0,0,30.0517,-81.82975,Residential,Wood,1',\n",
       " '279816,FL,CLAY COUNTY,431726.4,431726.4,0,0,431726.4,640896.11,0,0,0,0,29.98839,-81.70777,Residential,Masonry,1',\n",
       " '994565,FL,CLAY COUNTY,0,11767.98,0,0,11767.98,14137.95,0,0,0,0,29.9826,-81.7238,Residential,Wood,4',\n",
       " '930535,FL,CLAY COUNTY,0,15981.99,0,0,15981.99,25400.89,0,0,0,0,29.9826,-81.7238,Residential,Wood,4',\n",
       " '844642,FL,CLAY COUNTY,0,35302.09,0,0,35302.09,47059.67,0,0,0,0,29.9826,-81.7238,Residential,Wood,4',\n",
       " '292887,FL,CLAY COUNTY,0,26396.15,0,0,26396.15,28938.78,0,0,0,0,29.9826,-81.7238,Residential,Wood,4',\n",
       " '655128,FL,CLAY COUNTY,0,7536.5,0,0,7536.5,10216,0,0,0,0,29.9826,-81.7238,Residential,Wood,4',\n",
       " '164038,FL,CLAY COUNTY,0,13198.07,0,0,13198.07,16695.56,0,0,0,0,29.9826,-81.7238,Residential,Wood,4',\n",
       " '163057,FL,CLAY COUNTY,0,29410.75,0,0,29410.75,25890.52,0,0,0,0,29.9826,-81.7238,Residential,Wood,4',\n",
       " '327730,FL,CLAY COUNTY,0,13198.07,0,0,13198.07,11239.53,0,0,0,0,29.9826,-81.7238,Residential,Wood,4',\n",
       " '218187,FL,CLAY COUNTY,0,25780.36,0,0,25780.36,35155,0,0,0,0,29.9826,-81.7238,Residential,Wood,4',\n",
       " '697530,FL,CLAY COUNTY,0,9806.65,0,0,9806.65,16990.72,0,0,0,0,29.9826,-81.7238,Residential,Wood,4',\n",
       " '619053,FL,CLAY COUNTY,0,15992.1,0,0,15992.1,23431.62,0,0,0,0,29.9826,-81.7238,Residential,Wood,4',\n",
       " '431406,FL,CLAY COUNTY,0,9806.65,0,0,9806.65,7026.15,0,0,0,0,29.9826,-81.7238,Residential,Wood,3',\n",
       " '256801,FL,CLAY COUNTY,0,13198.07,0,0,13198.07,22117.33,0,0,0,0,29.9826,-81.7238,Residential,Wood,4',\n",
       " '571398,FL,CLAY COUNTY,0,304842.43,0,0,304842.43,250185.41,0,0,0,0,29.9826,-81.7238,Residential,Wood,3',\n",
       " '239669,FL,CLAY COUNTY,0,13198.07,0,0,13198.07,13200.19,0,0,0,0,29.9826,-81.7238,Residential,Wood,3',\n",
       " '530369,FL,CLAY COUNTY,0,48252.01,0,0,48252.01,36139.79,0,0,0,0,29.9826,-81.7238,Residential,Wood,4',\n",
       " '948187,FL,CLAY COUNTY,0,9806.65,0,0,9806.65,13926.22,0,0,0,0,29.9826,-81.7238,Residential,Wood,3',\n",
       " '571059,FL,CLAY COUNTY,0,9190.86,0,0,9190.86,14678.43,0,0,0,0,29.9826,-81.7238,Residential,Wood,4',\n",
       " '470539,FL,CLAY COUNTY,0,68931.45,0,0,68931.45,85159.98,0,0,0,0,29.993125,-81.67742,Residential,Wood,3',\n",
       " '791046,FL,CLAY COUNTY,0,68931.45,0,0,68931.45,99578.92,0,0,0,0,29.993125,-81.67742,Residential,Wood,3',\n",
       " '563971,FL,CLAY COUNTY,0,27572.58,0,0,27572.58,30033.98,0,0,0,0,29.993125,-81.67742,Residential,Wood,3',\n",
       " '823903,FL,CLAY COUNTY,0,13786.29,0,0,13786.29,22316.42,0,0,0,0,29.993125,-81.67742,Residential,Wood,3',\n",
       " '812504,FL,CLAY COUNTY,0,9190.86,0,0,9190.86,10540.08,0,0,0,0,29.9826,-81.7238,Residential,Wood,4',\n",
       " '597719,FL,CLAY COUNTY,0,102937.63,0,0,102937.63,94857.02,0,0,0,0,29.995916,-81.689049,Residential,Wood,1',\n",
       " '716513,FL,CLAY COUNTY,0,19605.94,0,0,19605.94,18479.62,0,0,0,0,30.004622,-81.683899,Residential,Wood,3',\n",
       " '378286,FL,CLAY COUNTY,0,13198.07,0,0,13198.07,16161.17,0,0,0,0,29.9826,-81.7238,Residential,Wood,4',\n",
       " '698982,FL,CLAY COUNTY,0,9806.65,0,0,9806.65,12391.68,0,0,0,0,29.9826,-81.7238,Residential,Wood,4',\n",
       " '624550,FL,CLAY COUNTY,0,9806.65,0,0,9806.65,13533.17,0,0,0,0,29.9826,-81.7238,Residential,Wood,4',\n",
       " '666076,FL,CLAY COUNTY,0,11764.3,0,0,11764.3,11058.82,0,0,0,0,29.9826,-81.7238,Residential,Wood,4',\n",
       " '474145,FL,CLAY COUNTY,0,7619.22,0,0,7619.22,6304.92,0,0,0,0,29.9826,-81.7238,Residential,Wood,4',\n",
       " '572929,FL,CLAY COUNTY,0,13198.07,0,0,13198.07,18039.84,0,0,0,0,29.9826,-81.7238,Residential,Wood,4',\n",
       " '640205,FL,CLAY COUNTY,0,6433.6,0,0,6433.6,8588.09,0,0,0,0,29.9826,-81.7238,Residential,Wood,3',\n",
       " '295930,FL,CLAY COUNTY,0,6617.42,0,0,6617.42,5824.75,0,0,0,0,30.0156,-81.70065,Residential,Wood,3',\n",
       " '823004,FL,CLAY COUNTY,0,9806.65,0,0,9806.65,9970.77,0,0,0,0,29.9826,-81.7238,Residential,Wood,4',\n",
       " '230536,FL,CLAY COUNTY,0,8712.94,0,0,8712.94,10813.94,0,0,0,0,30.004385,-81.683762,Residential,Wood,3',\n",
       " '936142,FL,CLAY COUNTY,0,301000.66,0,0,301000.66,321265.52,0,0,0,0,30.00421,-81.684,Residential,Wood,3',\n",
       " '724639,FL,CLAY COUNTY,0,57442.87,0,0,57442.87,86664.06,0,0,0,0,29.9826,-81.7238,Residential,Wood,4',\n",
       " '119986,FL,CLAY COUNTY,0,18381.72,0,0,18381.72,15298.37,0,0,0,0,29.9826,-81.7238,Residential,Wood,4',\n",
       " '603370,FL,CLAY COUNTY,0,3032.98,0,0,3032.98,4916.61,0,0,0,0,29.9826,-81.7238,Residential,Wood,4',\n",
       " '532496,FL,CLAY COUNTY,0,3032.98,0,0,3032.98,4227.37,0,0,0,0,29.9826,-81.7238,Residential,Wood,4',\n",
       " '786954,FL,CLAY COUNTY,0,9007.04,0,0,9007.04,7864.77,0,0,0,0,30.00169,-81.71087,Residential,Wood,4',\n",
       " '416348,FL,CLAY COUNTY,0,18381.72,0,0,18381.72,27063.92,0,0,0,0,29.9826,-81.7238,Residential,Wood,4',\n",
       " '506364,FL,CLAY COUNTY,0,652150.86,0,0,652150.86,614169.6,0,0,0,0,30.006186,-81.698914,Residential,Masonry,1',\n",
       " '311994,FL,CLAY COUNTY,0,75824.59,0,0,75824.59,85602.93,0,0,0,0,30.006186,-81.698914,Residential,Wood,1',\n",
       " '807442,FL,CLAY COUNTY,0,91908.6,0,0,91908.6,94516.04,0,0,0,0,30.006186,-81.698914,Residential,Wood,1',\n",
       " '235695,FL,CLAY COUNTY,0,45954.3,0,0,45954.3,41626.05,0,0,0,0,30.006186,-81.698914,Residential,Wood,1',\n",
       " '481294,FL,CLAY COUNTY,0,64336.02,0,0,64336.02,69354.23,0,0,0,0,30.006186,-81.698914,Residential,Wood,1',\n",
       " '292670,FL,CLAY COUNTY,0,234366.92,0,0,234366.92,184597.7,0,0,0,0,30.006186,-81.698914,Residential,Wood,1',\n",
       " '127739,FL,CLAY COUNTY,0,13786.29,0,0,13786.29,17192.67,0,0,0,0,30.006186,-81.698914,Residential,Wood,1',\n",
       " '869056,FL,CLAY COUNTY,0,22977.15,0,0,22977.15,22060.5,0,0,0,0,29.9994,-81.71524,Residential,Wood,3',\n",
       " '514471,FL,CLAY COUNTY,0,18381.72,0,0,18381.72,27269.28,0,0,0,0,29.9826,-81.7238,Residential,Wood,3',\n",
       " '903764,FL,CLAY COUNTY,0,91908.6,0,0,91908.6,130879.31,0,0,0,0,29.99534,-81.684074,Residential,Wood,3',\n",
       " '192068,FL,CLAY COUNTY,0,43840.4,0,0,43840.4,39041.19,0,0,0,0,29.98799,-81.69477,Residential,Wood,3',\n",
       " '109815,FL,CLAY COUNTY,0,38601.61,0,0,38601.61,63272.13,0,0,0,0,30.00593,-81.698545,Residential,Wood,3',\n",
       " '495339,FL,CLAY COUNTY,0,413588.69,0,0,413588.69,420116.77,0,0,0,0,29.98272,-81.676795,Residential,Masonry,3',\n",
       " '752123,FL,CLAY COUNTY,0,13786.29,0,0,13786.29,18320.32,0,0,0,0,29.9826,-81.7238,Residential,Wood,4',\n",
       " '412775,FL,CLAY COUNTY,0,22977.15,0,0,22977.15,28403.71,0,0,0,0,30.00228,-81.699965,Residential,Wood,3',\n",
       " '249958,FL,CLAY COUNTY,0,25274.86,0,0,25274.86,38878,0,0,0,0,29.96809,-81.65459,Residential,Wood,3',\n",
       " '754919,FL,CLAY COUNTY,0,27572.58,0,0,27572.58,24486.1,0,0,0,0,29.989515,-81.687235,Residential,Wood,3',\n",
       " '829637,FL,CLAY COUNTY,0,137862.9,0,0,137862.9,127544.55,0,0,0,0,29.989515,-81.687235,Residential,Wood,3',\n",
       " '931429,FL,CLAY COUNTY,0,91908.6,0,0,91908.6,97127.17,0,0,0,0,29.989515,-81.687235,Residential,Wood,3',\n",
       " '565451,FL,CLAY COUNTY,0,22977.15,0,0,22977.15,31074.07,0,0,0,0,30.00414,-81.700315,Residential,Wood,3',\n",
       " '722334,FL,CLAY COUNTY,0,27572.58,0,0,27572.58,36234.34,0,0,0,0,30.00421,-81.684,Residential,Wood,3',\n",
       " '630898,FL,CLAY COUNTY,0,77254.74,0,0,77254.74,114400.37,0,0,0,0,29.9817,-81.81295,Residential,Wood,3',\n",
       " '166536,FL,CLAY COUNTY,0,212887.5,0,0,212887.5,184477.66,0,0,0,0,29.9817,-81.81295,Residential,Wood,3',\n",
       " '469135,FL,CLAY COUNTY,0,653122.95,0,0,653122.95,1049829.83,0,0,0,0,29.98782,-81.69136,Residential,Masonry,1',\n",
       " '678786,FL,CLAY COUNTY,0,635702.59,0,0,635702.59,803088.17,0,0,0,0,30.031706,-81.708595,Residential,Masonry,1',\n",
       " '284473,FL,CLAY COUNTY,0,781465.69,0,0,781465.69,1174149.07,0,0,0,0,29.839308,-81.661644,Residential,Masonry,3',\n",
       " '499389,FL,CLAY COUNTY,0,638884.47,0,0,638884.47,926230.42,0,0,0,0,29.986181,-81.695091,Residential,Masonry,1',\n",
       " '541241,FL,CLAY COUNTY,0,1939500,0,1939500,1939500,3345521.13,0,58185,0,0,29.98,-81.69609,Commercial,Reinforced Masonry,1',\n",
       " '797586,FL,CLAY COUNTY,0,6760449.39,0,0,6760449.39,6739694.81,0,0,0,0,29.99665,-81.68111,Commercial,Reinforced Masonry,1',\n",
       " '812823,FL,CLAY COUNTY,162366.3,162366.3,162366.3,162366.3,162366.3,168942.46,0,0,0,0,30.026604,-81.70697,Residential,Wood,1',\n",
       " '598244,FL,CLAY COUNTY,0,648862.42,0,0,648862.42,981993.57,0,0,0,0,29.981771,-81.675621,Residential,Masonry,3',\n",
       " '788363,FL,CLAY COUNTY,0,240578.59,0,0,240578.59,192335.37,0,0,0,0,29.997179,-81.736023,Residential,Wood,1',\n",
       " '737787,FL,CLAY COUNTY,0,13467.17,0,0,13467.17,14335.1,0,0,0,0,30.005896,-81.730293,Residential,Wood,1',\n",
       " '445518,FL,CLAY COUNTY,0,19639.62,0,0,19639.62,24001.58,0,0,0,0,29.892822,-81.670074,Residential,Wood,1',\n",
       " '758347,FL,CLAY COUNTY,0,604316.67,0,0,604316.67,622958.63,0,0,0,0,29.983204,-81.755379,Residential,Masonry,1',\n",
       " '195133,FL,CLAY COUNTY,0,171459.48,0,0,171459.48,160656.16,0,0,0,0,29.983204,-81.755379,Residential,Wood,1',\n",
       " '991548,FL,CLAY COUNTY,0,822091.98,0,0,822091.98,885491.72,0,0,0,0,29.99319,-81.68175,Residential,Masonry,1',\n",
       " '696936,FL,CLAY COUNTY,0,85444.69,0,0,85444.69,124562.37,0,0,0,0,30.00093,-81.679455,Residential,Wood,3',\n",
       " '393176,FL,CLAY COUNTY,0,26934.33,0,0,26934.33,34616.01,0,0,0,0,30.00135,-81.742455,Residential,Wood,3',\n",
       " '626647,FL,CLAY COUNTY,0,162728.27,0,0,162728.27,266906.9,0,0,0,0,30.00135,-81.742455,Residential,Wood,3',\n",
       " '915781,FL,CLAY COUNTY,0,589356.89,0,0,589356.89,472322.4,0,0,0,0,30.00135,-81.742455,Residential,Masonry,3',\n",
       " '827852,FL,CLAY COUNTY,0,13657.95,0,0,13657.95,19860.19,0,0,0,0,30.00135,-81.742455,Residential,Wood,3',\n",
       " '800420,FL,CLAY COUNTY,0,64726.57,0,0,64726.57,71551.34,0,0,0,0,29.983204,-81.755379,Residential,Wood,1',\n",
       " '728346,FL,CLAY COUNTY,0,2603338.04,0,0,2603338.04,3496699.52,0,0,0,0,29.983204,-81.755379,Commercial,Reinforced Masonry,1',\n",
       " '928642,FL,CLAY COUNTY,0,67335.83,0,0,67335.83,69182.52,0,0,0,0,29.983204,-81.755379,Residential,Wood,1',\n",
       " '442061,FL,CLAY COUNTY,0,22445.28,0,0,22445.28,24191.61,0,0,0,0,29.983204,-81.755379,Residential,Wood,1',\n",
       " '810826,FL,CLAY COUNTY,0,31984.52,0,0,31984.52,52870.8,0,0,0,0,29.983204,-81.755379,Residential,Wood,1',\n",
       " '336798,FL,CLAY COUNTY,0,44890.56,0,0,44890.56,60419.64,0,0,0,0,29.983204,-81.755379,Residential,Wood,1',\n",
       " '830917,FL,CLAY COUNTY,0,15341.35,0,0,15341.35,20025.98,0,0,0,0,29.983204,-81.755379,Residential,Wood,1',\n",
       " '984232,FL,CLAY COUNTY,0,1748172.94,0,0,1748172.94,2274163.21,0,0,0,0,29.99146,-81.67947,Residential,Masonry,1',\n",
       " '203667,FL,CLAY COUNTY,0,212051.77,0,0,212051.77,205713.96,0,0,0,0,30.024078,-81.714539,Residential,Wood,1',\n",
       " '395084,FL,CLAY COUNTY,0,238222.96,0,0,238222.96,347967.51,0,0,0,0,30.024078,-81.714539,Residential,Wood,1',\n",
       " '869242,FL,CLAY COUNTY,0,174354.92,0,0,174354.92,187374.87,0,0,0,0,30.024033,-81.714836,Residential,Wood,1',\n",
       " '704537,FL,CLAY COUNTY,0,29086.84,0,0,29086.84,39703.53,0,0,0,0,29.9826,-81.7238,Residential,Wood,4',\n",
       " '692691,FL,CLAY COUNTY,0,49883.51,0,0,49883.51,54682.3,0,0,0,0,29.99501,-81.69407,Residential,Wood,3',\n",
       " '580758,FL,CLAY COUNTY,0,33850.85,0,0,33850.85,47324.63,0,0,0,0,30.046192,-81.795082,Residential,Wood,1',\n",
       " '515486,FL,CLAY COUNTY,0,14204.49,0,0,14204.49,21284.3,0,0,0,0,30.046192,-81.795082,Residential,Wood,1',\n",
       " '884079,FL,CLAY COUNTY,0,60112.94,0,0,60112.94,67485.56,0,0,0,0,30.046192,-81.795082,Residential,Wood,1',\n",
       " '491095,FL,CLAY COUNTY,0,776595.4,0,0,776595.4,788694.76,0,0,0,0,29.9826,-81.7238,Residential,Masonry,4',\n",
       " '579764,FL,CLAY COUNTY,0,88434.4,0,0,88434.4,110143.27,0,0,0,0,29.9826,-81.7238,Residential,Wood,1',\n",
       " '263177,FL,CLAY COUNTY,0,61724.52,0,0,61724.52,50970.62,0,0,0,0,29.992,-81.68678,Residential,Wood,1',\n",
       " '710739,FL,CLAY COUNTY,0,33667.92,0,0,33667.92,45290.08,0,0,0,0,29.99327,-81.724515,Residential,Wood,3',\n",
       " '156129,FL,CLAY COUNTY,0,64275.42,0,0,64275.42,80342.73,0,0,0,0,29.992,-81.68678,Residential,Wood,1',\n",
       " '178800,FL,BRADFORD COUNTY,216363.6,216363.6,0,0,216363.6,347251.89,0,0,0,0,29.869762,-82.202431,Residential,Wood,1',\n",
       " '406073,FL,BRADFORD COUNTY,0,106317.27,0,0,106317.27,105384.87,0,0,0,0,29.86261,-82.135475,Residential,Wood,3',\n",
       " '450089,FL,BRADFORD COUNTY,0,170207.57,0,0,170207.57,148194.97,0,0,0,0,29.864408,-82.135536,Residential,Wood,1',\n",
       " '894206,FL,NASSAU COUNTY,189999.9,189999.9,0,0,189999.9,291171.43,0,0,0,0,30.687055,-81.9198,Residential,Wood,1',\n",
       " '472007,FL,NASSAU COUNTY,635996.7,635996.7,0,0,635996.7,1010881.77,0,0,0,0,30.7595,-81.9576,Residential,Masonry,4',\n",
       " '500287,FL,NASSAU COUNTY,1729530,1729530,0,0,1729530,2062651.31,0,0,0,0,30.69844,-81.908635,Residential,Masonry,4',\n",
       " '365732,FL,NASSAU COUNTY,0,110218.53,0,0,110218.53,114569.52,0,0,0,0,30.690071,-81.919342,Residential,Wood,3',\n",
       " '365145,FL,NASSAU COUNTY,0,123995.38,0,0,123995.38,142594.69,0,0,0,0,30.690071,-81.919342,Residential,Wood,3',\n",
       " '237841,FL,NASSAU COUNTY,0,13777.78,0,0,13777.78,22931.74,0,0,0,0,30.690071,-81.919342,Residential,Wood,3',\n",
       " '497561,FL,NASSAU COUNTY,0,38954.52,0,0,38954.52,30813.03,0,0,0,0,30.692579,-81.923798,Residential,Wood,1',\n",
       " '245837,FL,NASSAU COUNTY,0,428020.45,0,0,428020.45,590955.85,0,0,0,0,30.692579,-81.923798,Residential,Masonry,1',\n",
       " '732075,FL,NASSAU COUNTY,0,38954.52,0,0,38954.52,44390.39,0,0,0,0,30.687847,-81.928619,Residential,Wood,3',\n",
       " '657625,FL,NASSAU COUNTY,0,3505598.5,0,0,3505598.5,5610030.32,0,0,0,0,30.698156,-81.917923,Commercial,Reinforced Masonry,1',\n",
       " '790556,FL,NASSAU COUNTY,0,140160.38,0,0,140160.38,195355.54,0,0,0,0,30.692579,-81.923798,Residential,Wood,1',\n",
       " '207626,FL,NASSAU COUNTY,0,60397.19,0,0,60397.19,73202.3,0,0,0,0,30.68227,-82.010965,Residential,Wood,3',\n",
       " '902008,FL,NASSAU COUNTY,0,1138559.14,0,0,1138559.14,1124171.17,0,0,0,0,30.68758,-81.90805,Residential,Masonry,1',\n",
       " '135936,FL,HAMILTON COUNTY,0,4623.3,0,4623.3,4623.3,7055.16,0,0,0,0,30.51869,-82.95187,Residential,Wood,3',\n",
       " '997759,FL,HAMILTON COUNTY,0,34212.42,0,0,34212.42,42302.97,0,0,0,0,30.51869,-82.95187,Residential,Wood,3',\n",
       " '470224,FL,HAMILTON COUNTY,0,11095.92,0,0,11095.92,10246.42,0,0,0,0,30.51869,-82.95187,Residential,Wood,3',\n",
       " '367761,FL,HAMILTON COUNTY,0,25899.23,0,0,25899.23,35000.32,0,0,0,0,30.505239,-82.95285,Residential,Wood,1',\n",
       " '285586,FL,HAMILTON COUNTY,0,10211.17,0,0,10211.17,18829.64,0,0,0,0,30.505239,-82.95285,Residential,Wood,1',\n",
       " '122164,FL,HAMILTON COUNTY,0,4084.47,0,0,4084.47,3579.34,0,0,0,0,30.496,-82.9527,Residential,Wood,4',\n",
       " '152913,FL,HAMILTON COUNTY,0,26920.35,0,0,26920.35,28007.93,0,0,0,0,30.465835,-83.006185,Residential,Wood,3',\n",
       " '655156,FL,HAMILTON COUNTY,0,80668.21,0,0,80668.21,70626.63,0,0,0,0,30.523375,-82.95845,Residential,Wood,1',\n",
       " '989201,FL,HAMILTON COUNTY,0,70642.7,0,0,70642.7,63476.71,0,0,0,0,30.523375,-82.95845,Residential,Wood,1',\n",
       " '207985,FL,HAMILTON COUNTY,0,263169.6,0,0,263169.6,368477.97,0,0,0,0,30.52085,-82.950535,Residential,Wood,4',\n",
       " '732449,FL,HAMILTON COUNTY,0,15873.72,0,0,15873.72,12857.71,0,0,0,0,30.51929,-82.94598,Residential,Wood,1',\n",
       " '665653,FL,HAMILTON COUNTY,0,246924.56,0,0,246924.56,419574.22,0,0,0,0,30.519608,-82.954086,Residential,Wood,1',\n",
       " '939634,FL,HAMILTON COUNTY,0,942304.98,0,0,942304.98,1133298.89,0,0,0,0,30.496,-82.9527,Residential,Masonry,4',\n",
       " '981796,FL,HAMILTON COUNTY,0,12996.03,0,0,12996.03,17111.87,0,0,0,0,30.52296,-82.955515,Residential,Wood,4',\n",
       " '269573,FL,HAMILTON COUNTY,0,42886.9,0,0,42886.9,66233.75,0,0,0,0,30.496,-82.9527,Residential,Wood,3',\n",
       " '602123,FL,HAMILTON COUNTY,0,2784.86,0,0,2784.86,4613.35,0,0,0,0,30.496,-82.9527,Residential,Wood,4',\n",
       " '336717,FL,HAMILTON COUNTY,0,105764.12,0,0,105764.12,116617.63,0,0,0,0,30.518326,-82.948914,Residential,Wood,1',\n",
       " '238449,FL,HAMILTON COUNTY,0,18419.71,0,0,18419.71,26153.37,0,0,0,0,30.496,-82.9527,Residential,Wood,3',\n",
       " '530357,FL,HAMILTON COUNTY,0,36836.28,0,0,36836.28,38632.56,0,0,0,0,30.52904,-82.960715,Residential,Wood,3',\n",
       " '896911,FL,HAMILTON COUNTY,0,214534.66,0,0,214534.66,252790.47,0,0,0,0,30.496,-82.9527,Residential,Wood,3',\n",
       " '391646,FL,HAMILTON COUNTY,0,44199.98,0,0,44199.98,54449.07,0,0,0,0,30.496,-82.9527,Residential,Wood,3',\n",
       " '710345,FL,HAMILTON COUNTY,0,51130.14,0,0,51130.14,53139.05,0,0,0,0,30.496,-82.9527,Residential,Wood,3',\n",
       " '944525,FL,HAMILTON COUNTY,194537.7,194537.7,0,0,194537.7,156395.86,0,0,0,0,30.5696,-83.1456,Residential,Wood,4',\n",
       " '800878,FL,HAMILTON COUNTY,0,28776.92,0,0,28776.92,32189.87,0,0,0,0,30.599605,-83.236685,Residential,Wood,3',\n",
       " '866106,FL,HAMILTON COUNTY,0,151310.92,0,0,151310.92,158091.16,0,0,0,0,30.58925,-83.09455,Residential,Wood,1',\n",
       " '204794,FL,HAMILTON COUNTY,0,179562.23,0,0,179562.23,147384.67,0,0,0,0,30.5696,-83.1456,Residential,Wood,1',\n",
       " '849458,FL,HAMILTON COUNTY,0,16833.96,0,0,16833.96,19110.92,0,0,0,0,30.5696,-83.1456,Residential,Wood,4',\n",
       " '806471,FL,HAMILTON COUNTY,0,24914.26,0,0,24914.26,33937.58,0,0,0,0,30.5696,-83.1456,Residential,Wood,3',\n",
       " '464589,FL,HAMILTON COUNTY,0,169461.85,0,0,169461.85,242525.33,0,0,0,0,30.603361,-83.09906,Residential,Wood,1',\n",
       " '591943,FL,UNION COUNTY,407520,407520,407520,407520,407520,652935.06,0,0,0,0,30.02339,-82.3414,Residential,Masonry,3',\n",
       " '973133,FL,UNION COUNTY,137160,137160,137160,137160,137160,235651.85,0,0,0,0,30.02339,-82.3414,Residential,Wood,3',\n",
       " '743965,FL,UNION COUNTY,123300,123300,123300,123300,123300,117740.65,0,0,0,0,30.02756,-82.33126,Residential,Wood,1',\n",
       " '528185,FL,UNION COUNTY,0,37823.84,0,0,37823.84,66198.38,0,0,0,0,29.934589,-82.409576,Residential,Wood,3',\n",
       " '219113,FL,UNION COUNTY,0,181487.52,0,0,181487.52,272492.62,0,0,0,0,30.024082,-82.338158,Residential,Wood,3',\n",
       " '376803,FL,UNION COUNTY,0,948148.79,0,0,948148.79,1344182.96,0,0,0,0,30.017946,-82.344803,Residential,Masonry,1',\n",
       " '233559,FL,COLUMBIA COUNTY,585000,585000,585000,585000,585000,516026.16,0,0,0,0,30.19826,-82.63482,Residential,Masonry,1',\n",
       " '579117,FL,COLUMBIA COUNTY,82620,82620,82620,82620,82620,67513.1,0,0,0,0,30.2598,-82.6422,Residential,Wood,4',\n",
       " '517674,FL,COLUMBIA COUNTY,0,61027.56,0,0,61027.56,66963.34,0,0,0,0,30.18928,-82.62603,Residential,Wood,1',\n",
       " '980808,FL,COLUMBIA COUNTY,0,22500,0,22500,22500,15583.05,0,0,0,0,30.189347,-82.631552,Residential,Wood,1',\n",
       " '143584,FL,COLUMBIA COUNTY,874801.8,874801.8,0,0,874801.8,1488037.86,0,0,0,0,30.179675,-82.67663,Residential,Masonry,1',\n",
       " '489643,FL,COLUMBIA COUNTY,504230.4,504230.4,0,0,504230.4,381198.18,0,0,0,0,30.367133,-82.629161,Residential,Masonry,3',\n",
       " '986109,FL,COLUMBIA COUNTY,0,67591.02,0,0,67591.02,107281.96,0,0,0,0,30.2598,-82.6422,Residential,Wood,4',\n",
       " '654640,FL,COLUMBIA COUNTY,0,135763.24,0,0,135763.24,123495.13,0,0,0,0,30.191295,-82.64519,Residential,Wood,1',\n",
       " '700895,FL,COLUMBIA COUNTY,702820.8,702820.8,702820.8,702820.8,702820.8,800541,0,0,0,0,30.183475,-82.68749,Residential,Masonry,4',\n",
       " '407962,FL,COLUMBIA COUNTY,0,129600000,0,0,129600000,120600000,0,0,0,0,30.232008,-82.638557,Commercial,Steel Frame,3',\n",
       " '494610,FL,COLUMBIA COUNTY,0,67892.48,0,0,67892.48,51746.63,0,0,0,0,30.174957,-82.662956,Residential,Wood,1',\n",
       " '744305,FL,COLUMBIA COUNTY,0,67892.48,0,0,67892.48,95471.01,0,0,0,0,30.20295,-82.63428,Residential,Wood,1',\n",
       " '512991,FL,COLUMBIA COUNTY,0,102221.41,0,0,102221.41,123969.01,0,0,0,0,30.20298,-82.63389,Residential,Wood,1',\n",
       " '507789,FL,COLUMBIA COUNTY,0,105926,0,0,105926,149616.24,0,0,0,0,30.174339,-82.662567,Residential,Wood,4',\n",
       " '186262,FL,COLUMBIA COUNTY,0,4542119.64,0,0,4542119.64,4765537.43,0,0,0,0,30.194994,-82.638016,Commercial,Reinforced Masonry,1',\n",
       " '978388,FL,COLUMBIA COUNTY,0,191242.75,0,0,191242.75,275087.39,0,0,0,0,30.19006,-82.60341,Residential,Wood,1',\n",
       " '784347,FL,COLUMBIA COUNTY,0,921352.86,0,0,921352.86,1031325.54,0,0,0,0,30.201794,-82.661995,Residential,Masonry,1',\n",
       " '679408,FL,COLUMBIA COUNTY,0,35322.13,0,0,35322.13,51938.8,0,0,0,0,30.218323,-82.645874,Residential,Wood,1',\n",
       " '306619,FL,COLUMBIA COUNTY,0,108562.2,0,0,108562.2,128945.84,0,0,0,0,30.218323,-82.645874,Residential,Wood,1',\n",
       " '457004,FL,COLUMBIA COUNTY,0,26195.88,0,0,26195.88,31749.41,0,0,0,0,30.218323,-82.645874,Residential,Wood,1',\n",
       " '329255,FL,COLUMBIA COUNTY,0,101204.64,0,0,101204.64,159306.22,0,0,0,0,30.25387,-82.70283,Residential,Wood,3',\n",
       " '900892,FL,COLUMBIA COUNTY,0,16160.6,0,0,16160.6,12760.09,0,0,0,0,30.25387,-82.70283,Residential,Wood,3',\n",
       " '633241,FL,COLUMBIA COUNTY,0,22781.96,0,0,22781.96,31753.49,0,0,0,0,30.25387,-82.70283,Residential,Wood,3',\n",
       " '502372,FL,COLUMBIA COUNTY,0,114298.09,0,0,114298.09,87129.43,0,0,0,0,30.27805,-82.69878,Residential,Wood,3',\n",
       " '719075,FL,COLUMBIA COUNTY,0,315302.29,0,0,315302.29,370039.71,0,0,0,0,30.186512,-82.695274,Residential,Wood,3',\n",
       " '920786,FL,COLUMBIA COUNTY,0,109954.93,0,0,109954.93,131220.21,0,0,0,0,30.2598,-82.6422,Residential,Wood,4',\n",
       " '232605,FL,COLUMBIA COUNTY,0,180630.62,0,0,180630.62,222258.75,0,0,0,0,30.160645,-82.708005,Residential,Wood,1',\n",
       " '601984,FL,COLUMBIA COUNTY,0,124374.9,0,0,124374.9,178903.34,0,0,0,0,30.2598,-82.6422,Residential,Wood,4',\n",
       " '459878,FL,COLUMBIA COUNTY,0,134464.05,0,0,134464.05,189045.7,0,0,0,0,30.201059,-82.635643,Residential,Wood,1',\n",
       " '565530,FL,COLUMBIA COUNTY,0,496159.61,0,0,496159.61,489018.88,0,0,0,0,30.201059,-82.635643,Residential,Masonry,1',\n",
       " '202651,FL,COLUMBIA COUNTY,0,2311064.6,0,0,2311064.6,2670204.04,0,0,0,0,30.201059,-82.635643,Commercial,Reinforced Masonry,1',\n",
       " '909104,FL,COLUMBIA COUNTY,0,72279,0,72279,72279,123617.33,0,0,0,0,30.2988,-82.6063,Residential,Wood,4',\n",
       " '872719,FL,COLUMBIA COUNTY,0,22356.54,0,0,22356.54,22455.91,0,0,0,0,30.189365,-82.63753,Residential,Wood,4',\n",
       " '997611,FL,COLUMBIA COUNTY,0,16767.17,0,0,16767.17,21121.61,0,0,0,0,30.19182,-82.6585,Residential,Wood,4',\n",
       " '519606,FL,COLUMBIA COUNTY,0,16767.17,0,0,16767.17,26327.41,0,0,0,0,30.197075,-82.63814,Residential,Wood,3',\n",
       " '624248,FL,COLUMBIA COUNTY,0,396814.48,0,0,396814.48,433692.83,0,0,0,0,30.11852,-82.68968,Residential,Masonry,4',\n",
       " '783767,FL,COLUMBIA COUNTY,0,167668.04,0,0,167668.04,255938.56,0,0,0,0,30.189645,-82.63638,Residential,Wood,3',\n",
       " '285479,FL,COLUMBIA COUNTY,0,16767.17,0,0,16767.17,12877.19,0,0,0,0,30.201195,-82.7174,Residential,Wood,3',\n",
       " '424793,FL,COLUMBIA COUNTY,0,16767.17,0,0,16767.17,20170.81,0,0,0,0,30.183145,-82.636545,Residential,Wood,4',\n",
       " '256213,FL,COLUMBIA COUNTY,0,22356.54,0,0,22356.54,24969.08,0,0,0,0,30.1799,-82.66905,Residential,Wood,3',\n",
       " '155199,FL,COLUMBIA COUNTY,0,22356.54,0,0,22356.54,27389.44,0,0,0,0,30.188485,-82.6921,Residential,Wood,4',\n",
       " '830871,FL,COLUMBIA COUNTY,0,16767.17,0,0,16767.17,23608.18,0,0,0,0,30.2988,-82.6063,Residential,Wood,4',\n",
       " '757768,FL,COLUMBIA COUNTY,0,16767.17,0,0,16767.17,14548.41,0,0,0,0,30.17262,-82.66527,Residential,Wood,3',\n",
       " '176583,FL,COLUMBIA COUNTY,0,344852.16,0,0,344852.16,433818.5,0,0,0,0,30.2988,-82.6063,Residential,Wood,4',\n",
       " '678864,FL,COLUMBIA COUNTY,0,68970.43,0,0,68970.43,96002.7,0,0,0,0,30.2988,-82.6063,Residential,Wood,4',\n",
       " '854000,FL,COLUMBIA COUNTY,0,91960.58,0,0,91960.58,80292.62,0,0,0,0,30.18948,-82.61728,Residential,Wood,3',\n",
       " '631978,FL,COLUMBIA COUNTY,0,25748.96,0,0,25748.96,36460.53,0,0,0,0,30.2988,-82.6063,Residential,Wood,4',\n",
       " '967058,FL,COLUMBIA COUNTY,0,25105.24,0,0,25105.24,30475.72,0,0,0,0,30.2988,-82.6063,Residential,Wood,4',\n",
       " '878374,FL,COLUMBIA COUNTY,0,38623.44,0,0,38623.44,60957.06,0,0,0,0,30.2988,-82.6063,Residential,Wood,4',\n",
       " '113053,FL,COLUMBIA COUNTY,0,9196.06,0,0,9196.06,7797.29,0,0,0,0,30.18883,-82.62323,Residential,Wood,4',\n",
       " '288738,FL,COLUMBIA COUNTY,0,9196.06,0,0,9196.06,12297.35,0,0,0,0,30.195425,-82.636865,Residential,Wood,4',\n",
       " '594369,FL,COLUMBIA COUNTY,0,38623.44,0,0,38623.44,42941.54,0,0,0,0,30.2988,-82.6063,Residential,Wood,4',\n",
       " '706890,FL,COLUMBIA COUNTY,0,45980.29,0,0,45980.29,63408.66,0,0,0,0,30.2988,-82.6063,Residential,Wood,4',\n",
       " '536032,FL,COLUMBIA COUNTY,0,137940.86,0,0,137940.86,213321.55,0,0,0,0,30.2988,-82.6063,Residential,Wood,4',\n",
       " '747825,FL,COLUMBIA COUNTY,0,27944.98,0,0,27944.98,47665.19,0,0,0,0,30.2988,-82.6063,Residential,Wood,4',\n",
       " '608124,FL,COLUMBIA COUNTY,0,22356.54,0,0,22356.54,37227.66,0,0,0,0,30.2988,-82.6063,Residential,Wood,4',\n",
       " '934739,FL,COLUMBIA COUNTY,0,89423.38,0,0,89423.38,126691.92,0,0,0,0,30.2988,-82.6063,Residential,Wood,4',\n",
       " '757078,FL,COLUMBIA COUNTY,0,16767.17,0,0,16767.17,16711.17,0,0,0,0,30.175568,-82.588203,Residential,Wood,4',\n",
       " '956518,FL,COLUMBIA COUNTY,0,12250.99,0,0,12250.99,17567.13,0,0,0,0,30.2988,-82.6063,Residential,Wood,4',\n",
       " '548584,FL,COLUMBIA COUNTY,0,30686.32,0,0,30686.32,40211.36,0,0,0,0,30.2988,-82.6063,Residential,Wood,4',\n",
       " '132904,FL,COLUMBIA COUNTY,0,59774.37,0,0,59774.37,50210.47,0,0,0,0,30.2988,-82.6063,Residential,Wood,4',\n",
       " '111857,FL,COLUMBIA COUNTY,0,32186.2,0,0,32186.2,38484.4,0,0,0,0,30.2988,-82.6063,Residential,Wood,4',\n",
       " '388383,FL,COLUMBIA COUNTY,0,11549.33,0,0,11549.33,16277.72,0,0,0,0,30.16482,-82.64361,Residential,Wood,4',\n",
       " '276410,FL,BRADFORD COUNTY,2070,2070,2070,2070,2070,1875.38,0,0,0,0,30.043814,-82.075211,Residential,Wood,1',\n",
       " '546756,FL,BRADFORD COUNTY,0,42481.06,0,0,42481.06,44399.5,0,0,0,0,30.045353,-82.073212,Residential,Wood,1',\n",
       " '669229,FL,MADISON COUNTY,321053.4,321053.4,321053.4,321053.4,321053.4,518064.61,0,0,0,0,30.422401,-83.30024,Residential,Wood,1',\n",
       " '766573,FL,MADISON COUNTY,132651,132651,132651,132651,132651,220996.57,0,0,0,0,30.416973,-83.30043,Residential,Wood,1',\n",
       " '765578,FL,MADISON COUNTY,23400,23400,23400,23400,23400,18558.54,0,0,0,0,30.41388,-83.298165,Residential,Wood,3',\n",
       " '166613,FL,MADISON COUNTY,0,0,0,0,5932213.89,9630000,0,0,0,0,30.3969,-83.2753,Commercial,Reinforced Masonry,4',\n",
       " '883261,FL,MADISON COUNTY,977330.7,977330.7,0,0,977330.7,790445.52,0,0,0,0,30.3969,-83.2753,Residential,Masonry,4',\n",
       " '842655,FL,MADISON COUNTY,0,1222262.42,0,0,1222262.42,1186037.01,0,0,0,0,30.423132,-83.306053,Residential,Masonry,1',\n",
       " '248167,FL,SUWANNEE COUNTY,493833.6,493833.6,493833.6,493833.6,493833.6,694889.06,0,0,0,0,30.323061,-82.853531,Residential,Masonry,3',\n",
       " '976562,FL,SUWANNEE COUNTY,305427.6,305427.6,0,0,305427.6,269112.26,0,0,0,0,30.377098,-83.173874,Residential,Wood,1',\n",
       " '620457,FL,SUWANNEE COUNTY,288279,288279,0,0,288279,264045.11,0,0,0,0,30.297314,-82.96032,Residential,Wood,3',\n",
       " '336697,FL,SUWANNEE COUNTY,0,910695.68,0,0,910695.68,847083.59,0,0,0,0,30.244864,-82.873199,Residential,Masonry,3',\n",
       " '648295,FL,SUWANNEE COUNTY,0,14066.75,0,0,14066.75,14922.01,0,0,0,0,30.2885,-83.0554,Residential,Wood,4',\n",
       " '858080,FL,SUWANNEE COUNTY,0,7571.54,0,0,7571.54,6481.05,0,0,0,0,30.304321,-83.012032,Residential,Wood,3',\n",
       " '579910,FL,SUWANNEE COUNTY,0,702715.18,0,0,702715.18,644961.83,0,0,0,0,30.304321,-83.012032,Residential,Masonry,3',\n",
       " '735184,FL,SUWANNEE COUNTY,0,132894.53,0,0,132894.53,153444.94,0,0,0,0,30.242275,-82.864685,Residential,Wood,3',\n",
       " '420445,FL,SUWANNEE COUNTY,0,14066.75,0,0,14066.75,18409.67,0,0,0,0,30.2885,-83.0554,Residential,Wood,4',\n",
       " '373504,FL,SUWANNEE COUNTY,0,113441.57,0,0,113441.57,141507.02,0,0,0,0,30.296335,-83.0299,Residential,Wood,1',\n",
       " '266080,FL,SUWANNEE COUNTY,0,123449.03,0,0,123449.03,205071.55,0,0,0,0,30.296747,-82.977993,Residential,Wood,3',\n",
       " '178535,FL,SUWANNEE COUNTY,0,701414.94,0,0,701414.94,951909.86,0,0,0,0,30.2885,-83.0554,Residential,Masonry,4',\n",
       " '574531,FL,BAKER COUNTY,67590,67590,67590,67590,67590,57465.83,0,0,0,0,30.28364,-82.12209,Residential,Wood,3',\n",
       " '606491,FL,BAKER COUNTY,14670,14670,14670,14670,14670,15491.3,0,0,0,0,30.283901,-82.122543,Residential,Wood,3',\n",
       " '885991,FL,BAKER COUNTY,0,1449866.88,0,0,1449866.88,1338076.34,0,0,0,0,30.285202,-82.105835,Residential,Masonry,1',\n",
       " '908170,FL,BAKER COUNTY,0,1849.32,0,0,1849.32,1987.47,0,0,0,0,30.285202,-82.105835,Residential,Wood,1',\n",
       " '487022,FL,BAKER COUNTY,0,372637.98,0,0,372637.98,295022.71,0,0,0,0,30.285202,-82.105835,Residential,Masonry,1',\n",
       " '723719,FL,BAKER COUNTY,0,211747.14,0,0,211747.14,369024.45,0,0,0,0,30.285257,-82.139542,Residential,Wood,1',\n",
       " '628922,FL,BAKER COUNTY,0,6472.62,0,0,6472.62,4657.86,0,0,0,0,30.285257,-82.139542,Residential,Wood,1',\n",
       " '232316,FL,BAKER COUNTY,2476576.8,2476576.8,0,0,2476576.8,2011109.14,0,0,0,0,30.2763,-82.1278,Commercial,Reinforced Masonry,4',\n",
       " '151933,FL,BAKER COUNTY,0,34713.82,0,0,34713.82,44497.57,0,0,0,0,30.30646,-82.1309,Residential,Wood,1',\n",
       " '225577,FL,BAKER COUNTY,0,17198.19,0,0,17198.19,19900.03,0,0,0,0,30.30646,-82.1309,Residential,Wood,1',\n",
       " '443296,FL,BAKER COUNTY,0,14453.8,0,0,14453.8,25187.77,0,0,0,0,30.288778,-82.125183,Residential,Wood,1',\n",
       " '747464,FL,BAKER COUNTY,0,796867.35,0,0,796867.35,1238331.86,0,0,0,0,30.27934,-82.13954,Residential,Masonry,3',\n",
       " '548566,FL,BAKER COUNTY,0,1125.2,0,0,1125.2,1040.28,0,0,0,0,30.288778,-82.125183,Residential,Wood,1',\n",
       " '510281,FL,BAKER COUNTY,0,59097.75,0,0,59097.75,72289.55,0,0,0,0,30.27934,-82.13954,Residential,Wood,3',\n",
       " '481334,FL,BAKER COUNTY,0,58547.04,0,0,58547.04,78757.48,0,0,0,0,30.28581,-82.12991,Residential,Wood,1',\n",
       " '621142,FL,BAKER COUNTY,0,2790.13,0,0,2790.13,3172.8,0,0,0,0,30.288778,-82.125183,Residential,Wood,1',\n",
       " '907206,FL,BAKER COUNTY,0,12087.22,0,0,12087.22,12932.89,0,0,0,0,30.288778,-82.125183,Residential,Wood,1',\n",
       " '963412,FL,BAKER COUNTY,0,5324.12,0,0,5324.12,3869.4,0,0,0,0,30.288778,-82.125183,Residential,Wood,1',\n",
       " '561805,FL,BAKER COUNTY,0,1863.44,0,0,1863.44,3091.08,0,0,0,0,30.34208,-82.11369,Residential,Wood,4',\n",
       " '177053,FL,BAKER COUNTY,0,75825.74,0,0,75825.74,118661.22,0,0,0,0,30.34208,-82.11369,Residential,Wood,4',\n",
       " '888564,FL,BAKER COUNTY,0,228.7,0,0,228.7,263.6,0,0,0,0,30.284683,-82.13044,Residential,Wood,3',\n",
       " '399592,FL,BAKER COUNTY,0,3210.02,0,0,3210.02,2770.49,0,0,0,0,30.29615,-82.12523,Residential,Wood,4',\n",
       " '616030,FL,BAKER COUNTY,0,5962.65,0,0,5962.65,9177.71,0,0,0,0,30.34208,-82.11369,Residential,Wood,4',\n",
       " '671336,FL,BAKER COUNTY,0,910.22,0,0,910.22,1329.26,0,0,0,0,30.2763,-82.1278,Residential,Wood,3',\n",
       " '914194,FL,BAKER COUNTY,0,910.22,0,0,910.22,1033.53,0,0,0,0,30.2763,-82.1278,Residential,Wood,3',\n",
       " '632104,FL,BAKER COUNTY,0,9660.26,0,0,9660.26,9621.62,0,0,0,0,30.284683,-82.13044,Residential,Wood,3',\n",
       " '895447,FL,BAKER COUNTY,0,1585.34,0,0,1585.34,1968.83,0,0,0,0,30.284683,-82.13044,Residential,Wood,3',\n",
       " '969519,FL,BAKER COUNTY,0,11880.48,0,0,11880.48,13693.44,0,0,0,0,30.284683,-82.13044,Residential,Wood,3',\n",
       " '149119,FL,BAKER COUNTY,0,8370.4,0,0,8370.4,6178.61,0,0,0,0,30.284683,-82.13044,Residential,Wood,3',\n",
       " '804466,FL,BAKER COUNTY,0,48183.3,0,0,48183.3,65695.04,0,0,0,0,30.283884,-82.117729,Residential,Wood,3',\n",
       " '688199,FL,BAKER COUNTY,0,2706.89,0,0,2706.89,2759.65,0,0,0,0,30.283066,-82.11853,Residential,Wood,1',\n",
       " '977912,FL,BAKER COUNTY,0,4665.47,0,0,4665.47,5262.65,0,0,0,0,30.284683,-82.13044,Residential,Wood,3',\n",
       " '312530,FL,BAKER COUNTY,0,79587.39,0,0,79587.39,116057.51,0,0,0,0,30.284683,-82.13044,Residential,Wood,3',\n",
       " '154572,FL,BAKER COUNTY,0,19210.75,0,0,19210.75,33549.65,0,0,0,0,30.284683,-82.13044,Residential,Wood,3',\n",
       " '299157,FL,BAKER COUNTY,0,14453.8,0,0,14453.8,15369.13,0,0,0,0,30.284683,-82.13044,Residential,Wood,3',\n",
       " '358433,FL,BAKER COUNTY,0,631.21,0,0,631.21,659.24,0,0,0,0,30.2763,-82.1278,Residential,Wood,4',\n",
       " '131991,FL,BAKER COUNTY,0,1209270.9,0,0,1209270.9,1100339.77,0,0,0,0,30.2763,-82.1278,Residential,Masonry,3',\n",
       " '844614,FL,BAKER COUNTY,0,101097.02,0,0,101097.02,151485.4,0,0,0,0,30.2763,-82.1278,Residential,Wood,4',\n",
       " '735501,FL,BAKER COUNTY,0,86949.68,0,0,86949.68,111810.33,0,0,0,0,30.28179,-82.123635,Residential,Wood,3',\n",
       " '703956,FL,BAKER COUNTY,0,403517.2,0,0,403517.2,449453.6,0,0,0,0,30.28421,-82.11887,Residential,Masonry,1',\n",
       " '547680,FL,BAKER COUNTY,0,384.21,0,0,384.21,345.57,0,0,0,0,30.2763,-82.1278,Residential,Wood,4',\n",
       " '562722,FL,BAKER COUNTY,0,45932.5,0,0,45932.5,37800.06,0,0,0,0,30.18916,-82.16506,Residential,Wood,3',\n",
       " '820860,FL,BAKER COUNTY,0,45932.5,0,0,45932.5,63980.76,0,0,0,0,30.2892,-82.12574,Residential,Wood,3',\n",
       " '894562,FL,BAKER COUNTY,0,45932.5,0,0,45932.5,74512.99,0,0,0,0,30.286295,-82.134045,Residential,Wood,3',\n",
       " '577091,FL,BAKER COUNTY,0,45932.5,0,0,45932.5,72779.5,0,0,0,0,30.285185,-82.122395,Residential,Wood,3',\n",
       " '755818,FL,BAKER COUNTY,0,45932.5,0,0,45932.5,45436.16,0,0,0,0,30.2763,-82.1278,Residential,Wood,4',\n",
       " '839723,FL,BAKER COUNTY,0,45932.5,0,0,45932.5,68771.25,0,0,0,0,30.27341,-82.12988,Residential,Wood,3',\n",
       " '118899,FL,BAKER COUNTY,0,45932.5,0,0,45932.5,63744.12,0,0,0,0,30.2763,-82.1278,Residential,Wood,4',\n",
       " '612231,FL,BAKER COUNTY,0,45932.5,0,0,45932.5,51958.85,0,0,0,0,30.2763,-82.1278,Residential,Wood,4',\n",
       " '163526,FL,BAKER COUNTY,0,45932.5,0,0,45932.5,73699.25,0,0,0,0,30.2763,-82.1278,Residential,Wood,4',\n",
       " '278995,FL,BAKER COUNTY,0,37894.32,0,0,37894.32,31070.91,0,0,0,0,30.282595,-82.121315,Residential,Wood,1',\n",
       " '875706,FL,BAKER COUNTY,0,126314.39,0,0,126314.39,170615.37,0,0,0,0,30.282627,-82.126732,Residential,Wood,3',\n",
       " '712263,FL,BAKER COUNTY,0,114440.68,0,0,114440.68,99204.96,0,0,0,0,30.27275,-82.120175,Residential,Wood,4',\n",
       " '241888,FL,BAKER COUNTY,0,292819.71,0,0,292819.71,367252.14,0,0,0,0,30.27275,-82.120175,Residential,Wood,4',\n",
       " '115934,FL,BAKER COUNTY,0,918650.08,0,0,918650.08,1442513.96,0,0,0,0,30.27275,-82.120175,Residential,Masonry,4',\n",
       " '214979,FL,BAKER COUNTY,0,172246.89,0,0,172246.89,237377.74,0,0,0,0,30.27275,-82.120175,Residential,Wood,4',\n",
       " '601369,FL,BAKER COUNTY,0,459325.04,0,0,459325.04,633532.33,0,0,0,0,30.2763,-82.1278,Residential,Masonry,4',\n",
       " '859735,FL,BAKER COUNTY,0,28707.81,0,0,28707.81,34173.78,0,0,0,0,30.281875,-82.129915,Residential,Wood,3',\n",
       " '868972,FL,BAKER COUNTY,0,38468.47,0,0,38468.47,41003.54,0,0,0,0,30.285891,-82.126137,Residential,Wood,1',\n",
       " '369631,FL,BAKER COUNTY,0,10396.08,0,0,10396.08,16937.5,0,0,0,0,30.280439,-82.12191,Residential,Wood,3',\n",
       " '130797,FL,SUWANNEE COUNTY,2348172,2348172,2348172,2348172,2348172,3324307.1,0,0,0,0,30.298153,-82.983376,Commercial,Reinforced Masonry,1',\n",
       " '770857,FL,SUWANNEE COUNTY,0,43459.02,0,0,43459.02,61746.58,0,0,0,0,30.292645,-82.975212,Residential,Wood,1',\n",
       " '834275,FL,SUWANNEE COUNTY,0,12020.58,0,0,12020.58,16629.19,0,0,0,0,30.292645,-82.975212,Residential,Wood,1',\n",
       " '102432,FL,SUWANNEE COUNTY,63396,63396,63396,63396,63396,94316.64,0,0,0,0,30.280264,-82.996193,Residential,Wood,1',\n",
       " '776440,FL,SUWANNEE COUNTY,76779,76779,76779,76779,76779,85471.3,0,0,0,0,30.280264,-82.996193,Residential,Wood,1',\n",
       " '945568,FL,SUWANNEE COUNTY,244701,244701,244701,244701,244701,196108.28,0,0,0,0,30.28277,-82.992149,Residential,Wood,1',\n",
       " '132404,FL,SUWANNEE COUNTY,20826,20826,20826,20826,20826,28390.67,0,0,0,0,30.28277,-82.992149,Residential,Wood,1',\n",
       " '395018,FL,SUWANNEE COUNTY,677898,677898,677898,677898,677898,807315.51,0,0,0,0,30.28277,-82.992149,Residential,Masonry,1',\n",
       " '248575,FL,SUWANNEE COUNTY,1216161,1216161,1216161,1216161,1216161,1754044.69,0,0,0,0,30.28277,-82.992149,Residential,Masonry,1',\n",
       " '812631,FL,SUWANNEE COUNTY,2493,2493,2493,2493,2493,2689.15,0,0,0,0,30.28277,-82.992149,Residential,Wood,1',\n",
       " '220621,FL,SUWANNEE COUNTY,6462,6462,6462,6462,6462,6245.57,0,0,0,0,30.28277,-82.992149,Residential,Wood,1',\n",
       " '139061,FL,SUWANNEE COUNTY,19890,19890,19890,19890,19890,24338.2,0,397.8,0,0,30.28277,-82.992149,Residential,Wood,1',\n",
       " '419108,FL,SUWANNEE COUNTY,94428,94428,94428,94428,94428,83927.61,0,0,0,0,30.28277,-82.992149,Residential,Wood,1',\n",
       " '391574,FL,SUWANNEE COUNTY,2493,2493,2493,2493,2493,4357.44,0,0,0,0,30.284014,-82.996185,Residential,Wood,1',\n",
       " '449147,FL,SUWANNEE COUNTY,5967,5967,5967,5967,5967,7703.87,0,0,0,0,30.284014,-82.996185,Residential,Wood,1',\n",
       " '998635,FL,SUWANNEE COUNTY,18900000,18900000,18900000,18900000,18900000,21420000,0,0,0,0,30.284702,-82.989166,Commercial,Reinforced Concrete,1',\n",
       " '437290,FL,SUWANNEE COUNTY,3609198,3609198,3609198,3609198,3609198,3013535.96,0,0,0,0,30.284702,-82.989166,Commercial,Reinforced Masonry,1',\n",
       " '395835,FL,SUWANNEE COUNTY,6649758,6649758,6649758,6649758,6649758,8312037.91,0,0,0,0,30.284702,-82.989166,Commercial,Reinforced Masonry,1',\n",
       " '613321,FL,SUWANNEE COUNTY,75969,75969,75969,75969,75969,103997.76,0,0,0,0,30.284702,-82.989166,Residential,Wood,1',\n",
       " '865150,FL,SUWANNEE COUNTY,2493,2493,2493,2493,2493,3497.7,0,0,0,0,30.284702,-82.989166,Residential,Wood,1',\n",
       " '635664,FL,SUWANNEE COUNTY,7461,7461,7461,7461,7461,8149.76,0,0,0,0,30.284702,-82.989166,Residential,Wood,1',\n",
       " '529300,FL,SUWANNEE COUNTY,198954,198954,198954,198954,198954,237294.82,0,0,0,0,30.284702,-82.989166,Residential,Wood,1',\n",
       " '430318,FL,SUWANNEE COUNTY,258633,258633,258633,258633,258633,383294.11,0,0,0,0,30.284702,-82.989166,Residential,Wood,1',\n",
       " '441395,FL,SUWANNEE COUNTY,11520,11520,11520,11520,11520,10477.95,0,230.4,0,0,30.284702,-82.989166,Residential,Wood,1',\n",
       " '294015,FL,SUWANNEE COUNTY,38385,38385,38385,38385,38385,31001.11,0,767.7,0,0,30.284702,-82.989166,Residential,Wood,1',\n",
       " '950097,FL,SUWANNEE COUNTY,3029976,3029976,3029976,3029976,3029976,3010396.29,0,0,0,0,30.277422,-82.996208,Commercial,Reinforced Masonry,1',\n",
       " '110324,FL,SUWANNEE COUNTY,538857,538857,538857,538857,538857,525967.54,0,0,0,0,30.277422,-82.996208,Residential,Masonry,1',\n",
       " '416938,FL,SUWANNEE COUNTY,1172421,1172421,1172421,1172421,1172421,1712133.28,0,0,0,0,30.277422,-82.996208,Residential,Masonry,1',\n",
       " '586755,FL,SUWANNEE COUNTY,2930220,2930220,2930220,2930220,2930220,4538280.78,0,58604.4,0,0,30.277422,-82.996208,Commercial,Reinforced Masonry,1',\n",
       " '863494,FL,SUWANNEE COUNTY,1978974,1978974,1978974,1978974,1978974,2179396.57,0,0,0,0,30.277422,-82.996208,Commercial,Reinforced Masonry,1',\n",
       " '574538,FL,SUWANNEE COUNTY,1831842,1831842,1831842,1831842,1831842,1360956.02,0,0,0,0,30.277422,-82.996208,Commercial,Reinforced Masonry,1',\n",
       " '514370,FL,SUWANNEE COUNTY,460881,460881,460881,460881,460881,675946.51,0,0,0,0,30.277422,-82.996208,Residential,Masonry,1',\n",
       " '373414,FL,SUWANNEE COUNTY,66132,66132,66132,66132,66132,64090.31,0,0,0,0,30.277422,-82.996208,Residential,Wood,1',\n",
       " '997019,FL,SUWANNEE COUNTY,66132,66132,66132,66132,66132,67076.89,0,0,0,0,30.277422,-82.996208,Residential,Wood,1',\n",
       " '910144,FL,SUWANNEE COUNTY,66132,66132,66132,66132,66132,83169.59,0,0,0,0,30.277422,-82.996208,Residential,Wood,1',\n",
       " '552357,FL,SUWANNEE COUNTY,2493,2493,2493,2493,2493,2354.26,0,0,0,0,30.277422,-82.996208,Residential,Wood,1',\n",
       " '655342,FL,SUWANNEE COUNTY,24867,24867,24867,24867,24867,22753.11,0,0,0,0,30.277422,-82.996208,Residential,Wood,1',\n",
       " '897773,FL,SUWANNEE COUNTY,109431,109431,109431,109431,109431,185671.03,0,0,0,0,30.277422,-82.996208,Residential,Wood,1',\n",
       " '926390,FL,SUWANNEE COUNTY,333243,333243,333243,333243,333243,470123.23,0,0,0,0,30.277422,-82.996208,Residential,Wood,1',\n",
       " '216408,FL,SUWANNEE COUNTY,1178082,1178082,1178082,1178082,1178082,1429079.44,0,0,0,0,30.29394,-82.986315,Residential,Masonry,3',\n",
       " '548404,FL,SUWANNEE COUNTY,92637,92637,92637,92637,92637,70357.06,0,0,0,0,30.29394,-82.986315,Residential,Wood,3',\n",
       " '206428,FL,SUWANNEE COUNTY,91314,91314,91314,91314,91314,122481.66,0,0,0,0,30.29394,-82.986315,Residential,Wood,3',\n",
       " '292458,FL,SUWANNEE COUNTY,29835,29835,29835,29835,29835,34787.61,0,596.7,0,0,30.29394,-82.986315,Residential,Wood,3',\n",
       " '919465,FL,SUWANNEE COUNTY,28791,28791,28791,28791,28791,25858.92,0,0,0,0,30.29394,-82.986315,Residential,Wood,3',\n",
       " '630483,FL,SUWANNEE COUNTY,5436,5436,5436,5436,5436,4986.09,0,0,0,0,30.277718,-82.996208,Residential,Wood,1',\n",
       " '825224,FL,SUWANNEE COUNTY,885150,885150,885150,885150,885150,942036.82,0,17703,0,0,30.277718,-82.996208,Residential,Masonry,1',\n",
       " '404295,FL,SUWANNEE COUNTY,28962,28962,28962,28962,28962,34832.25,0,0,0,0,30.277718,-82.996208,Residential,Wood,1',\n",
       " '150387,FL,SUWANNEE COUNTY,6903,6903,6903,6903,6903,5514.88,0,0,0,0,30.277718,-82.996208,Residential,Wood,1',\n",
       " '946844,FL,SUWANNEE COUNTY,64665,64665,64665,64665,64665,67354.16,0,1293.3,0,0,30.277718,-82.996208,Residential,Wood,1',\n",
       " '751897,FL,SUWANNEE COUNTY,2264391,2264391,2264391,2264391,2264391,3313764.14,0,0,0,0,30.302156,-82.990372,Commercial,Reinforced Masonry,1',\n",
       " '910845,FL,SUWANNEE COUNTY,4977,4977,4977,4977,4977,7389.35,0,0,0,0,30.302156,-82.990372,Residential,Wood,1',\n",
       " '763316,FL,SUWANNEE COUNTY,61668,61668,61668,61668,61668,54449.27,0,0,0,0,30.27815,-82.98772,Residential,Wood,1',\n",
       " '727002,FL,SUWANNEE COUNTY,14400,14400,14400,14400,14400,11891.17,0,288,0,0,30.27815,-82.98772,Residential,Wood,1',\n",
       " '559336,FL,SUWANNEE COUNTY,72837,72837,72837,72837,72837,128904.59,0,0,0,0,30.27815,-82.98772,Residential,Wood,1',\n",
       " '236251,FL,SUWANNEE COUNTY,72837,72837,72837,72837,72837,135498.67,0,0,0,0,30.27815,-82.98772,Residential,Wood,1',\n",
       " '529747,FL,SUWANNEE COUNTY,161928,161928,161928,161928,161928,130964.13,0,0,0,0,30.277718,-82.996208,Residential,Wood,1',\n",
       " '858323,FL,SUWANNEE COUNTY,604530,604530,0,0,604530,533249.87,0,0,0,0,30.304886,-82.982925,Residential,Masonry,1',\n",
       " '158617,FL,SUWANNEE COUNTY,240622.2,240622.2,0,0,240622.2,285281.68,0,0,0,0,30.294222,-82.981773,Residential,Wood,3',\n",
       " '334713,FL,SUWANNEE COUNTY,0,32094.19,0,0,32094.19,33176.15,0,0,0,0,30.28665,-83.00676,Residential,Wood,1',\n",
       " '318842,FL,SUWANNEE COUNTY,0,32094.19,0,0,32094.19,31693.82,0,0,0,0,30.279175,-82.984116,Residential,Wood,1',\n",
       " '649501,FL,SUWANNEE COUNTY,0,32094.19,0,0,32094.19,35484.95,0,0,0,0,30.29676,-82.987845,Residential,Wood,3',\n",
       " '445540,FL,SUWANNEE COUNTY,0,74144.01,0,0,74144.01,66807.9,0,0,0,0,30.296389,-82.984627,Residential,Wood,3',\n",
       " '371999,FL,SUWANNEE COUNTY,0,32094.19,0,0,32094.19,36578.14,0,0,0,0,30.300438,-83.004234,Residential,Wood,1',\n",
       " '218472,FL,SUWANNEE COUNTY,0,1833.95,0,0,1833.95,1441.54,0,0,0,0,30.296616,-82.985657,Residential,Wood,1',\n",
       " '580250,FL,SUWANNEE COUNTY,0,867339.18,0,0,867339.18,1192456.06,0,0,0,0,30.294773,-82.98127,Residential,Masonry,1',\n",
       " '907556,FL,SUWANNEE COUNTY,0,930359.34,0,0,930359.34,1148774.22,0,0,0,0,30.293991,-82.981636,Residential,Masonry,3',\n",
       " '327269,FL,SUWANNEE COUNTY,0,44565.08,0,0,44565.08,69684.63,0,0,0,0,30.306236,-82.992004,Residential,Wood,1',\n",
       " '892361,FL,SUWANNEE COUNTY,0,1270260.69,0,0,1270260.69,1122402.35,0,0,0,0,30.306236,-82.992004,Residential,Masonry,1',\n",
       " '398442,FL,SUWANNEE COUNTY,0,255027.8,0,0,255027.8,197085.49,0,0,0,0,30.306236,-82.992004,Residential,Wood,1',\n",
       " '423598,FL,SUWANNEE COUNTY,0,265923.32,0,0,265923.32,321708.72,0,0,0,0,30.301989,-82.982346,Residential,Wood,1',\n",
       " '327184,FL,SUWANNEE COUNTY,0,22924.42,0,0,22924.42,18783.7,0,0,0,0,30.304907,-82.982979,Residential,Wood,1',\n",
       " '314582,FL,SUWANNEE COUNTY,0,2792753.33,0,0,2792753.33,3835344,0,0,0,0,30.297407,-82.982368,Commercial,Reinforced Masonry,3',\n",
       " '975779,FL,SUWANNEE COUNTY,0,343866.37,0,0,343866.37,287890.42,0,0,0,0,30.296926,-82.981247,Residential,Wood,3',\n",
       " '337568,FL,SUWANNEE COUNTY,0,1931904.47,0,0,1931904.47,1483030.33,0,0,0,0,30.294754,-82.981232,Commercial,Reinforced Masonry,1',\n",
       " '459597,FL,SUWANNEE COUNTY,0,202488.69,0,0,202488.69,241042.54,0,0,0,0,30.306236,-82.992004,Residential,Wood,1',\n",
       " '511988,FL,SUWANNEE COUNTY,0,308888.28,0,0,308888.28,354171.3,0,0,0,0,30.306236,-82.992004,Residential,Wood,1',\n",
       " '455917,FL,SUWANNEE COUNTY,0,719781.99,0,0,719781.99,795934.93,0,0,0,0,30.306236,-82.992004,Residential,Masonry,1',\n",
       " '304879,FL,SUWANNEE COUNTY,0,308888.28,0,0,308888.28,269009.57,0,0,0,0,30.306236,-82.992004,Residential,Wood,1',\n",
       " '881425,FL,SUWANNEE COUNTY,0,14066.75,0,0,14066.75,17906.42,0,0,0,0,30.2932,-82.9931,Residential,Wood,4',\n",
       " '208817,FL,SUWANNEE COUNTY,0,14066.75,0,0,14066.75,10934.03,0,0,0,0,30.2932,-82.9931,Residential,Wood,4',\n",
       " '918862,FL,SUWANNEE COUNTY,0,14066.75,0,0,14066.75,20624.56,0,0,0,0,30.2932,-82.9931,Residential,Wood,4',\n",
       " '523984,FL,SUWANNEE COUNTY,0,14066.75,0,0,14066.75,12413.21,0,0,0,0,30.2932,-82.9931,Residential,Wood,4',\n",
       " '226520,FL,SUWANNEE COUNTY,0,28133.51,0,0,28133.51,45866.06,0,0,0,0,30.18676,-83.001305,Residential,Wood,3',\n",
       " '413066,FL,SUWANNEE COUNTY,0,1383987.18,0,0,1383987.18,2371758.21,0,0,0,0,30.2974,-82.983528,Residential,Masonry,3',\n",
       " '177491,FL,SUWANNEE COUNTY,0,72602.61,0,0,72602.61,66677.07,0,0,0,0,30.302427,-82.981133,Residential,Wood,1',\n",
       " '906786,FL,SUWANNEE COUNTY,0,7260.26,0,0,7260.26,8806.41,0,0,0,0,30.279198,-82.996109,Residential,Wood,3',\n",
       " '252960,FL,SUWANNEE COUNTY,0,1800544.63,0,0,1800544.63,2139219.88,0,0,0,0,30.289896,-83.007401,Commercial,Reinforced Masonry,3',\n",
       " '753041,FL,SUWANNEE COUNTY,0,78741.16,0,0,78741.16,104037.54,0,0,0,0,30.289896,-83.007401,Residential,Wood,3',\n",
       " '275656,FL,SUWANNEE COUNTY,0,14130000,0,0,14130000,12780000,0,0,0,0,30.295607,-82.986137,Commercial,Reinforced Concrete,3',\n",
       " '366151,FL,SUWANNEE COUNTY,0,1669180.2,0,0,1669180.2,2377630.35,0,0,0,0,30.296305,-82.985733,Residential,Masonry,3',\n",
       " '143520,FL,SUWANNEE COUNTY,0,399314.33,0,0,399314.33,406856.58,0,0,0,0,30.289896,-83.007401,Residential,Masonry,3',\n",
       " '578715,FL,SUWANNEE COUNTY,0,97105.99,0,0,97105.99,77444.45,0,0,0,0,30.289896,-83.007401,Residential,Wood,3',\n",
       " '728171,FL,SUWANNEE COUNTY,0,358672.3,0,0,358672.3,413362.66,0,0,0,0,30.2932,-82.9931,Residential,Wood,4',\n",
       " '147189,FL,SUWANNEE COUNTY,0,385701.35,0,0,385701.35,581398.49,0,0,0,0,30.2932,-82.9931,Residential,Masonry,4',\n",
       " '626834,FL,SUWANNEE COUNTY,0,32671.17,0,0,32671.17,43275.19,0,0,0,0,30.2932,-82.9931,Residential,Wood,4',\n",
       " '840720,FL,SUWANNEE COUNTY,0,163355.86,0,0,163355.86,205674.83,0,0,0,0,30.2932,-82.9931,Residential,Wood,4',\n",
       " '911131,FL,SUWANNEE COUNTY,0,47295.92,0,0,47295.92,63972.93,0,0,0,0,30.304455,-83.00737,Residential,Wood,1',\n",
       " '814705,FL,SUWANNEE COUNTY,0,138384.12,0,0,138384.12,110866.44,0,0,0,0,30.2942,-82.996758,Residential,Wood,1',\n",
       " '896748,FL,SUWANNEE COUNTY,0,98996.02,0,0,98996.02,72512.61,0,0,0,0,30.29409,-82.996277,Residential,Wood,1',\n",
       " '640263,FL,SUWANNEE COUNTY,0,125693.56,0,0,125693.56,179457.22,0,0,0,0,30.294052,-82.99665,Residential,Wood,1',\n",
       " '756661,FL,SUWANNEE COUNTY,0,98996.02,0,0,98996.02,159660.78,0,0,0,0,30.295918,-82.993988,Residential,Wood,1',\n",
       " '267816,FL,SUWANNEE COUNTY,0,98996.02,0,0,98996.02,123152.73,0,0,0,0,30.297657,-82.970154,Residential,Wood,1',\n",
       " '876992,FL,SUWANNEE COUNTY,0,140282.99,0,0,140282.99,112724.12,0,0,0,0,30.297651,-82.970146,Residential,Wood,1',\n",
       " '866801,FL,SUWANNEE COUNTY,0,140282.99,0,0,140282.99,137794.37,0,0,0,0,30.29764,-82.970139,Residential,Wood,1',\n",
       " '135106,FL,SUWANNEE COUNTY,0,135793.93,0,0,135793.93,164294.23,0,0,0,0,30.297398,-82.969864,Residential,Wood,1',\n",
       " '995558,FL,SUWANNEE COUNTY,0,220188.18,0,0,220188.18,199346.49,0,0,0,0,30.299307,-82.969452,Residential,Wood,1',\n",
       " '577604,FL,SUWANNEE COUNTY,0,220188.18,0,0,220188.18,321763.63,0,0,0,0,30.299335,-82.969437,Residential,Wood,1',\n",
       " '334208,FL,SUWANNEE COUNTY,0,220188.18,0,0,220188.18,171988.99,0,0,0,0,30.299486,-82.96936,Residential,Wood,1',\n",
       " '601206,FL,SUWANNEE COUNTY,0,135793.93,0,0,135793.93,196166.83,0,0,0,0,30.299658,-82.970337,Residential,Wood,1',\n",
       " '335613,FL,SUWANNEE COUNTY,0,135793.93,0,0,135793.93,112373.28,0,0,0,0,30.299728,-82.97036,Residential,Wood,1',\n",
       " '586214,FL,SUWANNEE COUNTY,0,123449.03,0,0,123449.03,97843.85,0,0,0,0,30.29759,-82.977873,Residential,Wood,1',\n",
       " '645424,FL,SUWANNEE COUNTY,0,220188.18,0,0,220188.18,315327.09,0,0,0,0,30.297602,-82.978628,Residential,Wood,1',\n",
       " '584595,FL,SUWANNEE COUNTY,0,123449.03,0,0,123449.03,171439.72,0,0,0,0,30.296441,-82.977093,Residential,Wood,1',\n",
       " '924430,FL,SUWANNEE COUNTY,0,135793.93,0,0,135793.93,172195.4,0,0,0,0,30.29668,-82.978081,Residential,Wood,1',\n",
       " '842675,FL,CLAY COUNTY,0,4402.16,0,0,4402.16,6383.79,0,0,0,0,30.11709,-81.77458,Residential,Wood,1',\n",
       " '379599,FL,CLAY COUNTY,0,2175765.3,0,2175765.3,2175765.3,2915525.5,0,0,0,0,30.11709,-81.77458,Commercial,Reinforced Masonry,1',\n",
       " '280286,FL,CLAY COUNTY,0,2158173,0,2158173,2158173,2053976.41,0,0,0,0,30.11709,-81.77458,Commercial,Reinforced Masonry,1',\n",
       " '147622,FL,CLAY COUNTY,0,11160000,0,11160000,11160000,12600000,0,0,0,0,30.11709,-81.77458,Commercial,Reinforced Concrete,1',\n",
       " '592104,FL,CLAY COUNTY,0,316139.85,0,0,316139.85,338392.3,0,0,0,0,30.11709,-81.77458,Residential,Wood,1',\n",
       " '936914,FL,CLAY COUNTY,0,57600,0,57600,57600,93768.19,0,0,0,0,30.11709,-81.77458,Residential,Wood,1',\n",
       " '689421,FL,CLAY COUNTY,0,221400,0,221400,221400,262226.16,0,0,0,0,30.11709,-81.77458,Residential,Wood,1',\n",
       " '162509,FL,CLAY COUNTY,0,111600,0,111600,111600,89661.45,0,0,0,0,30.11709,-81.77458,Residential,Wood,1',\n",
       " '205789,FL,CLAY COUNTY,0,15120,0,15120,15120,14018.96,0,0,0,0,30.11709,-81.77458,Residential,Wood,1',\n",
       " '559033,FL,CLAY COUNTY,0,9180,0,9180,9180,11037.3,0,0,0,0,30.11709,-81.77458,Residential,Wood,1',\n",
       " '411708,FL,CLAY COUNTY,0,127800,0,127800,127800,155905.78,0,0,0,0,30.11709,-81.77458,Residential,Wood,1',\n",
       " '945341,FL,CLAY COUNTY,0,1434992.47,0,0,1434992.47,1515616.08,0,0,0,0,30.13207,-81.78504,Residential,Masonry,1',\n",
       " '985128,FL,CLAY COUNTY,0,128341.04,0,0,128341.04,135476.81,0,0,0,0,30.175193,-81.697738,Residential,Wood,4',\n",
       " '859902,FL,CLAY COUNTY,0,638012.84,0,0,638012.84,621929.81,0,0,0,0,30.11714,-81.7767,Residential,Masonry,1',\n",
       " '767859,FL,CLAY COUNTY,0,56135.64,0,0,56135.64,64506.59,0,0,0,0,30.172081,-81.747314,Residential,Wood,1',\n",
       " '235747,FL,CLAY COUNTY,0,28869.12,0,0,28869.12,28540.7,0,0,0,0,30.167663,-81.85988,Residential,Wood,1',\n",
       " '644183,FL,CLAY COUNTY,0,28869.12,0,0,28869.12,34013.3,0,0,0,0,30.160364,-81.864807,Residential,Wood,1',\n",
       " '956443,FL,CLAY COUNTY,0,56135.64,0,0,56135.64,67511.87,0,0,0,0,30.1508,-81.7999,Residential,Wood,1',\n",
       " '278796,FL,CLAY COUNTY,0,56135.64,0,0,56135.64,46311.06,0,0,0,0,30.120985,-81.797554,Residential,Wood,1',\n",
       " '608556,FL,CLAY COUNTY,0,56135.64,0,0,56135.64,64188.3,0,0,0,0,30.1508,-81.7999,Residential,Wood,4',\n",
       " '454763,FL,CLAY COUNTY,0,56135.64,0,0,56135.64,73321.23,0,0,0,0,30.1508,-81.7999,Residential,Wood,4',\n",
       " '908461,FL,CLAY COUNTY,0,56135.64,0,0,56135.64,50043.8,0,0,0,0,30.1508,-81.7999,Residential,Wood,1',\n",
       " '333252,FL,CLAY COUNTY,0,48115.94,0,0,48115.94,68689.36,0,0,0,0,30.148771,-81.729462,Residential,Wood,1',\n",
       " '332105,FL,CLAY COUNTY,0,56135.64,0,0,56135.64,82998,0,0,0,0,30.079977,-81.706852,Residential,Wood,1',\n",
       " '874411,FL,CLAY COUNTY,0,48115.94,0,0,48115.94,72366.67,0,0,0,0,30.117705,-81.8074,Residential,Wood,3',\n",
       " '700665,FL,CLAY COUNTY,0,80192.49,0,0,80192.49,115903.01,0,0,0,0,30.106889,-81.726355,Residential,Wood,1',\n",
       " '582288,FL,CLAY COUNTY,0,176424.38,0,0,176424.38,206159.65,0,0,0,0,30.1508,-81.7999,Residential,Wood,1',\n",
       " '903047,FL,CLAY COUNTY,0,24057.97,0,0,24057.97,22554.49,0,0,0,0,30.1508,-81.7999,Residential,Wood,1',\n",
       " '446936,FL,CLAY COUNTY,0,56135.64,0,0,56135.64,48470.26,0,0,0,0,30.1508,-81.7999,Residential,Wood,3',\n",
       " '758257,FL,CLAY COUNTY,0,56135.64,0,0,56135.64,71824.88,0,0,0,0,30.12357,-81.80222,Residential,Wood,1',\n",
       " '205579,FL,CLAY COUNTY,0,240578.59,0,0,240578.59,221020.03,0,0,0,0,30.12228,-81.79846,Residential,Wood,1',\n",
       " '542261,FL,CLAY COUNTY,0,48115.94,0,0,48115.94,55496.25,0,0,0,0,30.1508,-81.7999,Residential,Wood,4',\n",
       " '467776,FL,CLAY COUNTY,0,56135.64,0,0,56135.64,59463.81,0,0,0,0,30.13076,-81.7899,Residential,Wood,1',\n",
       " '547808,FL,CLAY COUNTY,0,24057.97,0,0,24057.97,32434.96,0,0,0,0,30.1508,-81.7999,Residential,Wood,4',\n",
       " '148603,FL,CLAY COUNTY,0,24057.97,0,0,24057.97,24459.84,0,0,0,0,30.1508,-81.7999,Residential,Wood,4',\n",
       " '620151,FL,CLAY COUNTY,0,24057.97,0,0,24057.97,21565.57,0,0,0,0,30.12361,-81.79758,Residential,Wood,3',\n",
       " '423148,FL,CLAY COUNTY,0,48115.94,0,0,48115.94,46045.51,0,0,0,0,30.1508,-81.7999,Residential,Wood,3',\n",
       " '285805,FL,CLAY COUNTY,0,80192.49,0,0,80192.49,90722.65,0,0,0,0,30.1508,-81.7999,Residential,Wood,1',\n",
       " '666963,FL,CLAY COUNTY,0,57739.36,0,0,57739.36,87358.49,0,0,0,0,30.1508,-81.7999,Residential,Wood,1',\n",
       " '218058,FL,CLAY COUNTY,0,14310000,0,0,14310000,22950000,0,0,0,0,30.1508,-81.7999,Commercial,Reinforced Concrete,1',\n",
       " '824968,FL,CLAY COUNTY,0,511334.86,0,0,511334.86,800770.85,0,0,0,0,30.1508,-81.7999,Residential,Masonry,1',\n",
       " '583791,FL,CLAY COUNTY,0,192789.23,0,0,192789.23,240863.15,0,0,0,0,30.122855,-81.797575,Residential,Wood,3',\n",
       " '288895,FL,CLAY COUNTY,0,108607.09,0,0,108607.09,171816.42,0,0,0,0,30.1508,-81.7999,Residential,Wood,1',\n",
       " '622218,FL,CLAY COUNTY,0,2419079.14,0,0,2419079.14,2693973.61,0,0,0,0,30.182894,-81.822052,Commercial,Reinforced Masonry,1',\n",
       " '471679,FL,CLAY COUNTY,0,473034.24,0,0,473034.24,524114.84,0,0,0,0,30.182894,-81.822052,Residential,Masonry,1',\n",
       " '330603,FL,CLAY COUNTY,0,14589.43,0,0,14589.43,10937.7,0,0,0,0,30.182894,-81.822052,Residential,Wood,1',\n",
       " '340377,FL,CLAY COUNTY,0,280565.98,0,0,280565.98,326897.52,0,0,0,0,30.182894,-81.822052,Residential,Wood,1',\n",
       " '325580,FL,CLAY COUNTY,0,280565.98,0,0,280565.98,346779.55,0,0,0,0,30.182894,-81.822052,Residential,Wood,1',\n",
       " '355939,FL,CLAY COUNTY,0,224452.78,0,0,224452.78,298522.2,0,0,0,0,30.182894,-81.822052,Residential,Wood,1',\n",
       " '537551,FL,CLAY COUNTY,0,168339.59,0,0,168339.59,200837.38,0,0,0,0,30.182894,-81.822052,Residential,Wood,1',\n",
       " '817217,FL,CLAY COUNTY,0,149822.23,0,0,149822.23,179609.44,0,0,0,0,30.182894,-81.822052,Residential,Wood,1',\n",
       " '307610,FL,CLAY COUNTY,0,145894.31,0,0,145894.31,203435.9,0,0,0,0,30.182894,-81.822052,Residential,Wood,1',\n",
       " '934843,FL,CLAY COUNTY,0,89781.11,0,0,89781.11,118427.03,0,0,0,0,30.182894,-81.822052,Residential,Wood,1',\n",
       " '479633,FL,CLAY COUNTY,0,101003.75,0,0,101003.75,93174.75,0,0,0,0,30.182894,-81.822052,Residential,Wood,1',\n",
       " '261810,FL,CLAY COUNTY,0,44890.56,0,0,44890.56,46949.01,0,0,0,0,30.182894,-81.822052,Residential,Wood,1',\n",
       " '251498,FL,CLAY COUNTY,0,31423.39,0,0,31423.39,43353.72,0,0,0,0,30.182894,-81.822052,Residential,Wood,1',\n",
       " '652676,FL,CLAY COUNTY,0,179562.23,0,0,179562.23,160241.33,0,0,0,0,30.182894,-81.822052,Residential,Wood,1',\n",
       " '430162,FL,CLAY COUNTY,0,28056.6,0,0,28056.6,28632.04,0,0,0,0,30.182894,-81.822052,Residential,Wood,1',\n",
       " '107565,FL,CLAY COUNTY,0,39279.24,0,0,39279.24,46250.83,0,0,0,0,30.182894,-81.822052,Residential,Wood,1',\n",
       " '137773,FL,CLAY COUNTY,0,33667.92,0,0,33667.92,41164.08,0,0,0,0,30.182894,-81.822052,Residential,Wood,1',\n",
       " '150881,FL,CLAY COUNTY,0,2973818.68,0,0,2973818.68,4519811.85,0,0,0,0,30.168049,-81.850121,Commercial,Reinforced Masonry,3',\n",
       " '818305,FL,CLAY COUNTY,0,391052.86,0,0,391052.86,404205.53,0,0,0,0,30.168049,-81.850121,Residential,Masonry,3',\n",
       " '772993,FL,CLAY COUNTY,0,28396.64,0,0,28396.64,36657.57,0,0,0,0,30.168049,-81.850121,Residential,Wood,3',\n",
       " '335686,FL,CLAY COUNTY,0,85545.69,0,0,85545.69,81556.52,0,0,0,0,30.168049,-81.850121,Residential,Wood,3',\n",
       " '354163,FL,CLAY COUNTY,0,25972.55,0,0,25972.55,38665.08,0,0,0,0,30.168049,-81.850121,Residential,Wood,3',\n",
       " '131859,FL,CLAY COUNTY,0,817622,0,0,817622,1049473.44,0,0,0,0,30.168049,-81.850121,Residential,Masonry,3',\n",
       " '102237,FL,CLAY COUNTY,0,84169.79,0,0,84169.79,92277.53,0,0,0,0,30.168049,-81.850121,Residential,Wood,3',\n",
       " '496689,FL,CLAY COUNTY,0,20200.75,0,0,20200.75,31354.96,0,0,0,0,30.168049,-81.850121,Residential,Wood,3',\n",
       " '386266,FL,CLAY COUNTY,0,20200.75,0,0,20200.75,16870.05,0,0,0,0,30.168049,-81.850121,Residential,Wood,3',\n",
       " '189496,FL,CLAY COUNTY,0,484818.01,0,0,484818.01,624602.68,0,0,0,0,30.168049,-81.850121,Residential,Masonry,3',\n",
       " '448454,FL,CLAY COUNTY,0,58357.72,0,0,58357.72,89318.13,0,0,0,0,30.168049,-81.850121,Residential,Wood,3',\n",
       " '152055,FL,CLAY COUNTY,0,21323.01,0,0,21323.01,33506.98,0,0,0,0,30.168049,-81.850121,Residential,Wood,3',\n",
       " '516954,FL,CLAY COUNTY,0,871202.25,0,0,871202.25,1180717.76,0,0,0,0,30.124071,-81.802132,Residential,Masonry,1',\n",
       " '346222,FL,LAFAYETTE COUNTY,137358,137358,137358,137358,137358,198268.31,0,0,0,0,30.053045,-83.175026,Residential,Wood,3',\n",
       " '827364,FL,LAFAYETTE COUNTY,0,893221.56,0,0,893221.56,1236504.47,0,0,0,0,30.053065,-83.1515,Residential,Masonry,3',\n",
       " '865575,FL,LAFAYETTE COUNTY,0,2773.98,0,0,2773.98,4121.29,0,0,0,0,30.053065,-83.1515,Residential,Wood,3',\n",
       " '666784,FL,LAFAYETTE COUNTY,541125,541125,541125,541125,541125,724120.49,0,10822.5,0,0,30.054488,-83.170885,Residential,Masonry,3',\n",
       " '908304,FL,LAFAYETTE COUNTY,4806,4806,4806,4806,4806,5921.72,0,0,0,0,30.053137,-83.162903,Residential,Wood,3',\n",
       " '724035,FL,LAFAYETTE COUNTY,3600,3600,3600,3600,3600,5172.93,0,72,0,0,30.053137,-83.162903,Residential,Wood,3',\n",
       " '616507,FL,LAFAYETTE COUNTY,1800,1800,1800,1800,1800,1703.46,0,36,0,0,30.053137,-83.162903,Residential,Wood,3',\n",
       " '743467,FL,LAFAYETTE COUNTY,630,630,630,630,630,702.76,0,12.6,0,0,30.053137,-83.162903,Residential,Wood,3',\n",
       " '542565,FL,LAFAYETTE COUNTY,630,630,630,630,630,626.15,0,12.6,0,0,30.053137,-83.162903,Residential,Wood,3',\n",
       " '666420,FL,LAFAYETTE COUNTY,270,270,270,270,270,306.35,0,5.4,0,0,30.053137,-83.162903,Residential,Wood,3',\n",
       " '716343,FL,LAFAYETTE COUNTY,270,270,270,270,270,396.9,0,5.4,0,0,30.053137,-83.162903,Residential,Wood,3',\n",
       " '166243,FL,LAFAYETTE COUNTY,270,270,270,270,270,344.6,0,5.4,0,0,30.053137,-83.162903,Residential,Wood,3',\n",
       " '869527,FL,LAFAYETTE COUNTY,270,270,270,270,270,409.46,0,5.4,0,0,30.053137,-83.162903,Residential,Wood,3',\n",
       " '793316,FL,LAFAYETTE COUNTY,270,270,270,270,270,399.23,0,5.4,0,0,30.053137,-83.162903,Residential,Wood,3',\n",
       " '525660,FL,LAFAYETTE COUNTY,630,630,630,630,630,528.66,0,12.6,0,0,30.053137,-83.162903,Residential,Wood,3',\n",
       " '228542,FL,LAFAYETTE COUNTY,810,810,810,810,810,932.19,0,16.2,0,0,30.053137,-83.162903,Residential,Wood,3',\n",
       " '345892,FL,LAFAYETTE COUNTY,810,810,810,810,810,633.05,0,16.2,0,0,30.053137,-83.162903,Residential,Wood,3',\n",
       " '235832,FL,LAFAYETTE COUNTY,315,315,315,315,315,421.66,0,6.3,0,0,30.053137,-83.162903,Residential,Wood,3',\n",
       " '710139,FL,LAFAYETTE COUNTY,100890,100890,100890,100890,100890,183753.98,0,2017.8,0,0,30.053137,-83.162903,Residential,Wood,3',\n",
       " '352426,FL,LAFAYETTE COUNTY,4806,4806,4806,4806,4806,7000.23,0,0,0,0,30.053137,-83.162903,Residential,Wood,3',\n",
       " '384442,FL,LAFAYETTE COUNTY,621306,621306,621306,621306,621306,596751.99,0,0,0,0,30.053137,-83.162903,Residential,Masonry,3',\n",
       " '286876,FL,LAFAYETTE COUNTY,519309,519309,519309,519309,519309,795315.5,0,0,0,0,30.053137,-83.162903,Residential,Masonry,3',\n",
       " '300150,FL,LAFAYETTE COUNTY,630315,630315,630315,630315,630315,448815.8,0,12606.3,0,0,30.053137,-83.162903,Residential,Masonry,3',\n",
       " '604759,FL,LAFAYETTE COUNTY,1159911,1159911,1159911,1159911,1159911,843487.28,0,0,0,0,30.053137,-83.162903,Residential,Masonry,3',\n",
       " '374411,FL,LAFAYETTE COUNTY,165510,165510,165510,165510,165510,202077.78,0,3310.2,0,0,30.053137,-83.162903,Residential,Wood,3',\n",
       " '447691,FL,LAFAYETTE COUNTY,50850,50850,50850,50850,50850,77525.91,0,1017,0,0,30.05396,-83.168471,Residential,Wood,4',\n",
       " '735405,FL,LAFAYETTE COUNTY,1350,1350,1350,1350,1350,1778.11,0,27,0,0,30.05396,-83.168471,Residential,Wood,4',\n",
       " '476328,FL,LAFAYETTE COUNTY,900,900,900,900,900,1075.53,0,18,0,0,30.05396,-83.168471,Residential,Wood,4',\n",
       " '188892,FL,LAFAYETTE COUNTY,1350,1350,1350,1350,1350,1722.78,0,27,0,0,30.05396,-83.168471,Residential,Wood,4',\n",
       " '738918,FL,LAFAYETTE COUNTY,46260,46260,46260,46260,46260,70944.34,0,925.2,0,0,30.05396,-83.168471,Residential,Wood,4',\n",
       " '320338,FL,LAFAYETTE COUNTY,6687,6687,6687,6687,6687,8916.45,0,0,0,0,30.05396,-83.168471,Residential,Wood,4',\n",
       " '443947,FL,LAFAYETTE COUNTY,3600,3600,3600,3600,3600,4816.97,0,72,0,0,30.05396,-83.168471,Residential,Wood,4',\n",
       " '167317,FL,LAFAYETTE COUNTY,3600,3600,3600,3600,3600,6629.92,0,72,0,0,30.05396,-83.168471,Residential,Wood,4',\n",
       " '430437,FL,LAFAYETTE COUNTY,4950,4950,4950,4950,4950,6005.72,0,99,0,0,30.05396,-83.168471,Residential,Wood,4',\n",
       " '873593,FL,LAFAYETTE COUNTY,4950,4950,4950,4950,4950,6181.05,0,99,0,0,30.05396,-83.168471,Residential,Wood,4',\n",
       " '653808,FL,LAFAYETTE COUNTY,3510,3510,3510,3510,3510,5894.44,0,70.2,0,0,30.05396,-83.168471,Residential,Wood,4',\n",
       " '122734,FL,LAFAYETTE COUNTY,6750,6750,6750,6750,6750,10024.56,0,135,0,0,30.05396,-83.168471,Residential,Wood,4',\n",
       " '603486,FL,LAFAYETTE COUNTY,6750,6750,6750,6750,6750,6570.25,0,135,0,0,30.05396,-83.168471,Residential,Wood,4',\n",
       " '855783,FL,LAFAYETTE COUNTY,8730,8730,8730,8730,8730,12734.15,0,174.6,0,0,30.05396,-83.168471,Residential,Wood,4',\n",
       " '379870,FL,LAFAYETTE COUNTY,11700,11700,11700,11700,11700,9794.3,0,234,0,0,30.05396,-83.168471,Residential,Wood,4',\n",
       " '536577,FL,LAFAYETTE COUNTY,7290,7290,7290,7290,7290,5723.13,0,145.8,0,0,30.05396,-83.168471,Residential,Wood,4',\n",
       " '178873,FL,LAFAYETTE COUNTY,27450,27450,27450,27450,27450,38033.51,0,549,0,0,30.05396,-83.168471,Residential,Wood,4',\n",
       " '300562,FL,LAFAYETTE COUNTY,644667.3,644667.3,644667.3,644667.3,644667.3,865937.75,0,0,0,0,30.05396,-83.168471,Residential,Masonry,4',\n",
       " '555619,FL,LAFAYETTE COUNTY,1474668,1474668,1474668,1474668,1474668,1804462.75,0,0,0,0,30.05396,-83.168471,Residential,Masonry,4',\n",
       " '758060,FL,LAFAYETTE COUNTY,400446,400446,400446,400446,400446,601365.78,0,0,0,0,30.05396,-83.168471,Residential,Masonry,4',\n",
       " '489526,FL,LAFAYETTE COUNTY,366579,366579,366579,366579,366579,429078.89,0,0,0,0,30.05396,-83.168471,Residential,Masonry,4',\n",
       " '861565,FL,LAFAYETTE COUNTY,979389,979389,979389,979389,979389,999074.72,0,0,0,0,30.05396,-83.168471,Residential,Masonry,4',\n",
       " '692765,FL,LAFAYETTE COUNTY,463527,463527,463527,463527,463527,617189.91,0,0,0,0,30.05396,-83.168471,Residential,Masonry,4',\n",
       " '428588,FL,LAFAYETTE COUNTY,7290,7290,7290,7290,7290,9312.29,0,145.8,0,0,30.05396,-83.168471,Residential,Wood,4',\n",
       " '116583,FL,LAFAYETTE COUNTY,19440,19440,19440,19440,19440,31672.04,0,388.8,0,0,30.05396,-83.168471,Residential,Wood,4',\n",
       " '779587,FL,LAFAYETTE COUNTY,13698,13698,13698,13698,13698,11265.14,0,0,0,0,30.05396,-83.168471,Residential,Wood,4',\n",
       " '827888,FL,LAFAYETTE COUNTY,21150,21150,21150,21150,21150,17218.66,0,423,0,0,30.05396,-83.168471,Residential,Wood,4',\n",
       " '983194,FL,LAFAYETTE COUNTY,9270,9270,9270,9270,9270,13406.92,0,185.4,0,0,30.05396,-83.168471,Residential,Wood,4',\n",
       " '549068,FL,LAFAYETTE COUNTY,0,8999.56,0,0,8999.56,9788.64,0,0,0,0,30.052405,-83.16531,Residential,Wood,3',\n",
       " '116416,FL,LAFAYETTE COUNTY,0,16686.68,0,0,16686.68,23178.2,0,0,0,0,30.128805,-83.367525,Residential,Wood,3',\n",
       " '787983,FL,LAFAYETTE COUNTY,0,124578.27,0,0,124578.27,157491.85,0,0,0,0,30.056778,-83.184937,Residential,Wood,1',\n",
       " '473317,FL,LAFAYETTE COUNTY,0,478171.89,0,0,478171.89,539836.94,0,0,0,0,30.056746,-83.184563,Residential,Masonry,1',\n",
       " '139920,FL,LAFAYETTE COUNTY,0,54372.34,0,0,54372.34,86556.41,0,0,0,0,30.055723,-83.184151,Residential,Wood,4',\n",
       " '464379,FL,LAFAYETTE COUNTY,0,263732.02,0,0,263732.02,225245.61,0,0,0,0,29.919535,-83.268768,Residential,Wood,3',\n",
       " '110577,FL,LAFAYETTE COUNTY,0,56113.2,0,0,56113.2,58759.94,0,0,0,0,30.053036,-83.178116,Residential,Wood,3',\n",
       " '964532,FL,LAFAYETTE COUNTY,0,2888.71,0,0,2888.71,4492.52,0,0,0,0,30.009,-83.1852,Residential,Wood,3',\n",
       " '783365,FL,LAFAYETTE COUNTY,0,14441.29,0,0,14441.29,22502.42,0,0,0,0,30.009,-83.1852,Residential,Wood,3',\n",
       " '243580,FL,LAFAYETTE COUNTY,0,28881.46,0,0,28881.46,32148.56,0,0,0,0,30.009,-83.1852,Residential,Wood,3',\n",
       " '936931,FL,LAFAYETTE COUNTY,0,69355.91,0,0,69355.91,93015.29,0,0,0,0,30.009,-83.1852,Residential,Wood,3',\n",
       " '464273,FL,LAFAYETTE COUNTY,0,17800.23,0,0,17800.23,28708.21,0,0,0,0,30.05305,-83.17567,Residential,Wood,3',\n",
       " '142893,FL,LAFAYETTE COUNTY,0,61948.97,0,0,61948.97,77736.97,0,0,0,0,30.059355,-83.181244,Residential,Wood,1',\n",
       " '583948,FL,LAFAYETTE COUNTY,0,369572.73,0,0,369572.73,535138.35,0,0,0,0,30.059355,-83.181244,Residential,Masonry,1',\n",
       " '466262,FL,LAFAYETTE COUNTY,0,769255.8,0,0,769255.8,1145968.05,0,0,0,0,30.059355,-83.181244,Residential,Masonry,1',\n",
       " '868179,FL,CLAY COUNTY,255420,255420,255420,255420,255420,441715.69,0,0,0,0,30.0829,-81.8586,Residential,Wood,4',\n",
       " '368509,FL,CLAY COUNTY,150570,150570,150570,150570,150570,182508.91,0,0,0,0,30.06775,-81.86215,Residential,Wood,1',\n",
       " '825334,FL,CLAY COUNTY,68391,68391,68391,68391,68391,75344.45,0,0,0,0,30.068436,-81.86158,Residential,Wood,1',\n",
       " '584286,FL,CLAY COUNTY,0,13869.9,0,13869.9,13869.9,12628.82,0,0,0,0,30.1135,-81.81667,Residential,Wood,1',\n",
       " '426369,FL,CLAY COUNTY,0,232089.66,0,0,232089.66,248614.44,0,0,0,0,30.1135,-81.81667,Residential,Wood,1',\n",
       " '621175,FL,CLAY COUNTY,328500,328500,328500,328500,328500,576162.72,0,16425,0,0,30.104193,-81.830841,Residential,Wood,3',\n",
       " '740683,FL,CLAY COUNTY,487431,487431,0,0,487431,585121.92,0,0,0,0,30.09724,-81.76581,Residential,Masonry,1',\n",
       " '974438,FL,CLAY COUNTY,312602.4,312602.4,0,0,312602.4,528647.55,0,0,0,0,30.0829,-81.8586,Residential,Wood,3',\n",
       " '443137,FL,CLAY COUNTY,519750,519750,519750,519750,519750,858852.57,10395,25987.5,0,0,30.05849,-81.87852,Residential,Masonry,1',\n",
       " '174313,FL,CLAY COUNTY,0,237600,0,237600,237600,380753.05,0,0,0,0,30.07326,-81.86502,Residential,Wood,1',\n",
       " '515429,FL,CLAY COUNTY,0,714435.95,0,0,714435.95,1091029.43,0,0,0,0,30.114012,-81.864258,Residential,Masonry,1',\n",
       " '168714,FL,CLAY COUNTY,0,826097.81,0,0,826097.81,1127058.45,0,0,0,0,30.061861,-81.875496,Residential,Masonry,4',\n",
       " '967565,FL,CLAY COUNTY,0,835969.55,0,0,835969.55,780380.92,0,0,0,0,30.063147,-81.908852,Residential,Masonry,1',\n",
       " '216270,FL,CLAY COUNTY,0,1196984.13,0,0,1196984.13,1300086.36,0,0,0,0,30.03747,-81.89802,Residential,Masonry,1',\n",
       " '650875,FL,CLAY COUNTY,0,3163525.96,0,0,3163525.96,3865825.55,0,0,0,0,30.07319,-81.86408,Commercial,Reinforced Masonry,1',\n",
       " '971511,FL,CLAY COUNTY,0,50815.57,0,0,50815.57,57581.86,0,0,0,0,30.11291,-81.84491,Residential,Wood,1',\n",
       " '413953,FL,CLAY COUNTY,0,28869.12,0,0,28869.12,37841,0,0,0,0,30.0493,-81.854538,Residential,Wood,1',\n",
       " '450658,FL,CLAY COUNTY,0,28869.12,0,0,28869.12,32595.54,0,0,0,0,30.103096,-81.815826,Residential,Wood,1',\n",
       " '228299,FL,CLAY COUNTY,0,60946.79,0,0,60946.79,89079.82,0,0,0,0,30.067587,-81.864679,Residential,Wood,1',\n",
       " '717202,FL,CLAY COUNTY,0,56135.64,0,0,56135.64,65537.24,0,0,0,0,30.092952,-81.847483,Residential,Wood,3',\n",
       " '772804,FL,CLAY COUNTY,0,1924626.49,0,0,1924626.49,2724693.72,0,0,0,0,30.11626,-81.81556,Commercial,Reinforced Masonry,1',\n",
       " '932466,FL,CLAY COUNTY,0,3207710.82,0,0,3207710.82,3364247.11,0,0,0,0,30.11626,-81.81556,Commercial,Reinforced Masonry,1',\n",
       " '533299,FL,CLAY COUNTY,0,252172.7,0,0,252172.7,221584.15,0,0,0,0,30.070559,-81.863525,Residential,Wood,1',\n",
       " '284003,FL,CLAY COUNTY,0,75926.76,0,0,75926.76,66760.13,0,0,0,0,30.0829,-81.8586,Residential,Wood,3',\n",
       " '205704,FL,CLAY COUNTY,0,48462.72,0,0,48462.72,58258.49,0,0,0,0,30.12445,-81.87762,Residential,Wood,1',\n",
       " '346837,FL,CLAY COUNTY,0,50501.88,0,0,50501.88,47281.88,0,0,0,0,30.054485,-81.893448,Residential,Wood,1',\n",
       " '371665,FL,CLAY COUNTY,0,8978.11,0,0,8978.11,9940.79,0,0,0,0,30.054485,-81.893448,Residential,Wood,1',\n",
       " '574882,FL,CLAY COUNTY,0,948818.02,0,0,948818.02,1695575.76,0,0,0,0,30.06846,-81.8676,Residential,Masonry,1',\n",
       " '110888,FL,CLAY COUNTY,0,409783.44,0,0,409783.44,354257.79,0,0,0,0,30.100992,-81.955376,Residential,Masonry,1',\n",
       " '375055,FL,BAKER COUNTY,0,1115436.6,0,1115436.6,1115436.6,1102932.56,0,0,0,0,30.251375,-82.266145,Residential,Masonry,4',\n",
       " '482716,FL,BAKER COUNTY,0,218475,0,218475,218475,296798.29,0,0,0,0,30.251375,-82.266145,Residential,Wood,4',\n",
       " '603519,FL,BAKER COUNTY,0,3210.02,0,0,3210.02,2968.09,0,0,0,0,30.3758,-82.3528,Residential,Wood,4',\n",
       " '268570,FL,BAKER COUNTY,0,78672.59,0,0,78672.59,101150.37,0,0,0,0,30.20366,-82.432425,Residential,Wood,3',\n",
       " '820558,FL,CLAY COUNTY,0,1900458,0,0,1900458,2928377.72,0,0,0,0,30.16493,-81.732758,Commercial,Reinforced Masonry,1',\n",
       " '498729,FL,CLAY COUNTY,9377.1,9377.1,9377.1,9377.1,9377.1,12533.51,0,0,0,0,30.18743,-81.73131,Residential,Wood,1',\n",
       " '950716,FL,CLAY COUNTY,0,3060631.7,0,0,3060631.7,2745019.36,0,0,0,0,30.18367,-81.72813,Commercial,Reinforced Masonry,1',\n",
       " '128894,FL,CLAY COUNTY,0,520973.65,0,0,520973.65,907861.19,0,0,0,0,30.18584,-81.71522,Residential,Masonry,1',\n",
       " '881492,FL,CLAY COUNTY,0,520973.65,0,0,520973.65,755109.63,0,0,0,0,30.18584,-81.71522,Residential,Masonry,1',\n",
       " '321346,FL,CLAY COUNTY,0,520973.65,0,0,520973.65,514011.88,0,0,0,0,30.18584,-81.71522,Residential,Masonry,1',\n",
       " '581291,FL,CLAY COUNTY,0,520973.65,0,0,520973.65,432979.12,0,0,0,0,30.18584,-81.71522,Residential,Masonry,1',\n",
       " '370644,FL,CLAY COUNTY,0,520973.65,0,0,520973.65,869296.64,0,0,0,0,30.18584,-81.71522,Residential,Masonry,1',\n",
       " '545031,FL,CLAY COUNTY,0,520973.65,0,0,520973.65,540745.65,0,0,0,0,30.18584,-81.71522,Residential,Masonry,1',\n",
       " '201089,FL,CLAY COUNTY,0,520973.65,0,0,520973.65,418112.62,0,0,0,0,30.18584,-81.71522,Residential,Masonry,1',\n",
       " '790967,FL,CLAY COUNTY,0,549103.15,0,0,549103.15,546750.24,0,0,0,0,30.18584,-81.71522,Residential,Masonry,1',\n",
       " '558007,FL,CLAY COUNTY,0,549103.15,0,0,549103.15,801333.68,0,0,0,0,30.18584,-81.71522,Residential,Masonry,1',\n",
       " '125552,FL,CLAY COUNTY,0,549103.15,0,0,549103.15,818841.28,0,0,0,0,30.18584,-81.71522,Residential,Masonry,1',\n",
       " '527643,FL,CLAY COUNTY,0,549103.15,0,0,549103.15,615187.71,0,0,0,0,30.18584,-81.71522,Residential,Masonry,1',\n",
       " '110872,FL,CLAY COUNTY,0,549103.15,0,0,549103.15,386601.56,0,0,0,0,30.18584,-81.71522,Residential,Masonry,1',\n",
       " '893113,FL,CLAY COUNTY,1430834.4,1430834.4,1430834.4,1430834.4,1430834.4,1835036.53,0,0,0,0,30.165186,-81.700943,Residential,Masonry,1',\n",
       " '575211,FL,CLAY COUNTY,613728,613728,613728,613728,613728,1075947.42,0,0,0,0,30.18183,-81.74012,Residential,Masonry,1',\n",
       " '665536,FL,CLAY COUNTY,301320,301320,301320,301320,301320,334103.62,0,0,0,0,30.18183,-81.74012,Residential,Wood,1',\n",
       " '273487,FL,CLAY COUNTY,286110,286110,286110,286110,286110,361839.31,0,0,0,0,30.1648,-81.69774,Residential,Wood,1',\n",
       " '280674,FL,CLAY COUNTY,121950,121950,121950,121950,121950,189305.42,0,0,0,0,30.18241,-81.74075,Residential,Wood,1',\n",
       " '248341,FL,CLAY COUNTY,117000,117000,117000,117000,117000,86913.22,0,0,0,0,30.18133,-81.74089,Residential,Wood,1',\n",
       " '113250,FL,CLAY COUNTY,41130,41130,41130,41130,41130,43634.98,0,0,0,0,30.16397,-81.6985,Residential,Wood,1',\n",
       " '430658,FL,CLAY COUNTY,0,603802.98,0,0,603802.98,892702.18,0,0,0,0,30.16645,-81.73148,Residential,Masonry,1',\n",
       " '449510,FL,CLAY COUNTY,0,825721.38,0,0,825721.38,1167570.03,0,0,0,0,30.16645,-81.73148,Residential,Masonry,1',\n",
       " '814098,FL,CLAY COUNTY,0,35137.08,0,0,35137.08,42734.24,0,0,0,0,30.16645,-81.73148,Residential,Wood,1',\n",
       " '491496,FL,CLAY COUNTY,0,825721.38,0,0,825721.38,858163.97,0,0,0,0,30.16645,-81.73148,Residential,Masonry,1',\n",
       " '519546,FL,CLAY COUNTY,0,11790000,0,0,11790000,19170000,0,0,0,0,30.15403,-81.74996,Commercial,Reinforced Concrete,1',\n",
       " '399722,FL,CLAY COUNTY,595161,595161,595161,595161,595161,579353.52,0,0,0,0,30.15403,-81.74996,Residential,Masonry,1',\n",
       " '898714,FL,CLAY COUNTY,0,18000000,0,0,18000000,14760000,0,0,0,0,30.1885,-81.73646,Commercial,Reinforced Concrete,1',\n",
       " '284335,FL,CLAY COUNTY,1763384.4,1763384.4,0,0,1763384.4,2768823.86,0,0,0,0,30.145658,-81.736588,Residential,Masonry,1',\n",
       " '328660,FL,CLAY COUNTY,0,133841.37,0,0,133841.37,147953.61,0,0,0,0,30.1875,-81.70458,Residential,Wood,3',\n",
       " '939217,FL,CLAY COUNTY,0,55003.3,0,0,55003.3,53780.03,0,0,0,0,30.18693,-81.70631,Residential,Wood,4',\n",
       " '312341,FL,CLAY COUNTY,0,121007.27,0,0,121007.27,110788.45,0,0,0,0,30.158728,-81.697913,Residential,Wood,1',\n",
       " '851500,FL,CLAY COUNTY,0,116882.02,0,0,116882.02,115460.74,0,0,0,0,30.15883,-81.72215,Residential,Wood,3',\n",
       " '206063,FL,CLAY COUNTY,0,550033.04,0,0,550033.04,669280.21,0,0,0,0,30.163637,-81.702789,Residential,Masonry,1',\n",
       " '911054,FL,CLAY COUNTY,0,170510.24,0,0,170510.24,168595.07,0,0,0,0,30.17,-81.7381,Residential,Wood,4',\n",
       " '990316,FL,CLAY COUNTY,0,73337.74,0,0,73337.74,118125.1,0,0,0,0,30.16746,-81.70113,Residential,Wood,3',\n",
       " '998798,FL,CLAY COUNTY,0,22918.04,0,0,22918.04,27908.4,0,0,0,0,30.165535,-81.702881,Residential,Wood,1',\n",
       " '743895,FL,CLAY COUNTY,0,188798.84,0,0,188798.84,210330.97,0,0,0,0,30.165535,-81.702881,Residential,Wood,1',\n",
       " '183291,FL,CLAY COUNTY,0,19251.16,0,0,19251.16,16466.67,0,0,0,0,30.165516,-81.715584,Residential,Wood,1',\n",
       " '762494,FL,CLAY COUNTY,0,916.72,0,0,916.72,1411.28,0,0,0,0,30.17,-81.7381,Residential,Wood,4',\n",
       " '614159,FL,CLAY COUNTY,0,916.72,0,0,916.72,1435.17,0,0,0,0,30.17,-81.7381,Residential,Wood,4',\n",
       " '313157,FL,CLAY COUNTY,0,4583.61,0,0,4583.61,7078.93,0,0,0,0,30.174898,-81.715263,Residential,Wood,1',\n",
       " '549388,FL,CLAY COUNTY,0,9167.22,0,0,9167.22,11377.32,0,0,0,0,30.174898,-81.715263,Residential,Wood,1',\n",
       " '381206,FL,CLAY COUNTY,0,4583.61,0,0,4583.61,3480.06,0,0,0,0,30.165522,-81.715416,Residential,Wood,1',\n",
       " '903839,FL,CLAY COUNTY,0,4583.61,0,0,4583.61,6529.99,0,0,0,0,30.165522,-81.715416,Residential,Wood,1',\n",
       " '484007,FL,CLAY COUNTY,0,641705.22,0,0,641705.22,1060589.85,0,0,0,0,30.18131,-81.70875,Residential,Masonry,1',\n",
       " '758694,FL,CLAY COUNTY,0,91672.17,0,0,91672.17,79248.67,0,0,0,0,30.18131,-81.70875,Residential,Wood,1',\n",
       " '718473,FL,CLAY COUNTY,0,73337.74,0,0,73337.74,90816.18,0,0,0,0,30.18131,-81.70875,Residential,Wood,1',\n",
       " '310500,FL,CLAY COUNTY,0,506981.65,0,0,506981.65,815039.92,0,0,0,0,30.16706,-81.70423,Residential,Masonry,1',\n",
       " '951965,FL,CLAY COUNTY,0,22918.04,0,0,22918.04,17364.25,0,0,0,0,30.171112,-81.714462,Residential,Wood,1',\n",
       " '686067,FL,CLAY COUNTY,0,366688.7,0,0,366688.7,261217.29,0,0,0,0,30.18131,-81.70875,Residential,Masonry,1',\n",
       " '630246,FL,CLAY COUNTY,0,550033.04,0,0,550033.04,636331.03,0,0,0,0,30.18131,-81.70875,Residential,Masonry,1',\n",
       " '960864,FL,CLAY COUNTY,0,192511.57,0,0,192511.57,280797.37,0,0,0,0,30.18131,-81.70875,Residential,Wood,1',\n",
       " '368093,FL,CLAY COUNTY,0,68225.18,0,0,68225.18,61184.34,0,0,0,0,30.16706,-81.70423,Residential,Wood,1',\n",
       " '596039,FL,CLAY COUNTY,0,38502.31,0,0,38502.31,39192.51,0,0,0,0,30.16562,-81.71027,Residential,Wood,3',\n",
       " '793688,FL,CLAY COUNTY,0,128341.04,0,0,128341.04,183188.23,0,0,0,0,30.16523,-81.72343,Residential,Wood,3',\n",
       " '655727,FL,CLAY COUNTY,0,68754.13,0,0,68754.13,101921.12,0,0,0,0,30.165887,-81.701087,Residential,Wood,3',\n",
       " '203305,FL,CLAY COUNTY,0,1512590.87,0,0,1512590.87,2213561.78,0,0,0,0,30.18131,-81.70875,Residential,Masonry,1',\n",
       " '625673,FL,CLAY COUNTY,0,146675.48,0,0,146675.48,201356.1,0,0,0,0,30.168236,-81.706657,Residential,Wood,1',\n",
       " '484687,FL,CLAY COUNTY,0,110006.61,0,0,110006.61,131416.09,0,0,0,0,30.16995,-81.71704,Residential,Wood,1',\n",
       " '745529,FL,CLAY COUNTY,0,114590.22,0,0,114590.22,193812.39,0,0,0,0,30.171146,-81.713684,Residential,Wood,1',\n",
       " '595624,FL,CLAY COUNTY,0,84338.4,0,0,84338.4,137296.17,0,0,0,0,30.18131,-81.70875,Residential,Wood,1',\n",
       " '901277,FL,CLAY COUNTY,0,458360.87,0,0,458360.87,746211.5,0,0,0,0,30.18131,-81.70875,Residential,Masonry,1',\n",
       " '986412,FL,CLAY COUNTY,0,106339.72,0,0,106339.72,84582.61,0,0,0,0,30.165735,-81.706545,Residential,Wood,4',\n",
       " '555955,FL,CLAY COUNTY,354825,354825,354825,354825,354825,517395.53,7096.5,0,0,0,30.166,-81.73652,Residential,Wood,1',\n",
       " '817829,FL,CLAY COUNTY,3324844.8,3324844.8,3324844.8,3324844.8,3324844.8,2711597.13,0,0,0,0,30.1645,-81.73043,Commercial,Reinforced Masonry,1',\n",
       " '447682,FL,CLAY COUNTY,125233.2,125233.2,125233.2,125233.2,125233.2,149904.14,0,0,0,0,30.166,-81.73652,Residential,Wood,1',\n",
       " '791246,FL,CLAY COUNTY,36000,36000,36000,36000,36000,56598.91,720,1800,0,0,30.164837,-81.736275,Residential,Wood,1',\n",
       " '828195,FL,CLAY COUNTY,0,678705.08,0,0,678705.08,616576.41,0,0,0,0,30.16435,-81.73583,Residential,Masonry,1',\n",
       " '349231,FL,CLAY COUNTY,0,892627.93,0,0,892627.93,1265075.15,0,0,0,0,30.189608,-81.710739,Residential,Masonry,1',\n",
       " '327231,FL,CLAY COUNTY,0,1700649.1,0,0,1700649.1,2552555.25,0,0,0,0,30.165758,-81.700977,Residential,Masonry,1',\n",
       " '157885,FL,CLAY COUNTY,4086.9,4086.9,4086.9,4086.9,4086.9,3205.12,0,0,0,0,30.16585,-81.72028,Residential,Wood,1',\n",
       " '480677,FL,CLAY COUNTY,0,144346.71,0,0,144346.71,140002.3,0,0,0,0,30.134531,-81.756401,Residential,Wood,1',\n",
       " '469669,FL,CLAY COUNTY,0,96229.64,0,0,96229.64,103110.93,0,0,0,0,30.155815,-81.72789,Residential,Wood,1',\n",
       " '162340,FL,CLAY COUNTY,0,24057.97,0,0,24057.97,27217.07,0,0,0,0,30.178181,-81.738121,Residential,Wood,1',\n",
       " '368883,FL,CLAY COUNTY,0,80192.49,0,0,80192.49,91361.7,0,0,0,0,30.143473,-81.749275,Residential,Wood,1',\n",
       " '823110,FL,CLAY COUNTY,0,28869.12,0,0,28869.12,34879.55,0,0,0,0,30.17,-81.7381,Residential,Wood,3',\n",
       " '805930,FL,CLAY COUNTY,0,48115.94,0,0,48115.94,80360.6,0,0,0,0,30.188004,-81.722832,Residential,Wood,1',\n",
       " '615055,FL,CLAY COUNTY,0,56135.64,0,0,56135.64,52998.33,0,0,0,0,30.155966,-81.722023,Residential,Wood,1',\n",
       " '510571,FL,CLAY COUNTY,0,1590967.33,0,0,1590967.33,1637729.04,0,0,0,0,30.153979,-81.756129,Residential,Masonry,1',\n",
       " '599636,FL,CLAY COUNTY,0,56135.64,0,0,56135.64,55895.1,0,0,0,0,30.184318,-81.765649,Residential,Wood,3',\n",
       " '252174,FL,CLAY COUNTY,0,80192.49,0,0,80192.49,73183.67,0,0,0,0,30.172337,-81.769974,Residential,Wood,1',\n",
       " '801148,FL,CLAY COUNTY,0,99439.32,0,0,99439.32,116522.99,0,0,0,0,30.183268,-81.774712,Residential,Wood,3',\n",
       " '793447,FL,CLAY COUNTY,0,24057.97,0,0,24057.97,29023.54,0,0,0,0,30.17,-81.7381,Residential,Wood,3',\n",
       " '787827,FL,CLAY COUNTY,0,641542.16,0,0,641542.16,984780.05,0,0,0,0,30.17775,-81.71322,Residential,Masonry,1',\n",
       " '970645,FL,CLAY COUNTY,0,641542.16,0,0,641542.16,980917.97,0,0,0,0,30.14235,-81.74643,Residential,Masonry,1',\n",
       " '829730,FL,CLAY COUNTY,0,14400000,0,0,14400000,12330000,0,0,0,0,30.17775,-81.71322,Commercial,Reinforced Concrete,1',\n",
       " '693967,FL,CLAY COUNTY,0,904575.01,0,0,904575.01,856428.1,0,0,0,0,30.176002,-81.803262,Residential,Masonry,1',\n",
       " '780380,FL,CLAY COUNTY,0,2485482.37,0,0,2485482.37,4147275.88,0,0,0,0,30.178181,-81.738121,Commercial,Reinforced Masonry,1',\n",
       " '816959,FL,CLAY COUNTY,0,47135.08,0,0,47135.08,43057.9,0,0,0,0,30.188325,-81.73924,Residential,Wood,3',\n",
       " '575231,FL,CLAY COUNTY,0,436526.99,0,0,436526.99,490051.75,0,0,0,0,30.171484,-81.701393,Residential,Masonry,1',\n",
       " '625865,FL,CLAY COUNTY,0,57839.24,0,0,57839.24,96608.3,0,0,0,0,30.17,-81.7381,Residential,Wood,4',\n",
       " '132961,FL,CLAY COUNTY,0,5499407.39,0,0,5499407.39,4588881.51,0,0,0,0,30.16453,-81.70698,Commercial,Reinforced Masonry,1',\n",
       " '418645,FL,CLAY COUNTY,0,57235.46,0,0,57235.46,46391.63,0,0,0,0,30.17719,-81.73146,Residential,Wood,1',\n",
       " '451133,FL,CLAY COUNTY,0,39279.24,0,0,39279.24,35841.32,0,0,0,0,30.17719,-81.73146,Residential,Wood,1',\n",
       " '688245,FL,CLAY COUNTY,0,5611.32,0,0,5611.32,9043.11,0,0,0,0,30.17719,-81.73146,Residential,Wood,1',\n",
       " '516626,FL,CLAY COUNTY,0,3193.31,0,0,3193.31,4390.91,0,0,0,0,29.9794,-81.8105,Residential,Wood,4',\n",
       " '529970,FL,ST  JOHNS COUNTY,0,634316.76,0,0,634316.76,824358.06,0,0,0,0,29.798956,-81.264175,Residential,Masonry,4',\n",
       " '884768,FL,ST  JOHNS COUNTY,0,813700.8,0,813700.8,813700.8,1246690.52,0,0,0,0,29.798956,-81.264175,Residential,Masonry,4',\n",
       " '163481,FL,ST  JOHNS COUNTY,0,735104.7,0,735104.7,735104.7,743455.49,0,0,0,0,29.798956,-81.264175,Residential,Masonry,4',\n",
       " '758210,FL,ST  JOHNS COUNTY,7647876,7647876,7647876,7647876,7647876,10800000,0,0,0,0,29.884283,-81.289513,Commercial,Reinforced Masonry,1',\n",
       " '249945,FL,ST  JOHNS COUNTY,27432,27432,27432,27432,27432,30773.11,0,0,0,0,29.884283,-81.289513,Residential,Wood,1',\n",
       " '805642,FL,ST  JOHNS COUNTY,1026,1026,1026,1026,1026,1071.49,0,0,0,0,29.884283,-81.289513,Residential,Wood,1',\n",
       " '240151,FL,ST  JOHNS COUNTY,88569,88569,88569,88569,88569,76014.88,0,0,0,0,29.884283,-81.289513,Residential,Wood,1',\n",
       " '144321,FL,ST  JOHNS COUNTY,88569,88569,88569,88569,88569,75826.4,0,0,0,0,29.884283,-81.289513,Residential,Wood,1',\n",
       " '872373,FL,ST  JOHNS COUNTY,88569,88569,88569,88569,88569,81539.81,0,0,0,0,29.884283,-81.289513,Residential,Wood,1',\n",
       " '775283,FL,ST  JOHNS COUNTY,88569,88569,88569,88569,88569,112953.64,0,0,0,0,29.884283,-81.289513,Residential,Wood,1',\n",
       " '138616,FL,ST  JOHNS COUNTY,88569,88569,88569,88569,88569,83501.61,0,0,0,0,29.884283,-81.289513,Residential,Wood,1',\n",
       " '397202,FL,ST  JOHNS COUNTY,88569,88569,88569,88569,88569,69794.59,0,0,0,0,29.884283,-81.289513,Residential,Wood,1',\n",
       " '758276,FL,ST  JOHNS COUNTY,74331,74331,74331,74331,74331,99762.01,0,0,0,0,29.884283,-81.289513,Residential,Wood,1',\n",
       " '217068,FL,ST  JOHNS COUNTY,5508,5508,5508,5508,5508,6011.3,0,0,0,0,29.884283,-81.289513,Residential,Wood,1',\n",
       " '627387,FL,ST  JOHNS COUNTY,5508,5508,5508,5508,5508,6422.02,0,0,0,0,29.884283,-81.289513,Residential,Wood,1',\n",
       " '611518,FL,ST  JOHNS COUNTY,22068,22068,22068,22068,22068,22868.1,0,0,0,0,29.884283,-81.289513,Residential,Wood,1',\n",
       " '474581,FL,ST  JOHNS COUNTY,3681,3681,3681,3681,3681,2885.9,0,0,0,0,29.884283,-81.289513,Residential,Wood,1',\n",
       " '581062,FL,ST  JOHNS COUNTY,2205,2205,2205,2205,2205,2543.62,0,44.1,0,0,29.884283,-81.289513,Residential,Wood,1',\n",
       " '242620,FL,ST  JOHNS COUNTY,362762.1,362762.1,0,0,362762.1,303003.21,0,0,0,0,29.865076,-81.291664,Residential,Masonry,3',\n",
       " '599189,FL,ST  JOHNS COUNTY,331312.5,331312.5,0,0,331312.5,533946.54,0,0,0,0,29.815731,-81.263412,Residential,Wood,1',\n",
       " '240859,FL,ST  JOHNS COUNTY,0,777535.09,0,0,777535.09,1306912.08,0,0,0,0,29.768511,-81.253304,Residential,Masonry,4',\n",
       " '392938,FL,ST  JOHNS COUNTY,0,815202.73,0,0,815202.73,1004329.76,0,0,0,0,29.82688,-81.27173,Residential,Masonry,4',\n",
       " '868280,FL,ST  JOHNS COUNTY,0,625780.18,0,0,625780.18,683233.06,0,0,0,0,29.85755,-81.27143,Residential,Masonry,1',\n",
       " '640979,FL,ST  JOHNS COUNTY,0,552372.75,0,0,552372.75,519401.62,0,0,0,0,29.84483,-81.27835,Residential,Masonry,1',\n",
       " '924750,FL,ST  JOHNS COUNTY,0,63113.88,0,0,63113.88,53987.61,0,0,0,0,29.8365,-81.2746,Residential,Wood,3',\n",
       " '753749,FL,FLAGLER COUNTY,0,16409.74,0,0,16409.74,23428.39,0,0,0,0,29.671267,-81.214096,Residential,Wood,3',\n",
       " '218910,FL,ST  JOHNS COUNTY,0,694252.66,0,0,694252.66,862744.3,0,0,0,0,29.8365,-81.2746,Residential,Masonry,3',\n",
       " '716300,FL,ST  JOHNS COUNTY,0,56113.2,0,0,56113.2,48739.92,0,0,0,0,29.8365,-81.2746,Residential,Wood,4',\n",
       " '592140,FL,ST  JOHNS COUNTY,8531847,8531847,8531847,8531847,8531847,13140000,0,0,0,0,30.118494,-81.396019,Commercial,Reinforced Masonry,4',\n",
       " '405514,FL,ST  JOHNS COUNTY,16740000,16740000,16740000,16740000,16740000,20610000,0,0,0,0,30.118494,-81.396019,Commercial,Reinforced Concrete,4',\n",
       " '201544,FL,ST  JOHNS COUNTY,975978,975978,975978,975978,975978,1398311.01,0,0,0,0,30.118494,-81.396019,Residential,Masonry,4',\n",
       " '952351,FL,ST  JOHNS COUNTY,25902,25902,25902,25902,25902,24398.83,0,0,0,0,30.118494,-81.396019,Residential,Wood,4',\n",
       " '453419,FL,ST  JOHNS COUNTY,2754,2754,2754,2754,2754,4887.8,0,0,0,0,30.118494,-81.396019,Residential,Wood,4',\n",
       " '636902,FL,ST  JOHNS COUNTY,1836,1836,1836,1836,1836,2527.48,0,0,0,0,30.118494,-81.396019,Residential,Wood,4',\n",
       " '836032,FL,ST  JOHNS COUNTY,2880,2880,2880,2880,2880,4178.44,0,57.6,0,0,30.118494,-81.396019,Residential,Wood,4',\n",
       " '587845,FL,ST  JOHNS COUNTY,15993,15993,15993,15993,15993,17384.65,0,0,0,0,30.118494,-81.396019,Residential,Wood,4',\n",
       " '268554,FL,ST  JOHNS COUNTY,16731,16731,16731,16731,16731,20673.23,0,0,0,0,30.118494,-81.396019,Residential,Wood,4',\n",
       " '218318,FL,ST  JOHNS COUNTY,39348,39348,39348,39348,39348,35792.36,0,0,0,0,30.118494,-81.396019,Residential,Wood,4',\n",
       " '429098,FL,ST  JOHNS COUNTY,70317,70317,70317,70317,70317,71723.34,0,0,0,0,30.118494,-81.396019,Residential,Wood,4',\n",
       " '904790,FL,ST  JOHNS COUNTY,12411,12411,12411,12411,12411,10108.31,0,0,0,0,30.118494,-81.396019,Residential,Wood,4',\n",
       " '341035,FL,ST  JOHNS COUNTY,202500,202500,202500,202500,202500,169111.8,0,6075,0,0,30.06621,-81.439835,Residential,Wood,1',\n",
       " '766044,FL,ST  JOHNS COUNTY,0,84169.79,0,0,84169.79,134593.05,0,0,0,0,30.19237,-81.38138,Residential,Wood,4',\n",
       " '900080,FL,ST  JOHNS COUNTY,0,1105429.95,0,0,1105429.95,1217821.23,0,0,0,0,30.1089,-81.41702,Residential,Masonry,3',\n",
       " '736640,FL,ST  JOHNS COUNTY,0,171004.96,0,0,171004.96,187971.39,0,0,0,0,30.0992,-81.428,Residential,Wood,4',\n",
       " '876566,FL,ST  JOHNS COUNTY,0,67279.72,0,0,67279.72,108322.84,0,0,0,0,30.0992,-81.428,Residential,Wood,4',\n",
       " '937515,FL,ST  JOHNS COUNTY,0,17423.15,0,0,17423.15,19984.49,0,0,0,0,30.1089,-81.41702,Residential,Wood,3',\n",
       " '123359,FL,ST  JOHNS COUNTY,0,157390.78,0,0,157390.78,198199.06,0,0,0,0,30.0992,-81.428,Residential,Wood,4',\n",
       " '147295,FL,ST  JOHNS COUNTY,0,1284191.96,0,0,1284191.96,1642977.22,0,0,0,0,30.19693,-81.38306,Residential,Masonry,4',\n",
       " '638119,FL,ST  JOHNS COUNTY,0,121860,0,0,121860,169294.61,0,6093,0,0,30.19693,-81.38306,Residential,Wood,4',\n",
       " '686788,FL,ST  JOHNS COUNTY,264600,264600,264600,264600,264600,293714.47,0,0,0,0,30.1771,-81.37728,Residential,Wood,1',\n",
       " '293065,FL,ST  JOHNS COUNTY,0,4402306.26,0,0,4402306.26,6428987.19,0,0,0,0,30.17893,-81.38799,Commercial,Reinforced Masonry,1',\n",
       " '180193,FL,ST  JOHNS COUNTY,0,1221475.86,0,0,1221475.86,1465184.72,0,0,0,0,30.17893,-81.38799,Residential,Masonry,1',\n",
       " '772617,FL,ST  JOHNS COUNTY,0,22191.84,0,0,22191.84,27778.77,0,0,0,0,30.223768,-81.383942,Residential,Wood,4',\n",
       " '403715,FL,ST  JOHNS COUNTY,166599,166599,166599,166599,166599,137403.52,0,0,0,0,30.214384,-81.380943,Residential,Wood,4',\n",
       " '361295,FL,ST  JOHNS COUNTY,26487,26487,26487,26487,26487,24895.93,0,0,0,0,30.214384,-81.380943,Residential,Wood,4',\n",
       " '927744,FL,ST  JOHNS COUNTY,17982,17982,17982,17982,17982,12187.12,0,0,0,0,30.214384,-81.380943,Residential,Wood,4',\n",
       " '216775,FL,ST  JOHNS COUNTY,179622,179622,179622,179622,179622,267395.91,0,0,0,0,30.214384,-81.380943,Residential,Wood,4',\n",
       " '594385,FL,ST  JOHNS COUNTY,918,918,918,918,918,1273.12,0,0,0,0,30.214384,-81.380943,Residential,Wood,4',\n",
       " '197723,FL,ST  JOHNS COUNTY,112149,112149,112149,112149,112149,144151.39,0,0,0,0,30.214384,-81.380943,Residential,Wood,4',\n",
       " '578894,FL,ST  JOHNS COUNTY,918,918,918,918,918,1255.38,0,0,0,0,30.214384,-81.380943,Residential,Wood,4',\n",
       " '768448,FL,ST  JOHNS COUNTY,19575,19575,19575,19575,19575,25830.23,0,391.5,0,0,30.16474,-81.39129,Residential,Wood,1',\n",
       " '481388,FL,ST  JOHNS COUNTY,74331,74331,74331,74331,74331,109824.35,0,0,0,0,30.16474,-81.39129,Residential,Wood,1',\n",
       " '313664,FL,ST  JOHNS COUNTY,74331,74331,74331,74331,74331,63844.23,0,0,0,0,30.16474,-81.39129,Residential,Wood,1',\n",
       " '731719,FL,ST  JOHNS COUNTY,74331,74331,74331,74331,74331,74026.54,0,0,0,0,30.16474,-81.39129,Residential,Wood,1',\n",
       " '308578,FL,ST  JOHNS COUNTY,1377,1377,1377,1377,1377,1858.84,0,0,0,0,30.16474,-81.39129,Residential,Wood,1',\n",
       " '121709,FL,ST  JOHNS COUNTY,243774,243774,243774,243774,243774,361565.6,0,0,0,0,30.16474,-81.39129,Residential,Wood,1',\n",
       " '716004,FL,ST  JOHNS COUNTY,2754,2754,2754,2754,2754,4348.7,0,0,0,0,30.16474,-81.39129,Residential,Wood,1',\n",
       " ...]"
      ]
     },
     "execution_count": 38,
     "metadata": {},
     "output_type": "execute_result"
    }
   ],
   "source": [
    "file_rdd.collect()"
   ]
  },
  {
   "cell_type": "code",
   "execution_count": 39,
   "metadata": {
    "deletable": false,
    "nbgrader": {
     "cell_type": "code",
     "checksum": "463ac01f3e510fb04c9cea6f96e25658",
     "grade": false,
     "grade_id": "cell-ed5c6a9bbd1923f3",
     "locked": false,
     "schema_version": 3,
     "solution": true
    }
   },
   "outputs": [],
   "source": [
    "def get_county(sc, rdd):\n",
    "    \"\"\"\n",
    "    From the FL insurance RDD, return a RDD containing all of the county.\n",
    "    We assume the csv is correctly formatted and every line has the correct number of elements.\n",
    "    \"\"\"\n",
    "    splitted = rdd.map(lambda sentence: sentence.split(\",\")) #Split string by comma\n",
    "    #print(result.collect())\n",
    "    \n",
    "    countys = splitted.map(lambda x: x[2])\n",
    "    #print(countys.collect())\n",
    "    return countys\n",
    "\n",
    "def county_count(sc, rdd):\n",
    "    \"\"\"\n",
    "    Return a RDD of key,value with county as key, count as values\n",
    "    \"\"\"\n",
    "    # YOUR CODE HERE\n",
    "    res = rdd.map(lambda word: (word, 1))\n",
    "    #print(res.collect())\n",
    "    \n",
    "    ans = res.reduceByKey(lambda x,y: x+y)\n",
    "    print(ans.collect())\n",
    "    return ans"
   ]
  },
  {
   "cell_type": "code",
   "execution_count": 40,
   "metadata": {},
   "outputs": [
    {
     "name": "stdout",
     "output_type": "stream",
     "text": [
      "[('CLAY COUNTY', 346), ('SUWANNEE COUNTY', 154), ('NASSAU COUNTY', 135), ('COLUMBIA COUNTY', 124), ('ST  JOHNS COUNTY', 657), ('BAKER COUNTY', 70), ('BRADFORD COUNTY', 29), ('HAMILTON COUNTY', 35), ('UNION COUNTY', 8), ('MADISON COUNTY', 81), ('LAFAYETTE COUNTY', 68), ('FLAGLER COUNTY', 204), ('DUVAL COUNTY', 1894), ('LAKE COUNTY', 14), ('VOLUSIA COUNTY', 833), ('PUTNAM COUNTY', 245), ('MARION COUNTY', 50), ('SUMTER COUNTY', 9), ('LEON COUNTY', 246), ('FRANKLIN COUNTY', 37), ('LIBERTY COUNTY', 36), ('GADSDEN COUNTY', 196), ('WAKULLA COUNTY', 85), ('JEFFERSON COUNTY', 57), ('TAYLOR COUNTY', 113), ('BAY COUNTY', 403), ('WALTON COUNTY', 288), ('JACKSON COUNTY', 208), ('CALHOUN COUNTY', 68), ('HOLMES COUNTY', 40), ('WASHINGTON COUNTY', 116), ('GULF COUNTY', 72), ('ESCAMBIA COUNTY', 494), ('SANTA ROSA COUNTY', 856), ('OKALOOSA COUNTY', 1115), ('ALACHUA COUNTY', 614)]\n"
     ]
    }
   ],
   "source": [
    "county_rdd = get_county(sc, file_rdd)\n",
    "dictio = county_count(sc, county_rdd)"
   ]
  },
  {
   "cell_type": "code",
   "execution_count": 41,
   "metadata": {
    "deletable": false,
    "editable": false,
    "nbgrader": {
     "cell_type": "code",
     "checksum": "821af9f3206153c629ae7299ff14eb31",
     "grade": true,
     "grade_id": "cell-971c355420b23d94",
     "locked": true,
     "points": 4,
     "schema_version": 3,
     "solution": false
    }
   },
   "outputs": [
    {
     "name": "stdout",
     "output_type": "stream",
     "text": [
      "[('CLAY COUNTY', 346), ('SUWANNEE COUNTY', 154), ('NASSAU COUNTY', 135), ('COLUMBIA COUNTY', 124), ('ST  JOHNS COUNTY', 657), ('BAKER COUNTY', 70), ('BRADFORD COUNTY', 29), ('HAMILTON COUNTY', 35), ('UNION COUNTY', 8), ('MADISON COUNTY', 81), ('LAFAYETTE COUNTY', 68), ('FLAGLER COUNTY', 204), ('DUVAL COUNTY', 1894), ('LAKE COUNTY', 14), ('VOLUSIA COUNTY', 833), ('PUTNAM COUNTY', 245), ('MARION COUNTY', 50), ('SUMTER COUNTY', 9), ('LEON COUNTY', 246), ('FRANKLIN COUNTY', 37), ('LIBERTY COUNTY', 36), ('GADSDEN COUNTY', 196), ('WAKULLA COUNTY', 85), ('JEFFERSON COUNTY', 57), ('TAYLOR COUNTY', 113), ('BAY COUNTY', 403), ('WALTON COUNTY', 288), ('JACKSON COUNTY', 208), ('CALHOUN COUNTY', 68), ('HOLMES COUNTY', 40), ('WASHINGTON COUNTY', 116), ('GULF COUNTY', 72), ('ESCAMBIA COUNTY', 494), ('SANTA ROSA COUNTY', 856), ('OKALOOSA COUNTY', 1115), ('ALACHUA COUNTY', 614)]\n"
     ]
    }
   ],
   "source": [
    "\"\"\"\n",
    "Graded cell\n",
    "\n",
    "4 points\n",
    "\"\"\"\n",
    "\n",
    "# CAREFUL: some tests are invisible so don't try to output a dictionary with what looks like the correct answers :)\n",
    "file_rdd = filter_header(sc, load_file_to_rdd(sc, filePath))\n",
    "county_rdd = get_county(sc, file_rdd)\n",
    "\n",
    "result = dict(county_count(sc, county_rdd).collect())\n",
    "assert result.get('CLAY COUNTY') == 346"
   ]
  },
  {
   "cell_type": "markdown",
   "metadata": {
    "deletable": false,
    "editable": false,
    "nbgrader": {
     "cell_type": "markdown",
     "checksum": "d75cbf099ce2aee9652f18abbfc32e05",
     "grade": false,
     "grade_id": "cell-de77b5cdcf65a673",
     "locked": true,
     "schema_version": 3,
     "solution": false
    }
   },
   "source": [
    "# Postrequisites"
   ]
  },
  {
   "cell_type": "code",
   "execution_count": 42,
   "metadata": {
    "deletable": false,
    "editable": false,
    "nbgrader": {
     "cell_type": "code",
     "checksum": "85beee12fb356dd852fe0fe380ef93c0",
     "grade": false,
     "grade_id": "stop-sc",
     "locked": true,
     "schema_version": 3,
     "solution": false
    }
   },
   "outputs": [],
   "source": [
    "sc.stop()"
   ]
  },
  {
   "cell_type": "code",
   "execution_count": null,
   "metadata": {},
   "outputs": [],
   "source": []
  }
 ],
 "metadata": {
  "kernelspec": {
   "display_name": "Python 3",
   "language": "python",
   "name": "python3"
  },
  "language_info": {
   "codemirror_mode": {
    "name": "ipython",
    "version": 3
   },
   "file_extension": ".py",
   "mimetype": "text/x-python",
   "name": "python",
   "nbconvert_exporter": "python",
   "pygments_lexer": "ipython3",
   "version": "3.7.6"
  }
 },
 "nbformat": 4,
 "nbformat_minor": 1
}
